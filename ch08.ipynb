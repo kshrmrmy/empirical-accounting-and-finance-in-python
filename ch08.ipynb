{
 "cells": [
  {
   "cell_type": "markdown",
   "metadata": {},
   "source": [
    "## 第8章 イベント・スタディ\n",
    "\n",
    "### 8.3 決算発表のイベント・スタディを例にしたRでの実践\n",
    "\n",
    "#### 8.3.1 イベントの特定"
   ]
  },
  {
   "cell_type": "code",
   "execution_count": 1,
   "metadata": {
    "colab": {
     "base_uri": "https://localhost:8080/"
    },
    "executionInfo": {
     "elapsed": 1084,
     "status": "ok",
     "timestamp": 1686464078650,
     "user": {
      "displayName": "Katsuhiko Muramiya",
      "userId": "14255974330568111549"
     },
     "user_tz": -540
    },
    "id": "SWn3gc72s8zl",
    "outputId": "14bc2144-cce1-4ffe-9fce-59e86187a786"
   },
   "outputs": [
    {
     "data": {
      "text/html": [
       "<div>\n",
       "<style scoped>\n",
       "    .dataframe tbody tr th:only-of-type {\n",
       "        vertical-align: middle;\n",
       "    }\n",
       "\n",
       "    .dataframe tbody tr th {\n",
       "        vertical-align: top;\n",
       "    }\n",
       "\n",
       "    .dataframe thead th {\n",
       "        text-align: right;\n",
       "    }\n",
       "</style>\n",
       "<table border=\"1\" class=\"dataframe\">\n",
       "  <thead>\n",
       "    <tr style=\"text-align: right;\">\n",
       "      <th></th>\n",
       "      <th>firm_ID</th>\n",
       "      <th>date</th>\n",
       "      <th>R</th>\n",
       "    </tr>\n",
       "  </thead>\n",
       "  <tbody>\n",
       "    <tr>\n",
       "      <th>0</th>\n",
       "      <td>1</td>\n",
       "      <td>2016-01-04</td>\n",
       "      <td>-0.012449</td>\n",
       "    </tr>\n",
       "    <tr>\n",
       "      <th>1</th>\n",
       "      <td>1</td>\n",
       "      <td>2016-01-05</td>\n",
       "      <td>-0.009189</td>\n",
       "    </tr>\n",
       "    <tr>\n",
       "      <th>2</th>\n",
       "      <td>1</td>\n",
       "      <td>2016-01-06</td>\n",
       "      <td>0.032097</td>\n",
       "    </tr>\n",
       "    <tr>\n",
       "      <th>3</th>\n",
       "      <td>1</td>\n",
       "      <td>2016-01-07</td>\n",
       "      <td>-0.029258</td>\n",
       "    </tr>\n",
       "    <tr>\n",
       "      <th>4</th>\n",
       "      <td>1</td>\n",
       "      <td>2016-01-08</td>\n",
       "      <td>-0.023952</td>\n",
       "    </tr>\n",
       "  </tbody>\n",
       "</table>\n",
       "</div>"
      ],
      "text/plain": [
       "   firm_ID       date         R\n",
       "0        1 2016-01-04 -0.012449\n",
       "1        1 2016-01-05 -0.009189\n",
       "2        1 2016-01-06  0.032097\n",
       "3        1 2016-01-07 -0.029258\n",
       "4        1 2016-01-08 -0.023952"
      ]
     },
     "metadata": {},
     "output_type": "display_data"
    },
    {
     "data": {
      "text/html": [
       "<div>\n",
       "<style scoped>\n",
       "    .dataframe tbody tr th:only-of-type {\n",
       "        vertical-align: middle;\n",
       "    }\n",
       "\n",
       "    .dataframe tbody tr th {\n",
       "        vertical-align: top;\n",
       "    }\n",
       "\n",
       "    .dataframe thead th {\n",
       "        text-align: right;\n",
       "    }\n",
       "</style>\n",
       "<table border=\"1\" class=\"dataframe\">\n",
       "  <thead>\n",
       "    <tr style=\"text-align: right;\">\n",
       "      <th></th>\n",
       "      <th>date</th>\n",
       "      <th>R_M</th>\n",
       "    </tr>\n",
       "  </thead>\n",
       "  <tbody>\n",
       "    <tr>\n",
       "      <th>0</th>\n",
       "      <td>2016-01-04</td>\n",
       "      <td>-0.004356</td>\n",
       "    </tr>\n",
       "    <tr>\n",
       "      <th>1</th>\n",
       "      <td>2016-01-05</td>\n",
       "      <td>-0.006662</td>\n",
       "    </tr>\n",
       "    <tr>\n",
       "      <th>2</th>\n",
       "      <td>2016-01-06</td>\n",
       "      <td>0.021631</td>\n",
       "    </tr>\n",
       "    <tr>\n",
       "      <th>3</th>\n",
       "      <td>2016-01-07</td>\n",
       "      <td>-0.025959</td>\n",
       "    </tr>\n",
       "    <tr>\n",
       "      <th>4</th>\n",
       "      <td>2016-01-08</td>\n",
       "      <td>-0.013409</td>\n",
       "    </tr>\n",
       "  </tbody>\n",
       "</table>\n",
       "</div>"
      ],
      "text/plain": [
       "        date       R_M\n",
       "0 2016-01-04 -0.004356\n",
       "1 2016-01-05 -0.006662\n",
       "2 2016-01-06  0.021631\n",
       "3 2016-01-07 -0.025959\n",
       "4 2016-01-08 -0.013409"
      ]
     },
     "metadata": {},
     "output_type": "display_data"
    },
    {
     "data": {
      "text/html": [
       "<div>\n",
       "<style scoped>\n",
       "    .dataframe tbody tr th:only-of-type {\n",
       "        vertical-align: middle;\n",
       "    }\n",
       "\n",
       "    .dataframe tbody tr th {\n",
       "        vertical-align: top;\n",
       "    }\n",
       "\n",
       "    .dataframe thead th {\n",
       "        text-align: right;\n",
       "    }\n",
       "</style>\n",
       "<table border=\"1\" class=\"dataframe\">\n",
       "  <thead>\n",
       "    <tr style=\"text-align: right;\">\n",
       "      <th></th>\n",
       "      <th>firm_ID</th>\n",
       "      <th>event_date</th>\n",
       "      <th>realized_earnings</th>\n",
       "      <th>earnings_forecast</th>\n",
       "      <th>lagged_ME</th>\n",
       "    </tr>\n",
       "  </thead>\n",
       "  <tbody>\n",
       "    <tr>\n",
       "      <th>0</th>\n",
       "      <td>1</td>\n",
       "      <td>2017-05-08</td>\n",
       "      <td>421.79</td>\n",
       "      <td>500.38</td>\n",
       "      <td>8285.87</td>\n",
       "    </tr>\n",
       "    <tr>\n",
       "      <th>1</th>\n",
       "      <td>2</td>\n",
       "      <td>2017-08-28</td>\n",
       "      <td>131.49</td>\n",
       "      <td>144.13</td>\n",
       "      <td>1551.31</td>\n",
       "    </tr>\n",
       "    <tr>\n",
       "      <th>2</th>\n",
       "      <td>3</td>\n",
       "      <td>2017-10-17</td>\n",
       "      <td>459.30</td>\n",
       "      <td>463.03</td>\n",
       "      <td>3154.17</td>\n",
       "    </tr>\n",
       "    <tr>\n",
       "      <th>3</th>\n",
       "      <td>4</td>\n",
       "      <td>2017-10-17</td>\n",
       "      <td>976.94</td>\n",
       "      <td>1298.48</td>\n",
       "      <td>19323.19</td>\n",
       "    </tr>\n",
       "    <tr>\n",
       "      <th>4</th>\n",
       "      <td>5</td>\n",
       "      <td>2017-02-09</td>\n",
       "      <td>706.28</td>\n",
       "      <td>779.63</td>\n",
       "      <td>9351.80</td>\n",
       "    </tr>\n",
       "  </tbody>\n",
       "</table>\n",
       "</div>"
      ],
      "text/plain": [
       "   firm_ID event_date  realized_earnings  earnings_forecast  lagged_ME\n",
       "0        1 2017-05-08             421.79             500.38    8285.87\n",
       "1        2 2017-08-28             131.49             144.13    1551.31\n",
       "2        3 2017-10-17             459.30             463.03    3154.17\n",
       "3        4 2017-10-17             976.94            1298.48   19323.19\n",
       "4        5 2017-02-09             706.28             779.63    9351.80"
      ]
     },
     "metadata": {},
     "output_type": "display_data"
    }
   ],
   "source": [
    "# ch08_01: 外部パッケージとデータの読み込み\n",
    "\n",
    "import pandas as pd\n",
    "import numpy as np\n",
    "import matplotlib.pyplot as plt\n",
    "import seaborn as sns\n",
    "import statsmodels.formula.api as smf\n",
    "\n",
    "# pandasのバージョンによっては，将来の仕様変更に関する警告が発せられるため，それを非表示に\n",
    "import warnings\n",
    "warnings.filterwarnings(\"ignore\")\n",
    "\n",
    "# parse_dates引数を指定し，特定の列は日付形式にしてCSVファイルを読み込む\n",
    "return_data = pd.read_csv(\"ch08_return_data.csv\", parse_dates=['date'])\n",
    "market_return_data = pd.read_csv(\"ch08_market_return_data.csv\", parse_dates=['date'])\n",
    "event_data = pd.read_csv(\"ch08_event_data.csv\", parse_dates=['event_date'])\n",
    "\n",
    "# 各データの冒頭を確認\n",
    "display(return_data.head()) \n",
    "display(market_return_data.head())\n",
    "display(event_data.head())"
   ]
  },
  {
   "cell_type": "markdown",
   "metadata": {},
   "source": [
    "#### 8.3.2 グループ分けの方法 "
   ]
  },
  {
   "cell_type": "code",
   "execution_count": 2,
   "metadata": {
    "executionInfo": {
     "elapsed": 11,
     "status": "ok",
     "timestamp": 1686464078650,
     "user": {
      "displayName": "Katsuhiko Muramiya",
      "userId": "14255974330568111549"
     },
     "user_tz": -540
    },
    "id": "VDa9E8SMv6At"
   },
   "outputs": [],
   "source": [
    "# ch08_02: イベントIDを付与した上で予想利益サプライズを計算\n",
    "\n",
    "# イベントIDを付与\n",
    "event_data['event_ID'] = range(len(event_data))\n",
    "\n",
    "# 予想利益サプライズを計算\n",
    "event_data['forecast_innovation'] = (\n",
    "    (event_data['earnings_forecast'] - event_data['realized_earnings']) \n",
    "    / event_data['lagged_ME']\n",
    ")\n",
    "\n",
    "# 日付データから年度を抽出\n",
    "event_data['year'] = event_data['event_date'].dt.year\n",
    "\n",
    "# 各年度ごとにイベントの強弱を5段階に区分\n",
    "event_data['event_strength'] = event_data.groupby('year')['forecast_innovation'].transform(\n",
    "    lambda x: pd.qcut(x, 5, labels=False) + 1\n",
    ")\n",
    "# コードch06_11に記載の通り，Rのntile()関数とPythonのqcut()関数では，\n",
    "# サンプルを均等にグループ分けできない場合の処理の仕方が異なるので，\n",
    "# 以下の一部のアウトプットでは，教科書のそれと微妙に異なるケースが出てくるので要注意．\n",
    "\n",
    "# event_strengthをカテゴリ型へ変換\n",
    "event_data['event_strength'] = event_data['event_strength'].astype('category')  "
   ]
  },
  {
   "cell_type": "markdown",
   "metadata": {},
   "source": [
    "#### 8.3.3 相対日次の設定"
   ]
  },
  {
   "cell_type": "code",
   "execution_count": 3,
   "metadata": {
    "executionInfo": {
     "elapsed": 9,
     "status": "ok",
     "timestamp": 1686464078650,
     "user": {
      "displayName": "Katsuhiko Muramiya",
      "userId": "14255974330568111549"
     },
     "user_tz": -540
    },
    "id": "PchTvj0Xwh19"
   },
   "outputs": [],
   "source": [
    "# ch08_03: パラメータの準備\n",
    "\n",
    "N_days = len(market_return_data)  # データに含まれる日数をカウント\n",
    "N_firms = return_data['firm_ID'].nunique()  # 企業の固有数をカウント\n",
    "N_events = len(event_data)  # イベント数をカウント\n",
    "\n",
    "N1 = 100  # モデルの推定期間\n",
    "N2 = 30  # イベント前の分析期間\n",
    "N3 = 30  # イベント後の分析期間"
   ]
  },
  {
   "cell_type": "code",
   "execution_count": 4,
   "metadata": {
    "executionInfo": {
     "elapsed": 515,
     "status": "ok",
     "timestamp": 1686464079157,
     "user": {
      "displayName": "Katsuhiko Muramiya",
      "userId": "14255974330568111549"
     },
     "user_tz": -540
    },
    "id": "Az2ovhELxP8J"
   },
   "outputs": [],
   "source": [
    "# ch08_04: 日付IDの付与\n",
    "\n",
    "# 各営業日に日付IDを順番に付与\n",
    "market_return_data['date_ID'] = range(N_days)\n",
    "\n",
    "# 各営業日と日付IDを紐付けるデータテーブルを作成\n",
    "data_ID_table = market_return_data[['date', 'date_ID']]\n",
    "\n",
    "# リターン・データに日付IDを付与\n",
    "return_data = return_data.merge(\n",
    "    data_ID_table, \n",
    "    on='date', \n",
    "    how='outer'\n",
    ")\n",
    "\n",
    "# イベント・データに日付IDを付与\n",
    "event_data = event_data.merge(\n",
    "    data_ID_table, \n",
    "    left_on='event_date', \n",
    "    right_on='date', \n",
    "    how='left'\n",
    ")\n",
    "\n",
    "# 不要な列を削除\n",
    "event_data = event_data[['event_ID', 'date_ID', 'firm_ID', 'event_strength']]\n",
    "\n",
    "# 後のステップで列名の重複を避けるために列名を変更\n",
    "event_data.rename(columns={'date_ID': 'event_date_ID'}, inplace=True)"
   ]
  },
  {
   "cell_type": "code",
   "execution_count": 5,
   "metadata": {
    "colab": {
     "base_uri": "https://localhost:8080/",
     "height": 424
    },
    "executionInfo": {
     "elapsed": 9,
     "status": "ok",
     "timestamp": 1686464079157,
     "user": {
      "displayName": "Katsuhiko Muramiya",
      "userId": "14255974330568111549"
     },
     "user_tz": -540
    },
    "id": "0YWbaOFbyHcw",
    "outputId": "417e0253-1041-447d-8307-dfe30d39ea21"
   },
   "outputs": [],
   "source": [
    "# ch08_05: 各データセットを統合して単一のデータフレームに (1)\n",
    "\n",
    "# date列が重複するので削除\n",
    "return_data = return_data.drop(columns=['date'])\n",
    "\n",
    "# 市場ポートフォリオのリターンと結合\n",
    "return_data = return_data.merge(\n",
    "    market_return_data, \n",
    "    on='date_ID', \n",
    "    how='outer'\n",
    ")"
   ]
  },
  {
   "cell_type": "code",
   "execution_count": 6,
   "metadata": {
    "colab": {
     "base_uri": "https://localhost:8080/",
     "height": 424
    },
    "executionInfo": {
     "elapsed": 459,
     "status": "ok",
     "timestamp": 1686464079610,
     "user": {
      "displayName": "Katsuhiko Muramiya",
      "userId": "14255974330568111549"
     },
     "user_tz": -540
    },
    "id": "RDYIK3dIyurH",
    "outputId": "432b98f8-1d55-44de-cc8d-1dcc6942228c"
   },
   "outputs": [],
   "source": [
    "# ch08_06: 各データセットを統合して単一のデータフレームに (2)\n",
    "\n",
    "# イベント・データとリターン・データを結合する上で骨格となるデータフレームを作成\n",
    "full_sample_data = pd.DataFrame({\n",
    "    'event_ID': list(range(N_events)) * (N1 + N2 + N3 + 1),\n",
    "    'relative_days': list(range(-(N1 + N2), N3 + 1)) * N_events\n",
    "})\n",
    "\n",
    "# event_IDとrelative_daysによるデータのソート\n",
    "full_sample_data.sort_values(by=['event_ID', 'relative_days'], inplace=True)\n",
    "\n",
    "# インデックスをリセット\n",
    "full_sample_data.reset_index(drop=True, inplace=True)"
   ]
  },
  {
   "cell_type": "code",
   "execution_count": 7,
   "metadata": {
    "colab": {
     "base_uri": "https://localhost:8080/",
     "height": 424
    },
    "executionInfo": {
     "elapsed": 314,
     "status": "ok",
     "timestamp": 1686464079914,
     "user": {
      "displayName": "Katsuhiko Muramiya",
      "userId": "14255974330568111549"
     },
     "user_tz": -540
    },
    "id": "09lJaFW9zpkC",
    "outputId": "5c9351a1-0ab0-485f-c015-a2e9ceb3a5c3"
   },
   "outputs": [],
   "source": [
    "# ch08_07: 各データセットを統合して単一のデータフレームに (3)\n",
    "\n",
    "# イベント・データと結合\n",
    "full_sample_data = full_sample_data.merge(\n",
    "    event_data, \n",
    "    on='event_ID', \n",
    "    how='outer'\n",
    ")\n",
    "\n",
    "# event_date_IDとrelative_daysからdate_IDを逆算（取引時間終了後の決算発表を仮定して1日足す）\n",
    "full_sample_data['date_ID'] = (\n",
    "    full_sample_data['event_date_ID'] + \n",
    "    full_sample_data['relative_days'] + \n",
    "    1\n",
    ")\n",
    "\n",
    "# リターン・データと結合\n",
    "full_sample_data = full_sample_data.merge(\n",
    "    return_data, \n",
    "    on=['firm_ID', 'date_ID'], \n",
    "    how='left'\n",
    ")\n",
    "\n",
    "# 不要な列を削除\n",
    "full_sample_data = full_sample_data[['event_ID', 'event_strength', 'relative_days', 'R', 'R_M']]"
   ]
  },
  {
   "cell_type": "markdown",
   "metadata": {},
   "source": [
    "#### 8.3.4 異常リターンの算定 "
   ]
  },
  {
   "cell_type": "code",
   "execution_count": 8,
   "metadata": {
    "executionInfo": {
     "elapsed": 53920,
     "status": "ok",
     "timestamp": 1686464133827,
     "user": {
      "displayName": "Katsuhiko Muramiya",
      "userId": "14255974330568111549"
     },
     "user_tz": -540
    },
    "id": "CDOT-VUi0zxJ"
   },
   "outputs": [],
   "source": [
    "# ch08_08: マーケット・モデルの推定 (1)\n",
    "\n",
    "# 推定期間のデータのみ抽出\n",
    "estimation_window_data = full_sample_data[full_sample_data['relative_days'] < -N2]\n",
    "\n",
    "# 推定結果を保存するための空のリストを準備\n",
    "market_model_results = []\n",
    "\n",
    "for i in range(N_events):\n",
    "\n",
    "    # マーケット・モデルの推定\n",
    "    lm_results = smf.ols(\n",
    "        'R ~ R_M', \n",
    "        data=estimation_window_data[estimation_window_data['event_ID'] == i]\n",
    "    ).fit()\n",
    "\n",
    "    # 推定結果を整形\n",
    "    tidied_lm_results = lm_results.summary2().tables[1]\n",
    "    \n",
    "    # 推定対象のイベントIDを保存\n",
    "    tidied_lm_results.insert(0, 'event_ID', i)  \n",
    "\n",
    "    # マーケット・モデルの推定により得られた残差の標準誤差を抽出してsigma_ARと保存\n",
    "    tidied_lm_results['sigma_AR'] = lm_results.resid.std()  \n",
    "    # std()では自由度の調整が行われないため，Rの結果と誤差が生じる\n",
    "    # Rと同様，自由度を考慮してsigma_ARを計算する場合，以下のように書けば良い\n",
    "    # df_residual = len(lm_results.resid) - (lm_results.df_model + 1)\n",
    "    # tidied_lm_results['sigma_AR'] = np.sqrt(np.sum(lm_results.resid**2) / df_residual)\n",
    "\n",
    "    # リストの一要素として推定結果を保存\n",
    "    market_model_results.append(tidied_lm_results)\n",
    "\n",
    "# pandasのconcat()関数を用いて複数のデータフレームから構成されるリストを一つのデータフレームに統合\n",
    "market_model_results = pd.concat(market_model_results)"
   ]
  },
  {
   "cell_type": "code",
   "execution_count": 9,
   "metadata": {
    "colab": {
     "base_uri": "https://localhost:8080/",
     "height": 424
    },
    "executionInfo": {
     "elapsed": 18,
     "status": "ok",
     "timestamp": 1686464133829,
     "user": {
      "displayName": "Katsuhiko Muramiya",
      "userId": "14255974330568111549"
     },
     "user_tz": -540
    },
    "id": "5Ml3MzGN3mKc",
    "outputId": "3a3fb10c-9a52-42bf-9f6d-7137f7be2596"
   },
   "outputs": [],
   "source": [
    "# ch08_09: マーケット・モデルの推定 (2)\n",
    "\n",
    "wider_market_model_results = (\n",
    "    market_model_results.reset_index()\n",
    "    .pivot_table(index=['event_ID', 'sigma_AR'], columns='index', values='Coef.')\n",
    "    .rename(columns={'Intercept': 'alpha', 'R_M': 'beta'})\n",
    "    .reset_index()\n",
    ")\n",
    "\n",
    "# full_sample_dataに結合\n",
    "full_sample_data = full_sample_data.merge(\n",
    "    wider_market_model_results, \n",
    "    on='event_ID', \n",
    "    how='outer'\n",
    ")\n",
    "\n",
    "# sigma_AR を最終列に移動\n",
    "full_sample_data = full_sample_data[\n",
    "    [col for col in full_sample_data.columns if col != 'sigma_AR'] + ['sigma_AR']\n",
    "] "
   ]
  },
  {
   "cell_type": "code",
   "execution_count": 10,
   "metadata": {
    "executionInfo": {
     "elapsed": 457,
     "status": "ok",
     "timestamp": 1686464134272,
     "user": {
      "displayName": "Katsuhiko Muramiya",
      "userId": "14255974330568111549"
     },
     "user_tz": -540
    },
    "id": "qVQcmLHW9d-5"
   },
   "outputs": [],
   "source": [
    "# ch08_10: 累積異常リターン（CAR）の計算\n",
    "\n",
    "# イベント期間のデータを抽出\n",
    "event_window_data = (\n",
    "    full_sample_data[full_sample_data['relative_days'] >= -N2]\n",
    "    .copy()\n",
    "    .reset_index(drop=True)\n",
    ")\n",
    "\n",
    "# ノーマルリターンを計算\n",
    "event_window_data['R_normal'] = (\n",
    "    event_window_data['alpha'] + event_window_data['beta'] * event_window_data['R_M']  \n",
    ") \n",
    "\n",
    "# 異常リターンを計算\n",
    "event_window_data['AR'] = (\n",
    "    event_window_data['R'] - event_window_data['R_normal']  \n",
    ") \n",
    "\n",
    "# 累積異常リターン（CAR）を計算\n",
    "event_window_data['CAR'] = event_window_data.groupby('event_ID')['AR'].cumsum()"
   ]
  },
  {
   "cell_type": "markdown",
   "metadata": {},
   "source": [
    "#### 8.3.5 異常リターンの集計と結果の解釈 "
   ]
  },
  {
   "cell_type": "code",
   "execution_count": 11,
   "metadata": {
    "colab": {
     "base_uri": "https://localhost:8080/",
     "height": 458
    },
    "executionInfo": {
     "elapsed": 615,
     "status": "ok",
     "timestamp": 1686464134870,
     "user": {
      "displayName": "Katsuhiko Muramiya",
      "userId": "14255974330568111549"
     },
     "user_tz": -540
    },
    "id": "iHxLqjTG9qb-",
    "outputId": "119e3574-a404-44aa-9508-5c25ca59d5af"
   },
   "outputs": [
    {
     "data": {
      "image/png": "[encoded data removed]",
      "text/plain": [
       "<Figure size 640x480 with 1 Axes>"
      ]
     },
     "metadata": {},
     "output_type": "display_data"
    }
   ],
   "source": [
    "# ch08_11: イベントの強弱に応じて平均CARの推移を可視化\n",
    "\n",
    "# CARの平均値を計算\n",
    "mean_CAR_by_event_strength = (\n",
    "    event_window_data.groupby(['relative_days', 'event_strength'])['CAR']\n",
    "    .mean()\n",
    "    .reset_index()\n",
    "    .rename(columns={'CAR': 'mean_CAR'})  # 列名をmean_CARへと変更\n",
    ")\n",
    "\n",
    "# CARを%表示に\n",
    "mean_CAR_by_event_strength['mean_CAR'] = mean_CAR_by_event_strength['mean_CAR'] * 100 \n",
    "\n",
    "# seabornを利用して折れ線グラフを描画\n",
    "sns.lineplot(\n",
    "    data=mean_CAR_by_event_strength, \n",
    "    x=\"relative_days\", \n",
    "    y=\"mean_CAR\", \n",
    "    hue=\"event_strength\", \n",
    "    palette='tab10'\n",
    ")\n",
    "\n",
    "# イベント発生期間を灰色で強調\n",
    "plt.axvspan(-1, 0, facecolor='gray', alpha=0.1)\n",
    "\n",
    "# x軸とy軸のラベルの設定\n",
    "plt.xlabel(\"Relative Days\")\n",
    "plt.ylabel(\"Mean CAR (%)\")\n",
    "plt.legend(title='Event Strength')\n",
    "plt.show()"
   ]
  },
  {
   "cell_type": "code",
   "execution_count": 12,
   "metadata": {
    "colab": {
     "base_uri": "https://localhost:8080/",
     "height": 424
    },
    "executionInfo": {
     "elapsed": 29,
     "status": "ok",
     "timestamp": 1686464134871,
     "user": {
      "displayName": "Katsuhiko Muramiya",
      "userId": "14255974330568111549"
     },
     "user_tz": -540
    },
    "id": "w8eTY9MWBy23",
    "outputId": "271e835e-5e6b-4e40-d18f-0be7580990c2"
   },
   "outputs": [],
   "source": [
    "# ch08_12: ARを利用した統計的検定 (1)\n",
    "\n",
    "output_table = event_window_data[event_window_data['event_strength'] == 5].groupby('relative_days').agg(\n",
    "    mean_AR=('AR', 'mean'),\n",
    "    mean_CAR=('CAR', 'mean'),\n",
    "    sigma_mean_AR=('sigma_AR', lambda x: (x ** 2).sum() ** 0.5 / len(x))\n",
    ").reset_index()"
   ]
  },
  {
   "cell_type": "code",
   "execution_count": 13,
   "metadata": {
    "colab": {
     "base_uri": "https://localhost:8080/",
     "height": 424
    },
    "executionInfo": {
     "elapsed": 23,
     "status": "ok",
     "timestamp": 1686464134872,
     "user": {
      "displayName": "Katsuhiko Muramiya",
      "userId": "14255974330568111549"
     },
     "user_tz": -540
    },
    "id": "UcZlGKMjCeHY",
    "outputId": "14ea0d10-a8a7-4794-85c5-61099b78d67d"
   },
   "outputs": [],
   "source": [
    "# ch08_13: ARを利用した統計的検定 (2)\n",
    "\n",
    "# SciPyライブラリから正規分布に関連する機能をインポート\n",
    "from scipy.stats import norm \n",
    "\n",
    "# t値を計算\n",
    "output_table['t_value'] = output_table['mean_AR'] / output_table['sigma_mean_AR']  \n",
    "\n",
    "# 対応するp値を計算\n",
    "output_table['p_value'] = (1 - norm.cdf(abs(output_table['t_value']))) * 2  \n",
    "\n",
    "output_table = (\n",
    "    output_table\n",
    "    .assign(\n",
    "        # 統計的に有意な結果を*で強調\n",
    "        significance=pd.cut(\n",
    "            output_table['p_value'], \n",
    "            bins=[0, 0.01, 0.05, 0.1, 1], \n",
    "            labels=['***', '**', '*', ''], \n",
    "            include_lowest=True\n",
    "        ),\n",
    "        # mean_ARの桁数を変更し、パーセント表示に\n",
    "        mean_AR=(output_table['mean_AR'] * 100).round(5),  \n",
    "        # t_valueの桁数を変更\n",
    "        t_value=output_table['t_value'].round(2),  \n",
    "        # p_valueの桁数を変更\n",
    "        p_value=output_table['p_value'].round(2),  \n",
    "        # mean_CARの桁数を変更し、パーセント表示に\n",
    "        mean_CAR=(output_table['mean_CAR'] * 100).round(5)  \n",
    "    )\n",
    "    .filter(\n",
    "        # 列の順序を変更\n",
    "        ['relative_days', 'mean_AR', 't_value', 'p_value', 'significance', 'mean_CAR']\n",
    "    )\n",
    ")"
   ]
  },
  {
   "cell_type": "code",
   "execution_count": 14,
   "metadata": {},
   "outputs": [
    {
     "data": {
      "text/html": [
       "<details>\n",
       "<summary>Click to view session information</summary>\n",
       "<pre>\n",
       "-----\n",
       "matplotlib          3.8.0\n",
       "numpy               1.26.3\n",
       "pandas              2.2.0\n",
       "scipy               1.11.4\n",
       "seaborn             0.13.2\n",
       "session_info        1.0.0\n",
       "statsmodels         0.14.0\n",
       "-----\n",
       "IPython             8.20.0\n",
       "jupyter_client      8.6.0\n",
       "jupyter_core        5.5.0\n",
       "jupyterlab          4.0.11\n",
       "notebook            7.0.6\n",
       "-----\n",
       "Python 3.11.7 | packaged by conda-forge | (main, Dec 23 2023, 14:38:07) [Clang 16.0.6 ]\n",
       "macOS-14.3-arm64-arm-64bit\n",
       "-----\n",
       "Session information updated at 2024-02-04 09:06\n",
       "</pre>\n",
       "</details>"
      ],
      "text/plain": [
       "<IPython.core.display.HTML object>"
      ]
     },
     "execution_count": 14,
     "metadata": {},
     "output_type": "execute_result"
    }
   ],
   "source": [
    "# 以上のコードについて，動作確認をした実行環境の表示\n",
    "# 本セルは，実行環境の確認のためであり，無視してもらっても構わない\n",
    "import session_info\n",
    "session_info.show(dependencies=False)"
   ]
  }
 ],
 "metadata": {
  "colab": {
   "authorship_tag": "ABX9TyPS56vwnEJIm6eSDbGk+YOb",
   "provenance": [
    {
     "file_id": "1ZTe1_PICb9BpWPB2tx5uKRib4L39ZFPk",
     "timestamp": 1686457434594
    }
   ]
  },
  "kernelspec": {
   "display_name": "Python 3 (ipykernel)",
   "language": "python",
   "name": "python3"
  },
  "language_info": {
   "codemirror_mode": {
    "name": "ipython",
    "version": 3
   },
   "file_extension": ".py",
   "mimetype": "text/x-python",
   "name": "python",
   "nbconvert_exporter": "python",
   "pygments_lexer": "ipython3",
   "version": "3.11.7"
  }
 },
 "nbformat": 4,
 "nbformat_minor": 4
}
