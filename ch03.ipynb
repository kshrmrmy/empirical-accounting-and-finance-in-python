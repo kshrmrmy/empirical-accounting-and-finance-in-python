{
 "cells": [
  {
   "cell_type": "markdown",
   "metadata": {
    "id": "oeg4M_iRNtka"
   },
   "source": [
    "## 第3章 Rの導入\n",
    "\n",
    "### 3.1 Rの基本的な機能\n",
    "\n",
    "#### 3.1.1 スカラー変数の定義"
   ]
  },
  {
   "cell_type": "code",
   "execution_count": 1,
   "metadata": {
    "colab": {
     "base_uri": "https://localhost:8080/"
    },
    "executionInfo": {
     "elapsed": 601,
     "status": "ok",
     "timestamp": 1685600549837,
     "user": {
      "displayName": "Katsuhiko Muramiya",
      "userId": "14255974330568111549"
     },
     "user_tz": -540
    },
    "id": "KUhtlR0jNtkc",
    "outputId": "37526f73-2a4d-4f36-e289-c89aa9352a81"
   },
   "outputs": [
    {
     "name": "stdout",
     "output_type": "stream",
     "text": [
      "0.1\n"
     ]
    }
   ],
   "source": [
    "# ch03_01: 無リスク金利の値を格納する変数Rを作成\n",
    "\n",
    "R = 0.1  # Rは<-演算子を用いるが，Pythonでは=演算子を用いる\n",
    "print(R)\n",
    "\n",
    "## 0.1"
   ]
  },
  {
   "cell_type": "markdown",
   "metadata": {
    "id": "0M1wH9ODNtkd"
   },
   "source": [
    "#### 3.1.2 ベクトル変数の定義"
   ]
  },
  {
   "cell_type": "code",
   "execution_count": 2,
   "metadata": {
    "id": "GHHpaD7qNtkd"
   },
   "outputs": [],
   "source": [
    "# ch03_02: 2次元の無リスク金利ベクトルを作成\n",
    "\n",
    "R = [0.1, 0.2]\n",
    "\n",
    "# これ以後，教科書と同様，可読性を重視してprint()関数は挿入しない\n",
    "## [0.1, 0.2]"
   ]
  },
  {
   "cell_type": "code",
   "execution_count": 3,
   "metadata": {
    "executionInfo": {
     "elapsed": 325,
     "status": "ok",
     "timestamp": 1685667298140,
     "user": {
      "displayName": "Katsuhiko Muramiya",
      "userId": "14255974330568111549"
     },
     "user_tz": -540
    },
    "id": "AcnBf_88Ntke"
   },
   "outputs": [],
   "source": [
    "# ch03_03: 11次元の無リスク金利ベクトルを作成\n",
    "\n",
    "# NumPyライブラリの読み込み\n",
    "import numpy as np  \n",
    "\n",
    "R = np.linspace(0.1, 0.2, 11)  # NumPyのlinspace()関数を利用した場合\n",
    "\n",
    "## [0.1  0.11 0.12 0.13 0.14 0.15 0.16 0.17 0.18 0.19 0.2 ]"
   ]
  },
  {
   "cell_type": "code",
   "execution_count": 4,
   "metadata": {
    "colab": {
     "base_uri": "https://localhost:8080/"
    },
    "executionInfo": {
     "elapsed": 3,
     "status": "ok",
     "timestamp": 1685601461289,
     "user": {
      "displayName": "Katsuhiko Muramiya",
      "userId": "14255974330568111549"
     },
     "user_tz": -540
    },
    "id": "A-08J1NRNtke",
    "outputId": "477f3043-2ab6-4c02-f9a6-494a07401b05"
   },
   "outputs": [
    {
     "data": {
      "text/plain": [
       "array([0.11, 0.12, 0.13, 0.14, 0.15, 0.16, 0.17, 0.18, 0.19, 0.2 ])"
      ]
     },
     "execution_count": 4,
     "metadata": {},
     "output_type": "execute_result"
    }
   ],
   "source": [
    "# ch03_04: ベクトルの要素へのアクセス\n",
    "\n",
    "# 注意：Rのインデックスは'1'から，Pythonは'0'から始まる\n",
    "# 第2要素（インデックス1）へのアクセス\n",
    "R[1]\n",
    "i = 1\n",
    "R[i]\n",
    "\n",
    "## 0.11\n",
    "\n",
    "# 第2-第5要素へのアクセス\n",
    "R[1:5]  # [i:j]とすることでi <= x < jの範囲が選択される\n",
    "\n",
    "## [0.11 0.12 0.13 0.14]\n",
    "\n",
    "# 第2-第11要素へのアクセス\n",
    "R[1:len(R)]  # len(R)はRの次元11を返す\n",
    "R[1:]  # 第2要素以降の全ての要素へアクセス\n",
    "\n",
    "## [0.11 0.12 0.13 0.14 0.15 0.16 0.17 0.18 0.19 0.2 ]"
   ]
  },
  {
   "cell_type": "code",
   "execution_count": 5,
   "metadata": {
    "id": "KRJMDkYaNtkf"
   },
   "outputs": [],
   "source": [
    "# ch03_05: 1年後の確実な100万円の現在価値\n",
    "\n",
    "PV = 100 / (1 + R)\n",
    "\n",
    "## [90.90909091 90.09009009 89.28571429 88.49557522 87.71929825 \n",
    "## 86.95652174 86.20689655 85.47008547 84.74576271 84.03361345 83.33333333]"
   ]
  },
  {
   "cell_type": "code",
   "execution_count": 6,
   "metadata": {
    "id": "aG7Rqr2nNtkg"
   },
   "outputs": [],
   "source": [
    "# ch03_06: 次元が一致するベクトル同士の割り算\n",
    "\n",
    "# CFを11次元の等差数列として定義\n",
    "CF = np.linspace(110, 120, 11)  \n",
    "\n",
    "PV = CF / (1 + R)\n",
    "\n",
    "##  [100. 100. 100. 100. 100. 100. 100. 100. 100. 100. 100.]"
   ]
  },
  {
   "cell_type": "markdown",
   "metadata": {
    "id": "OS1RdDqeNtkh"
   },
   "source": [
    "#### 3.1.3 基本パッケージによる作図"
   ]
  },
  {
   "cell_type": "code",
   "execution_count": 7,
   "metadata": {
    "colab": {
     "base_uri": "https://localhost:8080/",
     "height": 448
    },
    "executionInfo": {
     "elapsed": 567,
     "status": "ok",
     "timestamp": 1685601470165,
     "user": {
      "displayName": "Katsuhiko Muramiya",
      "userId": "14255974330568111549"
     },
     "user_tz": -540
    },
    "id": "nubqJGZNNtkh",
    "outputId": "88bdab6b-0813-4fc1-ebdd-ebc6bb203fd3"
   },
   "outputs": [
    {
     "data": {
      "text/plain": [
       "[<matplotlib.lines.Line2D at 0x11694add0>]"
      ]
     },
     "execution_count": 7,
     "metadata": {},
     "output_type": "execute_result"
    },
    {
     "data": {
      "image/png": "[encoded data removed]",
      "text/plain": [
       "<Figure size 640x480 with 1 Axes>"
      ]
     },
     "metadata": {},
     "output_type": "display_data"
    }
   ],
   "source": [
    "# ch03_07: 割引率と現在価値の関係を描画\n",
    "\n",
    "# matplotlibライブラリのpyplotモジュールを読み込み\n",
    "import matplotlib.pyplot as plt  \n",
    "\n",
    "PV = 100 / (1 + R)\n",
    "plt.plot(PV)  # plt.plot()関数で折れ線グラフを描画"
   ]
  },
  {
   "cell_type": "code",
   "execution_count": 8,
   "metadata": {
    "colab": {
     "base_uri": "https://localhost:8080/",
     "height": 490
    },
    "executionInfo": {
     "elapsed": 967,
     "status": "ok",
     "timestamp": 1685601528902,
     "user": {
      "displayName": "Katsuhiko Muramiya",
      "userId": "14255974330568111549"
     },
     "user_tz": -540
    },
    "id": "VKN9iHcYNtkh",
    "outputId": "41fab076-fce8-4ab1-fd74-d7c603bb16ad"
   },
   "outputs": [
    {
     "data": {
      "image/png": "[encoded data removed]",
      "text/plain": [
       "<Figure size 640x480 with 1 Axes>"
      ]
     },
     "metadata": {},
     "output_type": "display_data"
    }
   ],
   "source": [
    "# ch03_08: 割引率と現在価値の関係を表した図の見栄えを改善\n",
    "\n",
    "PV = 100 / (1 + R)\n",
    "\n",
    "plt.plot(R, PV)\n",
    "plt.xlabel('Discount Rate')\n",
    "plt.ylabel('Present Value')\n",
    "plt.title('Figure: Effect of Discount Rate on Present Value')\n",
    "plt.show()  # 描画した図を表示する関数"
   ]
  },
  {
   "cell_type": "code",
   "execution_count": 9,
   "metadata": {},
   "outputs": [
    {
     "data": {
      "text/plain": [
       "<Figure size 640x480 with 0 Axes>"
      ]
     },
     "metadata": {},
     "output_type": "display_data"
    }
   ],
   "source": [
    "# ch03_09: 割引率と現在価値の関係を表した図をPNG形式で出力\n",
    "\n",
    "plt.savefig('PV.png') "
   ]
  },
  {
   "cell_type": "code",
   "execution_count": 10,
   "metadata": {
    "colab": {
     "base_uri": "https://localhost:8080/"
    },
    "executionInfo": {
     "elapsed": 251,
     "status": "ok",
     "timestamp": 1685578200026,
     "user": {
      "displayName": "Katsuhiko Muramiya",
      "userId": "14255974330568111549"
     },
     "user_tz": -540
    },
    "id": "R2M9-wgPNtki",
    "outputId": "04098082-8eb0-43dd-dde3-1b7211bee5dd"
   },
   "outputs": [],
   "source": [
    "# ch03_10: 3行2列の行列の作成\n",
    "\n",
    "# NumPyのarange()関数で1から6までの等差数列を作成後，reshape()メソッドにより形状変換\n",
    "x = np.arange(1, 7).reshape(3, 2)  \n",
    "\n",
    "## [[1 2]\n",
    "## [3 4]\n",
    "## [5 6]]"
   ]
  },
  {
   "cell_type": "code",
   "execution_count": 11,
   "metadata": {
    "id": "FnDRyp8FNtki"
   },
   "outputs": [],
   "source": [
    "# ch03_11: 文字を要素とする行列の作成\n",
    "\n",
    "y = np.matrix(\"'a', 'b'; 'c', 'd'\")\n",
    "\n",
    "## [['a' 'b']\n",
    "## ['c' 'd']]"
   ]
  },
  {
   "cell_type": "code",
   "execution_count": 12,
   "metadata": {
    "colab": {
     "base_uri": "https://localhost:8080/"
    },
    "executionInfo": {
     "elapsed": 454,
     "status": "ok",
     "timestamp": 1685601759767,
     "user": {
      "displayName": "Katsuhiko Muramiya",
      "userId": "14255974330568111549"
     },
     "user_tz": -540
    },
    "id": "h4JmNCi-Ntkj",
    "outputId": "4d39b883-92c7-4864-ab30-acdda738ec3e"
   },
   "outputs": [
    {
     "data": {
      "text/plain": [
       "['ABC']"
      ]
     },
     "execution_count": 12,
     "metadata": {},
     "output_type": "execute_result"
    }
   ],
   "source": [
    "# ch03_12: リストの作成\n",
    "\n",
    "# 二つの要素を持つリストxを定義\n",
    "x = [[10, 11], ['ABC']]  \n",
    "\n",
    "x[0]  # リストxの一つ目の要素を表示\n",
    "## [10, 11]\n",
    "\n",
    "x[1]  # リストxの二つ目の要素を表示\n",
    "## ['ABC']"
   ]
  },
  {
   "cell_type": "code",
   "execution_count": 13,
   "metadata": {
    "id": "xwwKK71hNtkj"
   },
   "outputs": [],
   "source": [
    "# ch03_13: データフレームの作成\n",
    "\n",
    "# pandasライブラリの読み込み\n",
    "import pandas as pd  \n",
    "\n",
    "ID = [1001, 1002, 1003]\n",
    "name = [\"Firm A\", \"Firm B\", \"Firm C\"]\n",
    "ROE = [0.08, 0.12, 0.15]\n",
    "\n",
    "x = pd.DataFrame({'ID': ID, 'name': name, 'ROE': ROE})\n",
    "##      ID    name   ROE\n",
    "## 0  1001  Firm A  0.08\n",
    "## 1  1002  Firm B  0.12\n",
    "## 2  1003  Firm C  0.15"
   ]
  },
  {
   "cell_type": "markdown",
   "metadata": {
    "id": "jZTWD94WNtkj"
   },
   "source": [
    "### 3.2 for文の使い方\n",
    "\n",
    "#### 3.2.1 NPVの計算例"
   ]
  },
  {
   "cell_type": "code",
   "execution_count": 14,
   "metadata": {
    "id": "srJivdbANtkj"
   },
   "outputs": [],
   "source": [
    "# ch03_14: 割引率を0.1とする場合のプロジェクトXのNPVの計算\n",
    "\n",
    "R = 0.1\n",
    "NPV = -100 + 50 / (1 + R) + 50 / (1 + R) ** 2 + 50 / (1 + R) ** 3  # Pythonでは冪乗を計算するのに**演算子を使う\n",
    "\n",
    "## 24.3425995492111"
   ]
  },
  {
   "cell_type": "markdown",
   "metadata": {
    "id": "6zeneUzqNtkk"
   },
   "source": [
    "#### 3.2.2 for文を用いたNPVの計算"
   ]
  },
  {
   "cell_type": "code",
   "execution_count": 15,
   "metadata": {
    "colab": {
     "base_uri": "https://localhost:8080/"
    },
    "executionInfo": {
     "elapsed": 263,
     "status": "ok",
     "timestamp": 1685578985410,
     "user": {
      "displayName": "Katsuhiko Muramiya",
      "userId": "14255974330568111549"
     },
     "user_tz": -540
    },
    "id": "j8KRAzJ2Ntkk",
    "outputId": "794dbb28-9bf7-4d3f-ac1a-4a93bde7b927"
   },
   "outputs": [
    {
     "name": "stdout",
     "output_type": "stream",
     "text": [
      "24.3425995492111\n"
     ]
    }
   ],
   "source": [
    "# ch03_15: for文を用いたプロジェクトXのNPVの計算 (1)\n",
    "\n",
    "R = 0.1\n",
    "NPV = -100\n",
    "for i in range(1, 4):  # range()は指定した範囲の整数の要素を生成（ただし，終点4は含まれないので注意）\n",
    "  NPV = NPV + 50 / (1 + R) ** i \n",
    "print(NPV)"
   ]
  },
  {
   "cell_type": "code",
   "execution_count": 16,
   "metadata": {
    "colab": {
     "base_uri": "https://localhost:8080/"
    },
    "executionInfo": {
     "elapsed": 244,
     "status": "ok",
     "timestamp": 1685579008591,
     "user": {
      "displayName": "Katsuhiko Muramiya",
      "userId": "14255974330568111549"
     },
     "user_tz": -540
    },
    "id": "XiBUHRzxNtkk",
    "outputId": "40673be2-2c68-450a-8e5c-977bad0ca490"
   },
   "outputs": [
    {
     "name": "stdout",
     "output_type": "stream",
     "text": [
      "-100\n",
      "-54.54545454545455\n",
      "-13.223140495867774\n",
      "24.3425995492111\n"
     ]
    }
   ],
   "source": [
    "# ch03_16: for文を用いたプロジェクトXのNPVの計算 (2)\n",
    "\n",
    "R = 0.1 \n",
    "NPV = -100\n",
    "for i in range(1, 4):\n",
    "  print(NPV)  # ここにprint()関数を挿入\n",
    "  NPV = NPV + 50 / (1 + R) ** i\n",
    "print(NPV)"
   ]
  },
  {
   "cell_type": "code",
   "execution_count": 17,
   "metadata": {
    "colab": {
     "base_uri": "https://localhost:8080/"
    },
    "executionInfo": {
     "elapsed": 247,
     "status": "ok",
     "timestamp": 1685579128133,
     "user": {
      "displayName": "Katsuhiko Muramiya",
      "userId": "14255974330568111549"
     },
     "user_tz": -540
    },
    "id": "rLFIjgLYNtkk",
    "outputId": "8ada874e-a99b-4c1c-b398-077051e34ef0"
   },
   "outputs": [
    {
     "name": "stdout",
     "output_type": "stream",
     "text": [
      "プロジェクトを実行！\n"
     ]
    }
   ],
   "source": [
    "# ch03_17: NPVに基づく投資判断\n",
    "\n",
    "if NPV >= 0:\n",
    "   print('プロジェクトを実行！')"
   ]
  },
  {
   "cell_type": "markdown",
   "metadata": {
    "id": "YGpxiLlLNtkl"
   },
   "source": [
    "#### 3.2.3 NPVと割引率の関係の可視化"
   ]
  },
  {
   "cell_type": "code",
   "execution_count": 18,
   "metadata": {
    "colab": {
     "base_uri": "https://localhost:8080/",
     "height": 472
    },
    "executionInfo": {
     "elapsed": 894,
     "status": "ok",
     "timestamp": 1685579266429,
     "user": {
      "displayName": "Katsuhiko Muramiya",
      "userId": "14255974330568111549"
     },
     "user_tz": -540
    },
    "id": "kR8cd7FFNtkl",
    "outputId": "ce489794-79eb-4b75-ab3e-24091a01189e"
   },
   "outputs": [
    {
     "data": {
      "image/png": "[encoded data removed]",
      "text/plain": [
       "<Figure size 640x480 with 1 Axes>"
      ]
     },
     "metadata": {},
     "output_type": "display_data"
    }
   ],
   "source": [
    "# ch03_18: 異なる割引率に対してプロジェクトXのNPVを計算した上で折れ線グラフに可視化\n",
    "\n",
    "R = np.linspace(0.1, 0.2, 11)  # 11次元のRベクトルを用意\n",
    "NPV = np.full_like(R, np.nan, dtype=float)  # Rベクトルと同次元の配列を作成し，全ての要素をNaN (Not a Number)で初期化\n",
    "\n",
    "for i in range(len(R)):  # 外側のfor文で特定の割引率を固定．開始値が0の場合はrange(0, len(R))とする必要無し\n",
    "    NPV[i] = -100\n",
    "    for j in range(1, 4):  # 内側のfor文で各年度の将来キャッシュフローの現在価値を累積\n",
    "        NPV[i] = NPV[i] + 50 / (1 + R[i]) ** j  # 累算代入演算子+=を使う場合は，NPV[i] += 50 / (1 + R[i]) ** j\n",
    "      \n",
    "plt.plot(R, NPV)\n",
    "plt.xlabel('Discount Rate')\n",
    "plt.ylabel('Present Value')\n",
    "plt.title('Figure: Discount Rate and NPV')\n",
    "plt.show()"
   ]
  },
  {
   "cell_type": "code",
   "execution_count": 19,
   "metadata": {
    "id": "bpflyyg7Ntkl"
   },
   "outputs": [],
   "source": [
    "# ch03_19: ベクトル化によるNPVの計算\n",
    "\n",
    "R = 0.1\n",
    "CF = np.array([-100, 50, 50, 50])  # 各年限のCFに応じた四つの要素を持つ配列をCFとして定義\n",
    "years = np.arange(4)\n",
    "PV_CF = CF / (1 + R) ** years\n",
    "NPV = np.sum(PV_CF)  # NumPyのsum()関数で配列の各要素の合計を計算\n",
    "\n",
    "## 24.3425995492111"
   ]
  },
  {
   "cell_type": "markdown",
   "metadata": {
    "id": "iFhXmolvNtkl"
   },
   "source": [
    "### 3.3 独自関数の定義の仕方\n",
    "\n",
    "#### 3.3.1 現在価値を計算する独自関数の定義"
   ]
  },
  {
   "cell_type": "code",
   "execution_count": 20,
   "metadata": {
    "colab": {
     "base_uri": "https://localhost:8080/"
    },
    "executionInfo": {
     "elapsed": 425,
     "status": "ok",
     "timestamp": 1685579891825,
     "user": {
      "displayName": "Katsuhiko Muramiya",
      "userId": "14255974330568111549"
     },
     "user_tz": -540
    },
    "id": "iXX4XvUKNtkm",
    "outputId": "35a65ade-db87-4e07-c0f2-5c30c3ee9f27"
   },
   "outputs": [
    {
     "data": {
      "text/plain": [
       "90.9090909090909"
      ]
     },
     "execution_count": 20,
     "metadata": {},
     "output_type": "execute_result"
    }
   ],
   "source": [
    "# ch03_20: 任意の割引率に対して1年後に受け取る100万円の現在価値を計算する独自関数\n",
    "\n",
    "def calculate_PV(R):  # 独自関数はdefキーワードを使って定義\n",
    "  PV = 100 / (1 + R)\n",
    "  return PV  # returnキーワードで戻り値を指定\n",
    "\n",
    "calculate_PV(0.1)\n",
    "\n",
    "## 90.9090909090909"
   ]
  },
  {
   "cell_type": "markdown",
   "metadata": {},
   "source": [
    "**コードch03_21は，R言語特有のものであるため割愛**"
   ]
  },
  {
   "cell_type": "markdown",
   "metadata": {
    "id": "kjlP54DANtkm"
   },
   "source": [
    "#### 3.3.2 現在価値を計算する関数の機能拡張"
   ]
  },
  {
   "cell_type": "code",
   "execution_count": 21,
   "metadata": {
    "colab": {
     "base_uri": "https://localhost:8080/"
    },
    "executionInfo": {
     "elapsed": 321,
     "status": "ok",
     "timestamp": 1685580057515,
     "user": {
      "displayName": "Katsuhiko Muramiya",
      "userId": "14255974330568111549"
     },
     "user_tz": -540
    },
    "id": "Hz3MlYwqNtkm",
    "outputId": "dcd9723b-66b3-425f-b864-f0f5d69bbdd7"
   },
   "outputs": [
    {
     "data": {
      "text/plain": [
       "[90.9090909090909, 100.0]"
      ]
     },
     "execution_count": 21,
     "metadata": {},
     "output_type": "execute_result"
    }
   ],
   "source": [
    "# ch03_22: 二つの割引率に対して現在価値を計算できるようcalculate_PV()を拡張\n",
    "\n",
    "def calculate_PV(R1, R2=0):\n",
    "  PV1 = 100 / (1 + R1)\n",
    "  PV2 = 100 / (1 + R2)\n",
    "  return [PV1, PV2]\n",
    "  \n",
    "calculate_PV(0.1, 0.2)\n",
    "\n",
    "## [90.9090909090909, 83.33333333333334]\n",
    "\n",
    "calculate_PV(0.1)\n",
    "\n",
    "## [90.9090909090909, 100.0]"
   ]
  },
  {
   "cell_type": "code",
   "execution_count": 22,
   "metadata": {
    "colab": {
     "base_uri": "https://localhost:8080/"
    },
    "executionInfo": {
     "elapsed": 455,
     "status": "ok",
     "timestamp": 1685580285320,
     "user": {
      "displayName": "Katsuhiko Muramiya",
      "userId": "14255974330568111549"
     },
     "user_tz": -540
    },
    "id": "bQ0fmvwCNtkm",
    "outputId": "64ebd3ff-5ec3-4b50-ce1d-f076c0f37719"
   },
   "outputs": [
    {
     "data": {
      "text/plain": [
       "22.764838467317787"
      ]
     },
     "execution_count": 22,
     "metadata": {},
     "output_type": "execute_result"
    }
   ],
   "source": [
    "# ch03_23: 任意の割引率とキャッシュフローに対して現在価値を計算できるようcalculate_PV()を拡張\n",
    "\n",
    "def calculate_PV(R, CF):\n",
    "    N = len(CF)  # キャッシュフローの発生する回数をNとして定義\n",
    "    PV = CF[0]\n",
    "    for i in range(1, N):\n",
    "        PV = PV + CF[i] / (1 + R) ** i\n",
    "    return PV\n",
    "\n",
    "calculate_PV(0.1, [-100, 40, 50, 60])\n",
    "\n",
    "## 22.764838467317787"
   ]
  },
  {
   "cell_type": "code",
   "execution_count": 23,
   "metadata": {
    "id": "qiSuK16ANtkm",
    "outputId": "e720b544-bbc1-41c3-e9ce-363feb802b2c"
   },
   "outputs": [
    {
     "data": {
      "text/plain": [
       "90.9090909090909"
      ]
     },
     "execution_count": 23,
     "metadata": {},
     "output_type": "execute_result"
    }
   ],
   "source": [
    "# ch03_24: コメントが詳細で分かりやすいコードの例\n",
    "\n",
    "# 2021年1月1日作成\n",
    "# 現在価値の計算\n",
    "\n",
    "# 任意の割引率に対して現在価値を計算するcalculate_PV()を定義\n",
    "def calculate_PV(R): \n",
    "    PV = 100 / (1 + R)\n",
    "    return PV \n",
    "\n",
    "# 割引率を0.1とする例\n",
    "calculate_PV(0.1)\n",
    "\n",
    "## 90.9090909090909"
   ]
  },
  {
   "cell_type": "code",
   "execution_count": 24,
   "metadata": {
    "id": "fj7UQ4JkNtkn",
    "outputId": "d14cab6d-a7e9-49bf-880b-5ce6c4083f55"
   },
   "outputs": [
    {
     "name": "stdout",
     "output_type": "stream",
     "text": [
      "99.00990099009901\n",
      "99.00990099009901\n",
      "99.00990099009901\n",
      "99.00990099009901\n",
      "99.00990099009901\n",
      "99.00990099009901\n",
      "99.00990099009901\n",
      "99.00990099009901\n",
      "99.00990099009901\n",
      "99.00990099009901\n",
      "99.00990099009901\n"
     ]
    }
   ],
   "source": [
    "# ch03_25: 関数内でグローバル変数の変更を試みた例\n",
    "\n",
    "def calculate_PV(R):\n",
    "    PV = 100 / (1 + R)\n",
    "    R = R + 0.01\n",
    "    return PV\n",
    "\n",
    "R = 0.01\n",
    "for i in range(11):\n",
    "    print(calculate_PV(R))\n",
    "    \n",
    "## 99.00990099009901\n",
    "## 99.00990099009901\n",
    "## （同じ計算結果が全部で11回繰り返し表示される）"
   ]
  },
  {
   "cell_type": "markdown",
   "metadata": {
    "id": "zOZNAW-UNtkn"
   },
   "source": [
    "### 3.4 演習:IRRの計算\n",
    "\n",
    "#### 3.4.2 多項式の数値解"
   ]
  },
  {
   "cell_type": "code",
   "execution_count": 25,
   "metadata": {
    "colab": {
     "base_uri": "https://localhost:8080/"
    },
    "executionInfo": {
     "elapsed": 4,
     "status": "ok",
     "timestamp": 1685667242158,
     "user": {
      "displayName": "Katsuhiko Muramiya",
      "userId": "14255974330568111549"
     },
     "user_tz": -540
    },
    "id": "iI2w49MqNtkn",
    "outputId": "1c2d24e7-2b89-432c-9f0f-c817b5e118f0"
   },
   "outputs": [
    {
     "data": {
      "text/plain": [
       "array([-0.40823893-0.57146147j, -0.40823893+0.57146147j,\n",
       "        1.21647785+0.j        ])"
      ]
     },
     "execution_count": 25,
     "metadata": {},
     "output_type": "execute_result"
    }
   ],
   "source": [
    "# ch03_26: poly.polyroots()に基づく3次方程式の数値解\n",
    "\n",
    "# NumPyのpolynomialモジュールを読み込み\n",
    "import numpy.polynomial.polynomial as poly  \n",
    "\n",
    "poly.polyroots([60, 50, 40, -100])  # poly.polyroots()関数は，Rのpolyroot()関数と同様の役割を果たす\n",
    "\n",
    "## [-0.40823893-0.57146147j -0.40823893+0.57146147j  1.21647785+0.j        ]"
   ]
  },
  {
   "cell_type": "code",
   "execution_count": 26,
   "metadata": {
    "executionInfo": {
     "elapsed": 5,
     "status": "ok",
     "timestamp": 1685667245308,
     "user": {
      "displayName": "Katsuhiko Muramiya",
      "userId": "14255974330568111549"
     },
     "user_tz": -540
    },
    "id": "XhdA0EVBNtkn"
   },
   "outputs": [],
   "source": [
    "# ch03_27: 数値解の中から実数解を目視で選んでIRRを計算\n",
    "\n",
    "solutions = poly.polyroots([60, 50, 40, -100]) \n",
    "Y = solutions[2].real # 求めた解のうち三つ目の解の実数部分を抽出\n",
    "IRR = Y - 1\n",
    "\n",
    "## 0.2164778541842911"
   ]
  },
  {
   "cell_type": "markdown",
   "metadata": {
    "id": "TlcC-xyRNtko"
   },
   "source": [
    "#### 3.4.3 実数解の抽出"
   ]
  },
  {
   "cell_type": "code",
   "execution_count": 27,
   "metadata": {
    "colab": {
     "base_uri": "https://localhost:8080/"
    },
    "executionInfo": {
     "elapsed": 309,
     "status": "ok",
     "timestamp": 1685667252446,
     "user": {
      "displayName": "Katsuhiko Muramiya",
      "userId": "14255974330568111549"
     },
     "user_tz": -540
    },
    "id": "e5BAjRGhNtko",
    "outputId": "c85c694e-0fad-4501-dca5-ca12b0725a86"
   },
   "outputs": [
    {
     "data": {
      "text/plain": [
       "array([-0.57146147,  0.57146147,  0.        ])"
      ]
     },
     "execution_count": 27,
     "metadata": {},
     "output_type": "execute_result"
    }
   ],
   "source": [
    "# ch03_28: imagメソッドを用いて虚部のみ抽出\n",
    "\n",
    "solutions.imag # imagメソッドで各要素の虚部のみ抽出\n",
    "\n",
    "## [-0.57146147  0.57146147  0.        ]"
   ]
  },
  {
   "cell_type": "code",
   "execution_count": 28,
   "metadata": {
    "colab": {
     "base_uri": "https://localhost:8080/"
    },
    "executionInfo": {
     "elapsed": 456,
     "status": "ok",
     "timestamp": 1685667256693,
     "user": {
      "displayName": "Katsuhiko Muramiya",
      "userId": "14255974330568111549"
     },
     "user_tz": -540
    },
    "id": "VoLA4WkLNtko",
    "outputId": "1ba1f1ac-ec9c-4a35-be77-76e4d8a81f9c"
   },
   "outputs": [
    {
     "data": {
      "text/plain": [
       "array([False, False,  True])"
      ]
     },
     "execution_count": 28,
     "metadata": {},
     "output_type": "execute_result"
    }
   ],
   "source": [
    "# ch03_29: 等価演算子==を用いて実数解かどうかを判定\n",
    "\n",
    "solutions.imag == 0\n",
    "\n",
    "## [False False  True]"
   ]
  },
  {
   "cell_type": "markdown",
   "metadata": {},
   "source": [
    "**コードch03_30は，R言語特有のものであるため割愛**"
   ]
  },
  {
   "cell_type": "code",
   "execution_count": 29,
   "metadata": {
    "colab": {
     "base_uri": "https://localhost:8080/"
    },
    "executionInfo": {
     "elapsed": 363,
     "status": "ok",
     "timestamp": 1685667301717,
     "user": {
      "displayName": "Katsuhiko Muramiya",
      "userId": "14255974330568111549"
     },
     "user_tz": -540
    },
    "id": "jmZtiXx-Ntko",
    "outputId": "71ff9426-9f72-45c8-c08e-68e6344da655"
   },
   "outputs": [
    {
     "data": {
      "text/plain": [
       "array([1.21647785])"
      ]
     },
     "execution_count": 29,
     "metadata": {},
     "output_type": "execute_result"
    }
   ],
   "source": [
    "# ch03_31: 数値解の中から実数解を機械的に抽出\n",
    "\n",
    "np.where(solutions.imag == 0)  # NumPyのwhere()関数で条件を満たすインデックスを取得\n",
    "solutions.real[np.where(solutions.imag == 0)]  # realメソッドを使って虚部がゼロの要素の実数部分を抽出\n",
    "\n",
    "## [1.21647785]"
   ]
  },
  {
   "cell_type": "markdown",
   "metadata": {
    "id": "d_C90QNANtko"
   },
   "source": [
    "#### 3.4.4 IRRを計算する独自関数の定義"
   ]
  },
  {
   "cell_type": "code",
   "execution_count": 30,
   "metadata": {
    "executionInfo": {
     "elapsed": 411,
     "status": "ok",
     "timestamp": 1685667892854,
     "user": {
      "displayName": "Katsuhiko Muramiya",
      "userId": "14255974330568111549"
     },
     "user_tz": -540
    },
    "id": "T1tbD0ZmNtkp"
   },
   "outputs": [],
   "source": [
    "# ch03_32: 任意のCFに対してIRRを計算するcalculate_IRR()関数を定義\n",
    "\n",
    "def calculate_IRR(CF):\n",
    "    reversed_CF = list(reversed(CF)) # CFベクトルの順序を逆転させ，reversed_CFとして定義\n",
    "    solutions = poly.polyroots(reversed_CF) # reversed_CFをpoly.polyroots()関数に代入\n",
    "    return solutions.real[np.where(solutions.imag == 0)] - 1"
   ]
  },
  {
   "cell_type": "code",
   "execution_count": 31,
   "metadata": {
    "colab": {
     "base_uri": "https://localhost:8080/"
    },
    "executionInfo": {
     "elapsed": 266,
     "status": "ok",
     "timestamp": 1685667629454,
     "user": {
      "displayName": "Katsuhiko Muramiya",
      "userId": "14255974330568111549"
     },
     "user_tz": -540
    },
    "id": "cvralz0uNtkp",
    "outputId": "a39af303-e058-47c3-f447-85a2ecf1de7d"
   },
   "outputs": [
    {
     "data": {
      "text/plain": [
       "array([0.21647785])"
      ]
     },
     "execution_count": 31,
     "metadata": {},
     "output_type": "execute_result"
    }
   ],
   "source": [
    "# ch03_33: calculate_IRR()関数の実行例\n",
    "\n",
    "CF = [-100, 40, 50, 60]\n",
    "calculate_IRR(CF)\n",
    "\n",
    "## [0.21647785]"
   ]
  },
  {
   "cell_type": "code",
   "execution_count": 32,
   "metadata": {
    "executionInfo": {
     "elapsed": 363,
     "status": "ok",
     "timestamp": 1685668368212,
     "user": {
      "displayName": "Katsuhiko Muramiya",
      "userId": "14255974330568111549"
     },
     "user_tz": -540
    },
    "id": "lEMDFsY2Ntkp"
   },
   "outputs": [],
   "source": [
    "# ch03_34: calculate_IRR()関数の完成版（エラーメッセージ付き）\n",
    "\n",
    "def calculate_IRR(CF):\n",
    "    reversed_CF = list(reversed(CF))  \n",
    "    solutions = poly.polyroots(reversed_CF)\n",
    "    if np.count_nonzero(solutions.imag == 0) != 1:  # 実数解（虚部がゼロ）が一つでなければ\n",
    "       print('IRR法の適用を再考！')  # IRR法の適用を再考！と出力\n",
    "    else:  # そうでなければ（実数解が一つならば）\n",
    "       return solutions.real[np.where(solutions.imag == 0)] - 1 # IRRを出力"
   ]
  },
  {
   "cell_type": "code",
   "execution_count": 33,
   "metadata": {
    "colab": {
     "base_uri": "https://localhost:8080/"
    },
    "executionInfo": {
     "elapsed": 7,
     "status": "ok",
     "timestamp": 1685668401436,
     "user": {
      "displayName": "Katsuhiko Muramiya",
      "userId": "14255974330568111549"
     },
     "user_tz": -540
    },
    "id": "ojomvU5xNtkp",
    "outputId": "96f8cda7-bf13-463a-a2cc-df0cc1f3f34c"
   },
   "outputs": [
    {
     "name": "stdout",
     "output_type": "stream",
     "text": [
      "IRR法の適用を再考！\n"
     ]
    }
   ],
   "source": [
    "# ch03_35: エラーメッセージが表示される例\n",
    "\n",
    "CF = [-100, 100, 120, -120]\n",
    "result = calculate_IRR(CF)\n",
    "result"
   ]
  },
  {
   "cell_type": "markdown",
   "metadata": {
    "id": "f8Wwk-hQNtkp"
   },
   "source": [
    "### 3.5 データフレーム入門\n",
    "\n",
    "#### 3.5.1 CSVファイルの読み込み"
   ]
  },
  {
   "cell_type": "code",
   "execution_count": 34,
   "metadata": {
    "id": "d_PjTnLzNtkq"
   },
   "outputs": [],
   "source": [
    "# ch03_36: CSVファイルの読み込み\n",
    "\n",
    "# pandasのread_csv()関数を用いてCSVファイルの読み込み\n",
    "daily_stock_return = pd.read_csv('ch03_daily_stock_return.csv')"
   ]
  },
  {
   "cell_type": "code",
   "execution_count": 35,
   "metadata": {
    "colab": {
     "base_uri": "https://localhost:8080/",
     "height": 206
    },
    "executionInfo": {
     "elapsed": 8,
     "status": "ok",
     "timestamp": 1685583173633,
     "user": {
      "displayName": "Katsuhiko Muramiya",
      "userId": "14255974330568111549"
     },
     "user_tz": -540
    },
    "id": "so9gePmRNtkq",
    "outputId": "6ba655ac-9348-4ade-b466-28f40684e8dc"
   },
   "outputs": [
    {
     "data": {
      "text/html": [
       "<div>\n",
       "<style scoped>\n",
       "    .dataframe tbody tr th:only-of-type {\n",
       "        vertical-align: middle;\n",
       "    }\n",
       "\n",
       "    .dataframe tbody tr th {\n",
       "        vertical-align: top;\n",
       "    }\n",
       "\n",
       "    .dataframe thead th {\n",
       "        text-align: right;\n",
       "    }\n",
       "</style>\n",
       "<table border=\"1\" class=\"dataframe\">\n",
       "  <thead>\n",
       "    <tr style=\"text-align: right;\">\n",
       "      <th></th>\n",
       "      <th>date</th>\n",
       "      <th>firm1</th>\n",
       "      <th>firm2</th>\n",
       "    </tr>\n",
       "  </thead>\n",
       "  <tbody>\n",
       "    <tr>\n",
       "      <th>0</th>\n",
       "      <td>2020-04-01</td>\n",
       "      <td>-0.039482</td>\n",
       "      <td>0.076963</td>\n",
       "    </tr>\n",
       "    <tr>\n",
       "      <th>1</th>\n",
       "      <td>2020-04-02</td>\n",
       "      <td>0.005979</td>\n",
       "      <td>-0.007249</td>\n",
       "    </tr>\n",
       "    <tr>\n",
       "      <th>2</th>\n",
       "      <td>2020-04-03</td>\n",
       "      <td>0.055787</td>\n",
       "      <td>-0.017304</td>\n",
       "    </tr>\n",
       "    <tr>\n",
       "      <th>3</th>\n",
       "      <td>2020-04-06</td>\n",
       "      <td>0.041935</td>\n",
       "      <td>0.002169</td>\n",
       "    </tr>\n",
       "    <tr>\n",
       "      <th>4</th>\n",
       "      <td>2020-04-07</td>\n",
       "      <td>-0.020193</td>\n",
       "      <td>0.075545</td>\n",
       "    </tr>\n",
       "  </tbody>\n",
       "</table>\n",
       "</div>"
      ],
      "text/plain": [
       "         date     firm1     firm2\n",
       "0  2020-04-01 -0.039482  0.076963\n",
       "1  2020-04-02  0.005979 -0.007249\n",
       "2  2020-04-03  0.055787 -0.017304\n",
       "3  2020-04-06  0.041935  0.002169\n",
       "4  2020-04-07 -0.020193  0.075545"
      ]
     },
     "execution_count": 35,
     "metadata": {},
     "output_type": "execute_result"
    }
   ],
   "source": [
    "# ch03_37: データフレームの冒頭を確認\n",
    "\n",
    "daily_stock_return.head()"
   ]
  },
  {
   "cell_type": "code",
   "execution_count": 36,
   "metadata": {
    "colab": {
     "base_uri": "https://localhost:8080/"
    },
    "executionInfo": {
     "elapsed": 243,
     "status": "ok",
     "timestamp": 1685583177333,
     "user": {
      "displayName": "Katsuhiko Muramiya",
      "userId": "14255974330568111549"
     },
     "user_tz": -540
    },
    "id": "fBObtvj_Ntkq",
    "outputId": "a6b2d587-e0bc-43d9-e2c1-8aa9f3baded7"
   },
   "outputs": [
    {
     "data": {
      "text/plain": [
       "21"
      ]
     },
     "execution_count": 36,
     "metadata": {},
     "output_type": "execute_result"
    }
   ],
   "source": [
    "# ch03_38: データフレームの行数を確認\n",
    "\n",
    "len(daily_stock_return)\n",
    "\n",
    "## 21"
   ]
  },
  {
   "cell_type": "code",
   "execution_count": 37,
   "metadata": {
    "colab": {
     "base_uri": "https://localhost:8080/"
    },
    "executionInfo": {
     "elapsed": 270,
     "status": "ok",
     "timestamp": 1685583183414,
     "user": {
      "displayName": "Katsuhiko Muramiya",
      "userId": "14255974330568111549"
     },
     "user_tz": -540
    },
    "id": "IJxqen6SNtkq",
    "outputId": "2ae83a46-134a-4e7e-9172-fe3224b013ce"
   },
   "outputs": [
    {
     "name": "stdout",
     "output_type": "stream",
     "text": [
      "<class 'pandas.core.frame.DataFrame'>\n",
      "RangeIndex: 21 entries, 0 to 20\n",
      "Data columns (total 3 columns):\n",
      " #   Column  Non-Null Count  Dtype  \n",
      "---  ------  --------------  -----  \n",
      " 0   date    21 non-null     object \n",
      " 1   firm1   21 non-null     float64\n",
      " 2   firm2   21 non-null     float64\n",
      "dtypes: float64(2), object(1)\n",
      "memory usage: 636.0+ bytes\n"
     ]
    }
   ],
   "source": [
    "# ch03_39: データフレームの内部構造を確認\n",
    "\n",
    "daily_stock_return.info()\n",
    "\n",
    "## <class 'pandas.core.frame.DataFrame'>\n",
    "## RangeIndex: 21 entries, 0 to 20\n",
    "## Data columns (total 3 columns):\n",
    "##  #   Column  Non-Null Count  Dtype  \n",
    "## ---  ------  --------------  -----  \n",
    "##  0   date    21 non-null     object \n",
    "##  1   firm1   21 non-null     float64\n",
    "##  2   firm2   21 non-null     float64\n",
    "## dtypes: float64(2), object(1)\n",
    "## memory usage: 632.0+ bytes"
   ]
  },
  {
   "cell_type": "code",
   "execution_count": 38,
   "metadata": {
    "colab": {
     "base_uri": "https://localhost:8080/"
    },
    "executionInfo": {
     "elapsed": 4,
     "status": "ok",
     "timestamp": 1685583298552,
     "user": {
      "displayName": "Katsuhiko Muramiya",
      "userId": "14255974330568111549"
     },
     "user_tz": -540
    },
    "id": "2UCfHBjhNtkr",
    "outputId": "f13cd608-c115-4b1b-9d6f-e6fb569b60e9"
   },
   "outputs": [
    {
     "data": {
      "text/plain": [
       "0.008025261018862447"
      ]
     },
     "execution_count": 38,
     "metadata": {},
     "output_type": "execute_result"
    }
   ],
   "source": [
    "# ch03_40: 日次リターンの平均値を計算\n",
    "\n",
    "daily_stock_return['firm1'].mean()\n",
    "\n",
    "## 0.014161168900422329\n",
    "\n",
    "daily_stock_return['firm2'].mean()\n",
    "\n",
    "## 0.008025261018862447"
   ]
  },
  {
   "cell_type": "code",
   "execution_count": 39,
   "metadata": {
    "colab": {
     "base_uri": "https://localhost:8080/"
    },
    "executionInfo": {
     "elapsed": 4,
     "status": "ok",
     "timestamp": 1685583535511,
     "user": {
      "displayName": "Katsuhiko Muramiya",
      "userId": "14255974330568111549"
     },
     "user_tz": -540
    },
    "id": "mjNBGMQtNtkr",
    "outputId": "cda9c213-98d2-4ca3-d80b-8e19ed9b3d6d"
   },
   "outputs": [
    {
     "data": {
      "text/plain": [
       "0.23348923734986948"
      ]
     },
     "execution_count": 39,
     "metadata": {},
     "output_type": "execute_result"
    }
   ],
   "source": [
    "# ch03_41: 日次リターンの標準偏差と相関を計算\n",
    "\n",
    "daily_stock_return['firm1'].std()  # stdはstandard deviation（標準偏差）の略\n",
    "\n",
    "## 0.05383960148069729\n",
    "\n",
    "daily_stock_return['firm1'].corr(daily_stock_return['firm2'])\n",
    "\n",
    "## 0.23348923734986948"
   ]
  },
  {
   "cell_type": "code",
   "execution_count": 40,
   "metadata": {
    "colab": {
     "base_uri": "https://localhost:8080/"
    },
    "executionInfo": {
     "elapsed": 304,
     "status": "ok",
     "timestamp": 1685583650353,
     "user": {
      "displayName": "Katsuhiko Muramiya",
      "userId": "14255974330568111549"
     },
     "user_tz": -540
    },
    "id": "QKdjHKbZNtkr",
    "outputId": "f58d831f-8ed9-4306-a20b-c364cf9a0517"
   },
   "outputs": [
    {
     "data": {
      "text/plain": [
       "'2020-04-28'"
      ]
     },
     "execution_count": 40,
     "metadata": {},
     "output_type": "execute_result"
    }
   ],
   "source": [
    "# ch03_42: 最も日次リターンが低い日付を抽出\n",
    "\n",
    "worst_day_ID = daily_stock_return['firm1'].idxmin()  # idxmin()メソッドで最小のインデックス（行番号）を取得\n",
    "\n",
    "## 20\n",
    "\n",
    "# 取得したインデックスをlocメソッドを使って代入して日付を取得\n",
    "# loc[行名（インデックス）, 列名]で要素の抽出が可能\n",
    "daily_stock_return.loc[worst_day_ID, 'date'] \n",
    "\n",
    "## '2020-04-28'"
   ]
  },
  {
   "cell_type": "code",
   "execution_count": 41,
   "metadata": {
    "colab": {
     "base_uri": "https://localhost:8080/"
    },
    "executionInfo": {
     "elapsed": 275,
     "status": "ok",
     "timestamp": 1685584172783,
     "user": {
      "displayName": "Katsuhiko Muramiya",
      "userId": "14255974330568111549"
     },
     "user_tz": -540
    },
    "id": "UDb9Z5JoNtks",
    "outputId": "af3bbd76-c2b2-402a-f5ac-4756789b05c2"
   },
   "outputs": [
    {
     "data": {
      "text/plain": [
       "3     2020-04-06\n",
       "6     2020-04-09\n",
       "7     2020-04-10\n",
       "8     2020-04-13\n",
       "10    2020-04-15\n",
       "12    2020-04-17\n",
       "13    2020-04-20\n",
       "Name: date, dtype: object"
      ]
     },
     "execution_count": 41,
     "metadata": {},
     "output_type": "execute_result"
    }
   ],
   "source": [
    "# ch03_43: 日次リターンがプラスである日付のみを抽出\n",
    "\n",
    "daily_stock_return.loc[daily_stock_return['firm1'] > 0, 'date']  # 企業1のみで条件付け\n",
    "\n",
    "## 1     2020-04-02\n",
    "## 2     2020-04-03\n",
    "## 3     2020-04-06\n",
    "## 6     2020-04-09\n",
    "## 7     2020-04-10\n",
    "## 8     2020-04-13\n",
    "## 10    2020-04-15\n",
    "## 12    2020-04-17\n",
    "## 13    2020-04-20\n",
    "## 15    2020-04-22\n",
    "## 18    2020-04-27\n",
    "## 20    2020-04-30\n",
    "## Name: date, dtype: object\n",
    "\n",
    "daily_stock_return.loc[(daily_stock_return['firm1'] > 0) & (daily_stock_return['firm2'] > 0), 'date']\n",
    "\n",
    "## 3     2020-04-06\n",
    "## 6     2020-04-09\n",
    "## 7     2020-04-10\n",
    "## 8     2020-04-13\n",
    "## 10    2020-04-15\n",
    "## 12    2020-04-17\n",
    "## 13    2020-04-20\n",
    "## Name: date, dtype: object"
   ]
  },
  {
   "cell_type": "code",
   "execution_count": 42,
   "metadata": {
    "id": "IbrrSWXhNtks"
   },
   "outputs": [
    {
     "data": {
      "text/html": [
       "<div>\n",
       "<style scoped>\n",
       "    .dataframe tbody tr th:only-of-type {\n",
       "        vertical-align: middle;\n",
       "    }\n",
       "\n",
       "    .dataframe tbody tr th {\n",
       "        vertical-align: top;\n",
       "    }\n",
       "\n",
       "    .dataframe thead th {\n",
       "        text-align: right;\n",
       "    }\n",
       "</style>\n",
       "<table border=\"1\" class=\"dataframe\">\n",
       "  <thead>\n",
       "    <tr style=\"text-align: right;\">\n",
       "      <th></th>\n",
       "      <th>date</th>\n",
       "      <th>firm1</th>\n",
       "      <th>difference</th>\n",
       "    </tr>\n",
       "  </thead>\n",
       "  <tbody>\n",
       "    <tr>\n",
       "      <th>0</th>\n",
       "      <td>2020-04-01</td>\n",
       "      <td>0.960518</td>\n",
       "      <td>-0.116445</td>\n",
       "    </tr>\n",
       "    <tr>\n",
       "      <th>1</th>\n",
       "      <td>2020-04-02</td>\n",
       "      <td>1.005979</td>\n",
       "      <td>0.013228</td>\n",
       "    </tr>\n",
       "    <tr>\n",
       "      <th>2</th>\n",
       "      <td>2020-04-03</td>\n",
       "      <td>1.055787</td>\n",
       "      <td>0.073091</td>\n",
       "    </tr>\n",
       "    <tr>\n",
       "      <th>3</th>\n",
       "      <td>2020-04-06</td>\n",
       "      <td>1.041935</td>\n",
       "      <td>0.039766</td>\n",
       "    </tr>\n",
       "    <tr>\n",
       "      <th>4</th>\n",
       "      <td>2020-04-07</td>\n",
       "      <td>0.979807</td>\n",
       "      <td>-0.095738</td>\n",
       "    </tr>\n",
       "  </tbody>\n",
       "</table>\n",
       "</div>"
      ],
      "text/plain": [
       "         date     firm1  difference\n",
       "0  2020-04-01  0.960518   -0.116445\n",
       "1  2020-04-02  1.005979    0.013228\n",
       "2  2020-04-03  1.055787    0.073091\n",
       "3  2020-04-06  1.041935    0.039766\n",
       "4  2020-04-07  0.979807   -0.095738"
      ]
     },
     "execution_count": 42,
     "metadata": {},
     "output_type": "execute_result"
    }
   ],
   "source": [
    "# ch03_44: データフレームにおける列の作成・書き換え・削除\n",
    "\n",
    "daily_stock_return['difference'] = daily_stock_return['firm1'] - daily_stock_return['firm2']  # 両銘柄の差分を計算して新しい列に保存\n",
    "daily_stock_return['firm1'] = 1 + daily_stock_return['firm1']  # 企業1のネットリターンをグロスリターンに変換\n",
    "daily_stock_return = daily_stock_return.drop('firm2', axis=1)  # 企業2のデータを削除\n",
    "# 単にdaily_stock_return.drop('firm2', axis=1, inplace=True)としても同様\n",
    "\n",
    "daily_stock_return.head()"
   ]
  },
  {
   "cell_type": "code",
   "execution_count": 43,
   "metadata": {
    "id": "tvLTE7INNtks"
   },
   "outputs": [],
   "source": [
    "# ch03_45: データフレームをCSVファイルに出力\n",
    "\n",
    "daily_stock_return.to_csv('ch03_output.csv', index=False)"
   ]
  },
  {
   "cell_type": "markdown",
   "metadata": {
    "id": "QDk-5cT6Ntks"
   },
   "source": [
    "### 3.6 ファクター型と日付型\n",
    "\n",
    "#### 3.6.1 ファクター型入門"
   ]
  },
  {
   "cell_type": "code",
   "execution_count": 44,
   "metadata": {
    "colab": {
     "base_uri": "https://localhost:8080/"
    },
    "executionInfo": {
     "elapsed": 264,
     "status": "ok",
     "timestamp": 1685584414324,
     "user": {
      "displayName": "Katsuhiko Muramiya",
      "userId": "14255974330568111549"
     },
     "user_tz": -540
    },
    "id": "B5gLVDUGNtks",
    "outputId": "6d58a7f8-0a9d-47c1-9e89-fef883afd555"
   },
   "outputs": [
    {
     "name": "stdout",
     "output_type": "stream",
     "text": [
      "firm_ID      int64\n",
      "name        object\n",
      "industry    object\n",
      "dtype: object\n"
     ]
    }
   ],
   "source": [
    "# ch03_46: industry列を文字型として定義\n",
    "\n",
    "firm_ID = [1, 2, 3]\n",
    "name = [\"Firm A\", \"Firm B\", \"Firm C\"]\n",
    "industry = [\"Machinery\", \"Chemicals\", \"Machinery\"]\n",
    "\n",
    "firm_data = pd.DataFrame({\"firm_ID\": firm_ID, \"name\": name, \"industry\": industry})\n",
    "print(firm_data.dtypes)\n",
    "\n",
    "## firm_ID      int64\n",
    "## name        object\n",
    "## industry    object\n",
    "## dtype: object"
   ]
  },
  {
   "cell_type": "code",
   "execution_count": 45,
   "metadata": {
    "colab": {
     "base_uri": "https://localhost:8080/"
    },
    "executionInfo": {
     "elapsed": 245,
     "status": "ok",
     "timestamp": 1685584586952,
     "user": {
      "displayName": "Katsuhiko Muramiya",
      "userId": "14255974330568111549"
     },
     "user_tz": -540
    },
    "id": "7q3CQVuZNtks",
    "outputId": "01360c57-6d26-4269-b722-50c4e57e2d3b"
   },
   "outputs": [
    {
     "name": "stdout",
     "output_type": "stream",
     "text": [
      "firm_ID        int64\n",
      "name          object\n",
      "industry    category\n",
      "dtype: object\n"
     ]
    }
   ],
   "source": [
    "# ch03_47: industry列をカテゴリ型に変換\n",
    "\n",
    "firm_data['industry'] = firm_data['industry'].astype('category')  # Rのファクター型に相当するのはPythonのカテゴリ型\n",
    "print(firm_data.dtypes)\n",
    "\n",
    "## firm_ID        int64\n",
    "## name          object\n",
    "## industry    category\n",
    "## dtype: object"
   ]
  },
  {
   "cell_type": "markdown",
   "metadata": {
    "id": "O04wwkUfNtkt"
   },
   "source": [
    "#### 3.6.2 日付型入門"
   ]
  },
  {
   "cell_type": "code",
   "execution_count": 46,
   "metadata": {
    "colab": {
     "base_uri": "https://localhost:8080/"
    },
    "executionInfo": {
     "elapsed": 259,
     "status": "ok",
     "timestamp": 1685584645973,
     "user": {
      "displayName": "Katsuhiko Muramiya",
      "userId": "14255974330568111549"
     },
     "user_tz": -540
    },
    "id": "FLMIVrSdNtkt",
    "outputId": "98fb79e7-b76c-4933-f7ae-03275800ba71"
   },
   "outputs": [
    {
     "name": "stdout",
     "output_type": "stream",
     "text": [
      "date             object\n",
      "stock_return    float64\n",
      "dtype: object\n"
     ]
    }
   ],
   "source": [
    "# ch03_48: date列を文字型として定義\n",
    "\n",
    "date = [\"2021/4/1\", \"2021/4/2\", \"2021/4/5\"]\n",
    "stock_return = [0.02, -0.01, -0.02]\n",
    "\n",
    "stock_return_data = pd.DataFrame({\"date\": date, \"stock_return\": stock_return})\n",
    "print(stock_return_data.dtypes)\n",
    "\n",
    "## date             object\n",
    "## stock_return    float64\n",
    "## dtype: object"
   ]
  },
  {
   "cell_type": "code",
   "execution_count": 47,
   "metadata": {
    "colab": {
     "base_uri": "https://localhost:8080/"
    },
    "executionInfo": {
     "elapsed": 253,
     "status": "ok",
     "timestamp": 1685584660278,
     "user": {
      "displayName": "Katsuhiko Muramiya",
      "userId": "14255974330568111549"
     },
     "user_tz": -540
    },
    "id": "Zb1iQIm4Ntkt",
    "outputId": "47c5c30a-50ed-4bc2-c69c-5e928549c3ed"
   },
   "outputs": [
    {
     "name": "stdout",
     "output_type": "stream",
     "text": [
      "date            datetime64[ns]\n",
      "stock_return           float64\n",
      "dtype: object\n"
     ]
    }
   ],
   "source": [
    "# ch03_49: date列を日時型に変換\n",
    "\n",
    "stock_return_data['date'] = pd.to_datetime(stock_return_data['date'])  # 日付だけではなく時間情報も含む日時型へと変換\n",
    "print(stock_return_data.dtypes)\n",
    "\n",
    "## date            datetime64[ns]\n",
    "## stock_return           float64\n",
    "## dtype: object"
   ]
  },
  {
   "cell_type": "code",
   "execution_count": 48,
   "metadata": {
    "colab": {
     "base_uri": "https://localhost:8080/",
     "height": 143
    },
    "executionInfo": {
     "elapsed": 711,
     "status": "ok",
     "timestamp": 1685584683747,
     "user": {
      "displayName": "Katsuhiko Muramiya",
      "userId": "14255974330568111549"
     },
     "user_tz": -540
    },
    "id": "9zw-qd5pNtkt",
    "outputId": "4a9dc3ab-4346-40b2-9efa-3115fca0920b"
   },
   "outputs": [
    {
     "data": {
      "text/html": [
       "<div>\n",
       "<style scoped>\n",
       "    .dataframe tbody tr th:only-of-type {\n",
       "        vertical-align: middle;\n",
       "    }\n",
       "\n",
       "    .dataframe tbody tr th {\n",
       "        vertical-align: top;\n",
       "    }\n",
       "\n",
       "    .dataframe thead th {\n",
       "        text-align: right;\n",
       "    }\n",
       "</style>\n",
       "<table border=\"1\" class=\"dataframe\">\n",
       "  <thead>\n",
       "    <tr style=\"text-align: right;\">\n",
       "      <th></th>\n",
       "      <th>date</th>\n",
       "      <th>stock_return</th>\n",
       "    </tr>\n",
       "  </thead>\n",
       "  <tbody>\n",
       "    <tr>\n",
       "      <th>0</th>\n",
       "      <td>2021-04-02</td>\n",
       "      <td>0.02</td>\n",
       "    </tr>\n",
       "    <tr>\n",
       "      <th>1</th>\n",
       "      <td>2021-04-03</td>\n",
       "      <td>-0.01</td>\n",
       "    </tr>\n",
       "    <tr>\n",
       "      <th>2</th>\n",
       "      <td>2021-04-06</td>\n",
       "      <td>-0.02</td>\n",
       "    </tr>\n",
       "  </tbody>\n",
       "</table>\n",
       "</div>"
      ],
      "text/plain": [
       "        date  stock_return\n",
       "0 2021-04-02          0.02\n",
       "1 2021-04-03         -0.01\n",
       "2 2021-04-06         -0.02"
      ]
     },
     "execution_count": 48,
     "metadata": {},
     "output_type": "execute_result"
    }
   ],
   "source": [
    "# ch03_50: 日時型の変数に対する足し算の例\n",
    "\n",
    "from datetime import datetime, timedelta\n",
    "stock_return_data['date'] = stock_return_data['date'] + timedelta(days=1)\n",
    "stock_return_data.head()\n",
    "\n",
    "##         date  stock_return\n",
    "## 0 2021-04-02          0.02\n",
    "## 1 2021-04-03         -0.01\n",
    "## 2 2021-04-06         -0.02"
   ]
  },
  {
   "cell_type": "markdown",
   "metadata": {
    "id": "s6baLJ4pNtkt"
   },
   "source": [
    "### 3.7 外部パッケージの使い方\n",
    "\n",
    "#### 3.7.2 作図データの準備"
   ]
  },
  {
   "cell_type": "markdown",
   "metadata": {},
   "source": [
    "**ch03_50-ch03_53は，Rのtidyverseパッケージの導入に関するコードのため割愛**"
   ]
  },
  {
   "cell_type": "code",
   "execution_count": 49,
   "metadata": {
    "colab": {
     "base_uri": "https://localhost:8080/",
     "height": 206
    },
    "executionInfo": {
     "elapsed": 409,
     "status": "ok",
     "timestamp": 1685604341898,
     "user": {
      "displayName": "Katsuhiko Muramiya",
      "userId": "14255974330568111549"
     },
     "user_tz": -540
    },
    "id": "rRq7qt1CNtkt",
    "outputId": "6740ab71-2122-4ba3-a030-c1e5ead074df"
   },
   "outputs": [],
   "source": [
    "# ch03_54: 異なる初期投資額に対して内部収益率をそれぞれ計算\n",
    "\n",
    "# NumPyのバージョンによって警告が発せられるDeprecationWarningを非表示に\n",
    "import warnings\n",
    "warnings.filterwarnings(\"ignore\")\n",
    "\n",
    "initial_cost = np.linspace(80, 100, 21)  # 21次元のinitial_costベクトルを用意\n",
    "IRR = np.full_like(initial_cost, np.nan, dtype=float)  # initial_costと同次元の配列を作成し，全ての要素をNaNで初期化\n",
    "\n",
    "for i in range(len(initial_cost)): \n",
    "    IRR[i] = calculate_IRR([-initial_cost[i], 100]) # 各initial_costに対応するIRRを計算\n",
    "\n",
    "figure_data = pd.DataFrame({'initial_cost': initial_cost, 'IRR': IRR}) # 計算結果をデータフレームfigure_dataに格納"
   ]
  },
  {
   "cell_type": "code",
   "execution_count": 50,
   "metadata": {
    "id": "R6O0NxLNNtku"
   },
   "outputs": [],
   "source": [
    "#### 3.7.3 matplotlibによる作図"
   ]
  },
  {
   "cell_type": "code",
   "execution_count": 51,
   "metadata": {
    "colab": {
     "base_uri": "https://localhost:8080/",
     "height": 430
    },
    "executionInfo": {
     "elapsed": 373,
     "status": "ok",
     "timestamp": 1685604399290,
     "user": {
      "displayName": "Katsuhiko Muramiya",
      "userId": "14255974330568111549"
     },
     "user_tz": -540
    },
    "id": "UqODinfYNtku",
    "outputId": "b9c4984c-4b1a-4778-e6cb-b3b22ac2f19d"
   },
   "outputs": [
    {
     "data": {
      "image/png": "[encoded data removed]",
      "text/plain": [
       "<Figure size 640x480 with 1 Axes>"
      ]
     },
     "metadata": {},
     "output_type": "display_data"
    }
   ],
   "source": [
    "# ch03_55: 初期投資額と内部収益率の関係を描画\n",
    "\n",
    "plt.plot(initial_cost, IRR)\n",
    "plt.show()"
   ]
  },
  {
   "cell_type": "code",
   "execution_count": 52,
   "metadata": {
    "colab": {
     "base_uri": "https://localhost:8080/",
     "height": 430
    },
    "executionInfo": {
     "elapsed": 361,
     "status": "ok",
     "timestamp": 1685604408410,
     "user": {
      "displayName": "Katsuhiko Muramiya",
      "userId": "14255974330568111549"
     },
     "user_tz": -540
    },
    "id": "SToHAGyMNtku",
    "outputId": "ed589f66-58f4-4923-9544-0c869779cbb0"
   },
   "outputs": [
    {
     "data": {
      "image/png": "[encoded data removed]",
      "text/plain": [
       "<Figure size 640x480 with 1 Axes>"
      ]
     },
     "metadata": {},
     "output_type": "display_data"
    }
   ],
   "source": [
    "# ch03_56: 折れ線グラフの上に点グラフを追加\n",
    "\n",
    "plt.plot(initial_cost, IRR, marker='.')\n",
    "plt.show()"
   ]
  },
  {
   "cell_type": "code",
   "execution_count": 53,
   "metadata": {
    "colab": {
     "base_uri": "https://localhost:8080/",
     "height": 472
    },
    "executionInfo": {
     "elapsed": 560,
     "status": "ok",
     "timestamp": 1685604413935,
     "user": {
      "displayName": "Katsuhiko Muramiya",
      "userId": "14255974330568111549"
     },
     "user_tz": -540
    },
    "id": "bOUNLtBNNtku",
    "outputId": "efe22457-469f-4ad1-89a9-99baf5fb3f07"
   },
   "outputs": [
    {
     "data": {
      "image/png": "[encoded data removed]",
      "text/plain": [
       "<Figure size 640x480 with 1 Axes>"
      ]
     },
     "metadata": {},
     "output_type": "display_data"
    }
   ],
   "source": [
    "# ch03_57: 図の見栄えを改善\n",
    "\n",
    "plt.plot(initial_cost, IRR, marker='.')\n",
    "plt.xlabel('Initial Cost')\n",
    "plt.ylabel('IRR')\n",
    "plt.title('Initial Cost and IRR')\n",
    "plt.show()"
   ]
  },
  {
   "cell_type": "code",
   "execution_count": 54,
   "metadata": {
    "colab": {
     "base_uri": "https://localhost:8080/",
     "height": 490
    },
    "executionInfo": {
     "elapsed": 865,
     "status": "ok",
     "timestamp": 1685604504597,
     "user": {
      "displayName": "Katsuhiko Muramiya",
      "userId": "14255974330568111549"
     },
     "user_tz": -540
    },
    "id": "jfGIGo8ONtkv",
    "outputId": "e8889daf-ba33-4c51-dfc8-024c86b6f390",
    "tags": []
   },
   "outputs": [
    {
     "data": {
      "image/png": "[encoded data removed]",
      "text/plain": [
       "<Figure size 640x480 with 1 Axes>"
      ]
     },
     "metadata": {},
     "output_type": "display_data"
    },
    {
     "data": {
      "text/plain": [
       "<Figure size 640x480 with 0 Axes>"
      ]
     },
     "metadata": {},
     "output_type": "display_data"
    }
   ],
   "source": [
    "# ch03_58: 初期投資額が100の点を強調\n",
    "\n",
    "plt.plot(initial_cost, IRR, marker='.')\n",
    "plt.xlabel('Initial Cost')\n",
    "plt.ylabel('IRR')\n",
    "plt.title('Initial Cost and IRR')\n",
    "plt.annotate('Initial Cost 100', xy=(100, 0.01), xytext=(95, 0.08),\n",
    "             arrowprops = dict(facecolor = 'black'))\n",
    "plt.show()\n",
    "plt.savefig(\"IRR.pdf\")"
   ]
  },
  {
   "cell_type": "code",
   "execution_count": 55,
   "metadata": {
    "tags": []
   },
   "outputs": [
    {
     "data": {
      "text/html": [
       "<details>\n",
       "<summary>Click to view session information</summary>\n",
       "<pre>\n",
       "-----\n",
       "matplotlib          3.8.0\n",
       "numpy               1.26.3\n",
       "pandas              2.2.0\n",
       "session_info        1.0.0\n",
       "-----\n",
       "IPython             8.20.0\n",
       "jupyter_client      8.6.0\n",
       "jupyter_core        5.5.0\n",
       "jupyterlab          4.0.11\n",
       "notebook            7.0.6\n",
       "-----\n",
       "Python 3.11.7 | packaged by conda-forge | (main, Dec 23 2023, 14:38:07) [Clang 16.0.6 ]\n",
       "macOS-14.3-arm64-arm-64bit\n",
       "-----\n",
       "Session information updated at 2024-02-04 08:13\n",
       "</pre>\n",
       "</details>"
      ],
      "text/plain": [
       "<IPython.core.display.HTML object>"
      ]
     },
     "execution_count": 55,
     "metadata": {},
     "output_type": "execute_result"
    }
   ],
   "source": [
    "# 以上のコードについて，動作確認をした実行環境の表示\n",
    "# 本セルは，実行環境の確認のためであり，無視してもらっても構わない\n",
    "import session_info\n",
    "session_info.show(dependencies=False)"
   ]
  }
 ],
 "metadata": {
  "colab": {
   "provenance": []
  },
  "kernelspec": {
   "display_name": "Python 3 (ipykernel)",
   "language": "python",
   "name": "python3"
  },
  "language_info": {
   "codemirror_mode": {
    "name": "ipython",
    "version": 3
   },
   "file_extension": ".py",
   "mimetype": "text/x-python",
   "name": "python",
   "nbconvert_exporter": "python",
   "pygments_lexer": "ipython3",
   "version": "3.11.7"
  }
 },
 "nbformat": 4,
 "nbformat_minor": 4
}
