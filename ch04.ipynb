{
 "cells": [
  {
   "cell_type": "markdown",
   "metadata": {
    "id": "CHBAYzQKryYY"
   },
   "source": [
    "## 第4章 財務データの取得と可視化\n",
    "\n",
    "### 4.2 Rを利用した財務データ分析入門\n",
    "\n",
    "#### 4.2.1 tidyverseパッケージの概要"
   ]
  },
  {
   "cell_type": "code",
   "execution_count": 1,
   "metadata": {
    "executionInfo": {
     "elapsed": 688,
     "status": "ok",
     "timestamp": 1686095565604,
     "user": {
      "displayName": "Katsuhiko Muramiya",
      "userId": "14255974330568111549"
     },
     "user_tz": -540
    },
    "id": "E7RqY2-6ryYa"
   },
   "outputs": [],
   "source": [
    "# ch04_01: ライブラリの読み込み\n",
    "\n",
    "# 本章で利用する以下の三つのライブラリ・モジュールを読み込む\n",
    "import pandas as pd \n",
    "import numpy as np\n",
    "import matplotlib.pyplot as plt\n",
    "\n",
    "# pandasのバージョンによっては，将来の仕様変更に関する警告が発せられるため，それを非表示に\n",
    "import warnings\n",
    "warnings.filterwarnings(\"ignore\")"
   ]
  },
  {
   "cell_type": "markdown",
   "metadata": {
    "id": "2Z8vCWEvryYb"
   },
   "source": [
    "#### 4.2.2 財務データの読み込み"
   ]
  },
  {
   "cell_type": "code",
   "execution_count": 2,
   "metadata": {
    "colab": {
     "base_uri": "https://localhost:8080/",
     "height": 206
    },
    "executionInfo": {
     "elapsed": 506,
     "status": "ok",
     "timestamp": 1686095584297,
     "user": {
      "displayName": "Katsuhiko Muramiya",
      "userId": "14255974330568111549"
     },
     "user_tz": -540
    },
    "id": "u5buGB9aryYb",
    "outputId": "d302d851-0163-444b-c0e5-c0dd75ebf486"
   },
   "outputs": [
    {
     "data": {
      "text/html": [
       "<div>\n",
       "<style scoped>\n",
       "    .dataframe tbody tr th:only-of-type {\n",
       "        vertical-align: middle;\n",
       "    }\n",
       "\n",
       "    .dataframe tbody tr th {\n",
       "        vertical-align: top;\n",
       "    }\n",
       "\n",
       "    .dataframe thead th {\n",
       "        text-align: right;\n",
       "    }\n",
       "</style>\n",
       "<table border=\"1\" class=\"dataframe\">\n",
       "  <thead>\n",
       "    <tr style=\"text-align: right;\">\n",
       "      <th></th>\n",
       "      <th>year</th>\n",
       "      <th>firm_ID</th>\n",
       "      <th>industry_ID</th>\n",
       "      <th>sales</th>\n",
       "      <th>OX</th>\n",
       "      <th>NFE</th>\n",
       "      <th>X</th>\n",
       "      <th>OA</th>\n",
       "      <th>FA</th>\n",
       "      <th>OL</th>\n",
       "      <th>FO</th>\n",
       "    </tr>\n",
       "  </thead>\n",
       "  <tbody>\n",
       "    <tr>\n",
       "      <th>0</th>\n",
       "      <td>2015</td>\n",
       "      <td>1</td>\n",
       "      <td>1</td>\n",
       "      <td>5261.40</td>\n",
       "      <td>437.49</td>\n",
       "      <td>NaN</td>\n",
       "      <td>286.64</td>\n",
       "      <td>13005.55</td>\n",
       "      <td>3543.43</td>\n",
       "      <td>4372.96</td>\n",
       "      <td>2480.72</td>\n",
       "    </tr>\n",
       "    <tr>\n",
       "      <th>1</th>\n",
       "      <td>2016</td>\n",
       "      <td>1</td>\n",
       "      <td>1</td>\n",
       "      <td>5948.96</td>\n",
       "      <td>564.14</td>\n",
       "      <td>50.667498</td>\n",
       "      <td>513.48</td>\n",
       "      <td>13865.58</td>\n",
       "      <td>4642.16</td>\n",
       "      <td>4534.22</td>\n",
       "      <td>3959.70</td>\n",
       "    </tr>\n",
       "    <tr>\n",
       "      <th>2</th>\n",
       "      <td>2017</td>\n",
       "      <td>1</td>\n",
       "      <td>1</td>\n",
       "      <td>6505.06</td>\n",
       "      <td>691.18</td>\n",
       "      <td>29.543157</td>\n",
       "      <td>661.64</td>\n",
       "      <td>13952.58</td>\n",
       "      <td>7743.99</td>\n",
       "      <td>5111.22</td>\n",
       "      <td>6159.02</td>\n",
       "    </tr>\n",
       "    <tr>\n",
       "      <th>3</th>\n",
       "      <td>2018</td>\n",
       "      <td>1</td>\n",
       "      <td>1</td>\n",
       "      <td>6846.38</td>\n",
       "      <td>751.29</td>\n",
       "      <td>86.486500</td>\n",
       "      <td>664.80</td>\n",
       "      <td>18818.48</td>\n",
       "      <td>7284.72</td>\n",
       "      <td>5137.28</td>\n",
       "      <td>10123.91</td>\n",
       "    </tr>\n",
       "    <tr>\n",
       "      <th>4</th>\n",
       "      <td>2019</td>\n",
       "      <td>1</td>\n",
       "      <td>1</td>\n",
       "      <td>7572.24</td>\n",
       "      <td>958.53</td>\n",
       "      <td>298.049774</td>\n",
       "      <td>660.48</td>\n",
       "      <td>18190.00</td>\n",
       "      <td>9735.13</td>\n",
       "      <td>5487.96</td>\n",
       "      <td>11362.22</td>\n",
       "    </tr>\n",
       "  </tbody>\n",
       "</table>\n",
       "</div>"
      ],
      "text/plain": [
       "   year  firm_ID  industry_ID    sales      OX         NFE       X        OA  \\\n",
       "0  2015        1            1  5261.40  437.49         NaN  286.64  13005.55   \n",
       "1  2016        1            1  5948.96  564.14   50.667498  513.48  13865.58   \n",
       "2  2017        1            1  6505.06  691.18   29.543157  661.64  13952.58   \n",
       "3  2018        1            1  6846.38  751.29   86.486500  664.80  18818.48   \n",
       "4  2019        1            1  7572.24  958.53  298.049774  660.48  18190.00   \n",
       "\n",
       "        FA       OL        FO  \n",
       "0  3543.43  4372.96   2480.72  \n",
       "1  4642.16  4534.22   3959.70  \n",
       "2  7743.99  5111.22   6159.02  \n",
       "3  7284.72  5137.28  10123.91  \n",
       "4  9735.13  5487.96  11362.22  "
      ]
     },
     "execution_count": 2,
     "metadata": {},
     "output_type": "execute_result"
    }
   ],
   "source": [
    "# ch04_02: CSVファイルの読み込み\n",
    "\n",
    "financial_data = pd.read_csv('ch04_financial_data.csv')\n",
    "\n",
    "# 行数の確認\n",
    "len(financial_data)\n",
    "\n",
    "# shape属性を使っても行数確認可能\n",
    "# shapeは(行数, 列数)のタプルを返すため，shape[0]で行数をshape[1]で列数を取得できる\n",
    "financial_data.shape[0] \n",
    "\n",
    "## 7920\n",
    "\n",
    "financial_data.head()  # 冒頭N行を確認するにはfinancial_data.head(N)とする"
   ]
  },
  {
   "cell_type": "code",
   "execution_count": 3,
   "metadata": {
    "colab": {
     "base_uri": "https://localhost:8080/"
    },
    "executionInfo": {
     "elapsed": 17,
     "status": "ok",
     "timestamp": 1686095584298,
     "user": {
      "displayName": "Katsuhiko Muramiya",
      "userId": "14255974330568111549"
     },
     "user_tz": -540
    },
    "id": "8nRM1HwcryYc",
    "outputId": "4d3f40d3-3040-423f-90c7-97fe917d568e"
   },
   "outputs": [
    {
     "name": "stdout",
     "output_type": "stream",
     "text": [
      "category\n",
      "category\n"
     ]
    }
   ],
   "source": [
    "# ch04_03: firm_ID列とindustry_ID列をカテゴリ型に変換\n",
    "\n",
    "financial_data['firm_ID'] = financial_data['firm_ID'].astype('category') \n",
    "financial_data['industry_ID'] = financial_data['industry_ID'].astype('category')\n",
    "\n",
    "print(financial_data['firm_ID'].dtype)\n",
    "\n",
    "## category\n",
    "\n",
    "print(financial_data['industry_ID'].dtype)\n",
    "\n",
    "## category"
   ]
  },
  {
   "cell_type": "markdown",
   "metadata": {},
   "source": [
    "**コードch04_04は，R言語特有のものであるため割愛**"
   ]
  },
  {
   "cell_type": "markdown",
   "metadata": {
    "id": "YowN1RumryYd"
   },
   "source": [
    "### 4.3 探索的データ分析\n",
    "\n",
    "#### 4.3.1 データセットの概要確認"
   ]
  },
  {
   "cell_type": "code",
   "execution_count": 4,
   "metadata": {
    "colab": {
     "base_uri": "https://localhost:8080/",
     "height": 394
    },
    "executionInfo": {
     "elapsed": 13,
     "status": "ok",
     "timestamp": 1686095584299,
     "user": {
      "displayName": "Katsuhiko Muramiya",
      "userId": "14255974330568111549"
     },
     "user_tz": -540
    },
    "id": "QfBeOTsRryYe",
    "outputId": "a83c90e0-7302-480b-9885-7397f7166f3f"
   },
   "outputs": [
    {
     "data": {
      "text/html": [
       "<div>\n",
       "<style scoped>\n",
       "    .dataframe tbody tr th:only-of-type {\n",
       "        vertical-align: middle;\n",
       "    }\n",
       "\n",
       "    .dataframe tbody tr th {\n",
       "        vertical-align: top;\n",
       "    }\n",
       "\n",
       "    .dataframe thead th {\n",
       "        text-align: right;\n",
       "    }\n",
       "</style>\n",
       "<table border=\"1\" class=\"dataframe\">\n",
       "  <thead>\n",
       "    <tr style=\"text-align: right;\">\n",
       "      <th></th>\n",
       "      <th>year</th>\n",
       "      <th>firm_ID</th>\n",
       "      <th>industry_ID</th>\n",
       "      <th>sales</th>\n",
       "      <th>OX</th>\n",
       "      <th>NFE</th>\n",
       "      <th>X</th>\n",
       "      <th>OA</th>\n",
       "      <th>FA</th>\n",
       "      <th>OL</th>\n",
       "      <th>FO</th>\n",
       "    </tr>\n",
       "  </thead>\n",
       "  <tbody>\n",
       "    <tr>\n",
       "      <th>count</th>\n",
       "      <td>7920.000000</td>\n",
       "      <td>7920.0</td>\n",
       "      <td>7920.0</td>\n",
       "      <td>7.920000e+03</td>\n",
       "      <td>7920.000000</td>\n",
       "      <td>7919.000000</td>\n",
       "      <td>7920.000000</td>\n",
       "      <td>7.920000e+03</td>\n",
       "      <td>7.920000e+03</td>\n",
       "      <td>7.920000e+03</td>\n",
       "      <td>7.920000e+03</td>\n",
       "    </tr>\n",
       "    <tr>\n",
       "      <th>unique</th>\n",
       "      <td>NaN</td>\n",
       "      <td>1515.0</td>\n",
       "      <td>10.0</td>\n",
       "      <td>NaN</td>\n",
       "      <td>NaN</td>\n",
       "      <td>NaN</td>\n",
       "      <td>NaN</td>\n",
       "      <td>NaN</td>\n",
       "      <td>NaN</td>\n",
       "      <td>NaN</td>\n",
       "      <td>NaN</td>\n",
       "    </tr>\n",
       "    <tr>\n",
       "      <th>top</th>\n",
       "      <td>NaN</td>\n",
       "      <td>1.0</td>\n",
       "      <td>3.0</td>\n",
       "      <td>NaN</td>\n",
       "      <td>NaN</td>\n",
       "      <td>NaN</td>\n",
       "      <td>NaN</td>\n",
       "      <td>NaN</td>\n",
       "      <td>NaN</td>\n",
       "      <td>NaN</td>\n",
       "      <td>NaN</td>\n",
       "    </tr>\n",
       "    <tr>\n",
       "      <th>freq</th>\n",
       "      <td>NaN</td>\n",
       "      <td>6.0</td>\n",
       "      <td>1760.0</td>\n",
       "      <td>NaN</td>\n",
       "      <td>NaN</td>\n",
       "      <td>NaN</td>\n",
       "      <td>NaN</td>\n",
       "      <td>NaN</td>\n",
       "      <td>NaN</td>\n",
       "      <td>NaN</td>\n",
       "      <td>NaN</td>\n",
       "    </tr>\n",
       "    <tr>\n",
       "      <th>mean</th>\n",
       "      <td>2017.542803</td>\n",
       "      <td>NaN</td>\n",
       "      <td>NaN</td>\n",
       "      <td>1.660070e+05</td>\n",
       "      <td>7968.907795</td>\n",
       "      <td>64.020924</td>\n",
       "      <td>7904.875920</td>\n",
       "      <td>1.522728e+05</td>\n",
       "      <td>8.018535e+04</td>\n",
       "      <td>5.026088e+04</td>\n",
       "      <td>7.068061e+04</td>\n",
       "    </tr>\n",
       "    <tr>\n",
       "      <th>std</th>\n",
       "      <td>1.705620</td>\n",
       "      <td>NaN</td>\n",
       "      <td>NaN</td>\n",
       "      <td>3.819803e+05</td>\n",
       "      <td>25951.564775</td>\n",
       "      <td>5941.342438</td>\n",
       "      <td>26910.184133</td>\n",
       "      <td>4.538792e+05</td>\n",
       "      <td>4.228521e+05</td>\n",
       "      <td>1.486024e+05</td>\n",
       "      <td>2.906257e+05</td>\n",
       "    </tr>\n",
       "    <tr>\n",
       "      <th>min</th>\n",
       "      <td>2015.000000</td>\n",
       "      <td>NaN</td>\n",
       "      <td>NaN</td>\n",
       "      <td>2.053400e+02</td>\n",
       "      <td>-353606.720000</td>\n",
       "      <td>-285383.869863</td>\n",
       "      <td>-357624.830000</td>\n",
       "      <td>2.165100e+02</td>\n",
       "      <td>2.884300e+02</td>\n",
       "      <td>3.504000e+01</td>\n",
       "      <td>4.364000e+01</td>\n",
       "    </tr>\n",
       "    <tr>\n",
       "      <th>25%</th>\n",
       "      <td>2016.000000</td>\n",
       "      <td>NaN</td>\n",
       "      <td>NaN</td>\n",
       "      <td>1.610333e+04</td>\n",
       "      <td>399.277500</td>\n",
       "      <td>-66.428412</td>\n",
       "      <td>383.270000</td>\n",
       "      <td>1.255991e+04</td>\n",
       "      <td>6.835073e+03</td>\n",
       "      <td>3.964835e+03</td>\n",
       "      <td>3.757440e+03</td>\n",
       "    </tr>\n",
       "    <tr>\n",
       "      <th>50%</th>\n",
       "      <td>2018.000000</td>\n",
       "      <td>NaN</td>\n",
       "      <td>NaN</td>\n",
       "      <td>4.043074e+04</td>\n",
       "      <td>1602.880000</td>\n",
       "      <td>-1.186762</td>\n",
       "      <td>1586.095000</td>\n",
       "      <td>3.079924e+04</td>\n",
       "      <td>1.909533e+04</td>\n",
       "      <td>1.086831e+04</td>\n",
       "      <td>1.112520e+04</td>\n",
       "    </tr>\n",
       "    <tr>\n",
       "      <th>75%</th>\n",
       "      <td>2019.000000</td>\n",
       "      <td>NaN</td>\n",
       "      <td>NaN</td>\n",
       "      <td>1.183138e+05</td>\n",
       "      <td>5260.460000</td>\n",
       "      <td>41.359527</td>\n",
       "      <td>5204.602500</td>\n",
       "      <td>9.346920e+04</td>\n",
       "      <td>5.211792e+04</td>\n",
       "      <td>3.311089e+04</td>\n",
       "      <td>3.544604e+04</td>\n",
       "    </tr>\n",
       "    <tr>\n",
       "      <th>max</th>\n",
       "      <td>2020.000000</td>\n",
       "      <td>NaN</td>\n",
       "      <td>NaN</td>\n",
       "      <td>3.496433e+06</td>\n",
       "      <td>398034.500000</td>\n",
       "      <td>331035.251520</td>\n",
       "      <td>572588.730000</td>\n",
       "      <td>7.987936e+06</td>\n",
       "      <td>2.925061e+07</td>\n",
       "      <td>2.817975e+06</td>\n",
       "      <td>7.026924e+06</td>\n",
       "    </tr>\n",
       "  </tbody>\n",
       "</table>\n",
       "</div>"
      ],
      "text/plain": [
       "               year  firm_ID  industry_ID         sales             OX  \\\n",
       "count   7920.000000   7920.0       7920.0  7.920000e+03    7920.000000   \n",
       "unique          NaN   1515.0         10.0           NaN            NaN   \n",
       "top             NaN      1.0          3.0           NaN            NaN   \n",
       "freq            NaN      6.0       1760.0           NaN            NaN   \n",
       "mean    2017.542803      NaN          NaN  1.660070e+05    7968.907795   \n",
       "std        1.705620      NaN          NaN  3.819803e+05   25951.564775   \n",
       "min     2015.000000      NaN          NaN  2.053400e+02 -353606.720000   \n",
       "25%     2016.000000      NaN          NaN  1.610333e+04     399.277500   \n",
       "50%     2018.000000      NaN          NaN  4.043074e+04    1602.880000   \n",
       "75%     2019.000000      NaN          NaN  1.183138e+05    5260.460000   \n",
       "max     2020.000000      NaN          NaN  3.496433e+06  398034.500000   \n",
       "\n",
       "                  NFE              X            OA            FA  \\\n",
       "count     7919.000000    7920.000000  7.920000e+03  7.920000e+03   \n",
       "unique            NaN            NaN           NaN           NaN   \n",
       "top               NaN            NaN           NaN           NaN   \n",
       "freq              NaN            NaN           NaN           NaN   \n",
       "mean        64.020924    7904.875920  1.522728e+05  8.018535e+04   \n",
       "std       5941.342438   26910.184133  4.538792e+05  4.228521e+05   \n",
       "min    -285383.869863 -357624.830000  2.165100e+02  2.884300e+02   \n",
       "25%        -66.428412     383.270000  1.255991e+04  6.835073e+03   \n",
       "50%         -1.186762    1586.095000  3.079924e+04  1.909533e+04   \n",
       "75%         41.359527    5204.602500  9.346920e+04  5.211792e+04   \n",
       "max     331035.251520  572588.730000  7.987936e+06  2.925061e+07   \n",
       "\n",
       "                  OL            FO  \n",
       "count   7.920000e+03  7.920000e+03  \n",
       "unique           NaN           NaN  \n",
       "top              NaN           NaN  \n",
       "freq             NaN           NaN  \n",
       "mean    5.026088e+04  7.068061e+04  \n",
       "std     1.486024e+05  2.906257e+05  \n",
       "min     3.504000e+01  4.364000e+01  \n",
       "25%     3.964835e+03  3.757440e+03  \n",
       "50%     1.086831e+04  1.112520e+04  \n",
       "75%     3.311089e+04  3.544604e+04  \n",
       "max     2.817975e+06  7.026924e+06  "
      ]
     },
     "execution_count": 4,
     "metadata": {},
     "output_type": "execute_result"
    }
   ],
   "source": [
    "# ch04_05: 要約統計量の表示\n",
    "\n",
    "# 要約統計量を表示するにはdescribe()メソッドを用い，include引数をallとすれば数値型以外の要約統計量も全て表示できる\n",
    "financial_data.describe(include='all')  "
   ]
  },
  {
   "cell_type": "code",
   "execution_count": 5,
   "metadata": {
    "colab": {
     "base_uri": "https://localhost:8080/"
    },
    "executionInfo": {
     "elapsed": 322,
     "status": "ok",
     "timestamp": 1686095584610,
     "user": {
      "displayName": "Katsuhiko Muramiya",
      "userId": "14255974330568111549"
     },
     "user_tz": -540
    },
    "id": "6-NZt82gryYe",
    "outputId": "b5d313d5-a8d9-411c-9074-8f52f87b4a2c"
   },
   "outputs": [
    {
     "data": {
      "text/plain": [
       "array([2015, 2016, 2017, 2018, 2019, 2020])"
      ]
     },
     "execution_count": 5,
     "metadata": {},
     "output_type": "execute_result"
    }
   ],
   "source": [
    "# ch04_06: year列の固有要素を抽出\n",
    "\n",
    "# pandasのunique()メソッドで固有要素の抽出\n",
    "financial_data['year'].unique()  \n",
    "\n",
    "## [2015 2016 2017 2018 2019 2020]"
   ]
  },
  {
   "cell_type": "code",
   "execution_count": 6,
   "metadata": {
    "colab": {
     "base_uri": "https://localhost:8080/"
    },
    "executionInfo": {
     "elapsed": 12,
     "status": "ok",
     "timestamp": 1686095584611,
     "user": {
      "displayName": "Katsuhiko Muramiya",
      "userId": "14255974330568111549"
     },
     "user_tz": -540
    },
    "id": "ood5iIKyryYf",
    "outputId": "f963cf0b-2794-48b1-e000-30eb26c5ae20"
   },
   "outputs": [
    {
     "data": {
      "text/plain": [
       "10"
      ]
     },
     "execution_count": 6,
     "metadata": {},
     "output_type": "execute_result"
    }
   ],
   "source": [
    "# ch04_07: firm_ID，及びindustry_ID列の固有要素数をカウント\n",
    "\n",
    "# len()関数を適用して固有要素数をカウント\n",
    "len(financial_data['firm_ID'].unique())  \n",
    "\n",
    "# nunique()メソッドを使っても同様\n",
    "financial_data['firm_ID'].nunique()  \n",
    "\n",
    "## 1515\n",
    "\n",
    "len(financial_data['industry_ID'].unique())\n",
    "\n",
    "## 10"
   ]
  },
  {
   "cell_type": "markdown",
   "metadata": {
    "id": "OhWrm_-5ryYg"
   },
   "source": [
    "#### 4.3.2 欠損データの処理"
   ]
  },
  {
   "cell_type": "code",
   "execution_count": 7,
   "metadata": {
    "executionInfo": {
     "elapsed": 323,
     "status": "ok",
     "timestamp": 1686095870988,
     "user": {
      "displayName": "Katsuhiko Muramiya",
      "userId": "14255974330568111549"
     },
     "user_tz": -540
    },
    "id": "9O48T-I9ryYg"
   },
   "outputs": [
    {
     "data": {
      "text/plain": [
       "0    False\n",
       "1     True\n",
       "2     True\n",
       "3     True\n",
       "4     True\n",
       "5     True\n",
       "dtype: bool"
      ]
     },
     "execution_count": 7,
     "metadata": {},
     "output_type": "execute_result"
    }
   ],
   "source": [
    "# ch04_08: 各行の欠損の有無を判定\n",
    "\n",
    "# notnull()とall(axis=1)を組み合わせてそれぞれの行の全要素が揃っているかを判定\n",
    "financial_data.notnull().all(axis=1).head(6)  \n",
    "\n",
    "## 0    False\n",
    "## 1     True\n",
    "## 2     True\n",
    "## 3     True\n",
    "## 4     True\n",
    "## 5     True\n",
    "## dtype: bool"
   ]
  },
  {
   "cell_type": "code",
   "execution_count": 8,
   "metadata": {
    "colab": {
     "base_uri": "https://localhost:8080/"
    },
    "executionInfo": {
     "elapsed": 292,
     "status": "ok",
     "timestamp": 1686095802832,
     "user": {
      "displayName": "Katsuhiko Muramiya",
      "userId": "14255974330568111549"
     },
     "user_tz": -540
    },
    "id": "NJWvOhAHryYh",
    "outputId": "1df8c532-e75d-4218-c32b-94c1886f7c28"
   },
   "outputs": [
    {
     "data": {
      "text/plain": [
       "7919"
      ]
     },
     "execution_count": 8,
     "metadata": {},
     "output_type": "execute_result"
    }
   ],
   "source": [
    "# ch04_09: 欠損のない行の総数をカウント\n",
    "\n",
    "financial_data.notnull().all(axis=1).sum() "
   ]
  },
  {
   "cell_type": "code",
   "execution_count": 9,
   "metadata": {
    "colab": {
     "base_uri": "https://localhost:8080/"
    },
    "executionInfo": {
     "elapsed": 5,
     "status": "ok",
     "timestamp": 1686095872923,
     "user": {
      "displayName": "Katsuhiko Muramiya",
      "userId": "14255974330568111549"
     },
     "user_tz": -540
    },
    "id": "IgiLJnpXryYh",
    "outputId": "9f66e6f9-f069-4ef0-a269-40a9ac5da71d"
   },
   "outputs": [
    {
     "data": {
      "text/plain": [
       "7919"
      ]
     },
     "execution_count": 9,
     "metadata": {},
     "output_type": "execute_result"
    }
   ],
   "source": [
    "# ch04_10: 欠損行を削除\n",
    "\n",
    "# 欠損行を削除した上でデータを上書き\n",
    "financial_data = financial_data.dropna()  # 単にfinancial_data.dropna(inplace=True)でも可．\n",
    "\n",
    "len(financial_data)\n",
    "\n",
    "## 7919"
   ]
  },
  {
   "cell_type": "markdown",
   "metadata": {
    "id": "u3KcFmTLryYh"
   },
   "source": [
    "### 4.4 データの抽出とヒストグラムによる可視化\n",
    "\n",
    "#### 4.4.1 条件に合うデータの抽出方法"
   ]
  },
  {
   "cell_type": "code",
   "execution_count": 10,
   "metadata": {
    "id": "wZ4vv3TSryYi"
   },
   "outputs": [],
   "source": [
    "# ch04_11: 2015年度のデータのみ抽出\n",
    "\n",
    "# copy()メソッドを利用し，元データと独立した新たなデータフレームを作成\n",
    "financial_data_2015 = financial_data[financial_data['year'] == 2015].copy()  \n",
    "\n",
    "# locを使っても同様の結果を得ることが可能\n",
    "financial_data_2015 = financial_data.loc[financial_data['year'] == 2015].copy()  "
   ]
  },
  {
   "cell_type": "markdown",
   "metadata": {},
   "source": [
    "**コードch04_12からコードch04_14は，R言語上での代替的な方法を説明しているため割愛**"
   ]
  },
  {
   "cell_type": "markdown",
   "metadata": {
    "id": "FiTVPz3LryYi"
   },
   "source": [
    "#### 4.4.2 ヒストグラムによる売上高の可視化"
   ]
  },
  {
   "cell_type": "code",
   "execution_count": 11,
   "metadata": {
    "colab": {
     "base_uri": "https://localhost:8080/",
     "height": 467
    },
    "executionInfo": {
     "elapsed": 461,
     "status": "ok",
     "timestamp": 1686038060448,
     "user": {
      "displayName": "Katsuhiko Muramiya",
      "userId": "14255974330568111549"
     },
     "user_tz": -540
    },
    "id": "I70fE2SXryYi",
    "outputId": "33ab9546-5a27-431b-b3b4-b41222a2f28f"
   },
   "outputs": [
    {
     "data": {
      "image/png": "[encoded data removed]",
      "text/plain": [
       "<Figure size 640x480 with 1 Axes>"
      ]
     },
     "metadata": {},
     "output_type": "display_data"
    }
   ],
   "source": [
    "# ch04_15: 2015年度の売上高をヒストグラムに図示\n",
    "\n",
    "plt.hist(financial_data_2015['sales'])\n",
    "plt.xlabel('sales')\n",
    "plt.ylabel('count')\n",
    "plt.show()"
   ]
  },
  {
   "cell_type": "code",
   "execution_count": 12,
   "metadata": {},
   "outputs": [
    {
     "data": {
      "image/png": "[encoded data removed]",
      "text/plain": [
       "<Figure size 640x480 with 1 Axes>"
      ]
     },
     "metadata": {},
     "output_type": "display_data"
    }
   ],
   "source": [
    "# ch04_16: 桁区切りのカンマをx軸の目盛りで表示\n",
    "\n",
    "# グラフの軸を微調整するためにmatplotlibのtickerモジュールをインポート\n",
    "import matplotlib.ticker as mticker  \n",
    "\n",
    "plt.hist(financial_data_2015['sales'])\n",
    "plt.xlabel('sales')\n",
    "plt.ylabel('count')\n",
    "plt.gca().xaxis.set_major_formatter(mticker.StrMethodFormatter('{x:,.0f}'))  # x軸ラベルのフォーマットを桁区切りのカンマに変更 \n",
    "plt.show()"
   ]
  },
  {
   "cell_type": "code",
   "execution_count": 13,
   "metadata": {
    "colab": {
     "base_uri": "https://localhost:8080/",
     "height": 467
    },
    "executionInfo": {
     "elapsed": 595,
     "status": "ok",
     "timestamp": 1686038061036,
     "user": {
      "displayName": "Katsuhiko Muramiya",
      "userId": "14255974330568111549"
     },
     "user_tz": -540
    },
    "id": "HsvdD6b-ryYj",
    "outputId": "01df686c-afb7-4f5f-8d72-01717a3f9941"
   },
   "outputs": [
    {
     "data": {
      "image/png": "[encoded data removed]",
      "text/plain": [
       "<Figure size 640x480 with 1 Axes>"
      ]
     },
     "metadata": {},
     "output_type": "display_data"
    }
   ],
   "source": [
    "# ch04_17: 売上高の自然対数を取ってヒストグラムで可視化\n",
    "\n",
    "plt.hist(np.log(financial_data_2015['sales']), bins='auto')  # 売上高の対数を自動でビン数を設定してヒストグラムで描画\n",
    "plt.xlabel('log(sales)')\n",
    "plt.ylabel('count')\n",
    "plt.show()"
   ]
  },
  {
   "cell_type": "code",
   "execution_count": 14,
   "metadata": {
    "colab": {
     "base_uri": "https://localhost:8080/"
    },
    "executionInfo": {
     "elapsed": 13,
     "status": "ok",
     "timestamp": 1686038061037,
     "user": {
      "displayName": "Katsuhiko Muramiya",
      "userId": "14255974330568111549"
     },
     "user_tz": -540
    },
    "id": "6QSu5pdEryYj",
    "outputId": "208021ae-506e-43f1-8fe5-669af165d020"
   },
   "outputs": [
    {
     "data": {
      "text/plain": [
       "10.607396368416119"
      ]
     },
     "execution_count": 14,
     "metadata": {},
     "output_type": "execute_result"
    }
   ],
   "source": [
    "# ch04_18: Pythonでの対数売上高の中央値の計算例\n",
    "\n",
    "np.log(financial_data['sales']).median()\n",
    "\n",
    "## 10.607396368416119"
   ]
  },
  {
   "cell_type": "markdown",
   "metadata": {
    "id": "UJplUZhnryYj"
   },
   "source": [
    "### 4.5 データの集計と折れ線グラフによる可視化\n",
    "\n",
    "#### 4.5.1 for文を用いた集計"
   ]
  },
  {
   "cell_type": "code",
   "execution_count": 15,
   "metadata": {
    "colab": {
     "base_uri": "https://localhost:8080/"
    },
    "executionInfo": {
     "elapsed": 12,
     "status": "ok",
     "timestamp": 1686038061037,
     "user": {
      "displayName": "Katsuhiko Muramiya",
      "userId": "14255974330568111549"
     },
     "user_tz": -540
    },
    "id": "H5OLXWpSryYj",
    "outputId": "7294f15f-e912-4823-e15b-57e14c655e28"
   },
   "outputs": [
    {
     "name": "stdout",
     "output_type": "stream",
     "text": [
      "[1265 1293 1319 1323 1356 1363]\n"
     ]
    }
   ],
   "source": [
    "# ch04_19: 各年度の上場企業数のカウント (1) - NumPyベース\n",
    "\n",
    "year_set = np.sort(financial_data['year'].unique())  # year列の固有要素を抽出して昇順に並び替え\n",
    "N_firms_by_year = np.full_like(year_set, np.nan, dtype=int)  # 結果を保存するため整数型の配列を準備\n",
    "\n",
    "for i in range(len(year_set)):\n",
    "    year_i = year_set[i]  # i番目の年度を抽出\n",
    "    N_firms_by_year[i] = np.sum(financial_data['year'] == year_i)  # i番目の年度のデータをカウント\n",
    "print(N_firms_by_year)  # 結果の表示"
   ]
  },
  {
   "cell_type": "code",
   "execution_count": 16,
   "metadata": {
    "colab": {
     "base_uri": "https://localhost:8080/"
    },
    "executionInfo": {
     "elapsed": 10,
     "status": "ok",
     "timestamp": 1686038061037,
     "user": {
      "displayName": "Katsuhiko Muramiya",
      "userId": "14255974330568111549"
     },
     "user_tz": -540
    },
    "id": "Nc0PKqE1ryYk",
    "outputId": "5764dd4a-aaf4-4744-d988-468509488e4c"
   },
   "outputs": [
    {
     "name": "stdout",
     "output_type": "stream",
     "text": [
      "   N_firms_by_year  year\n",
      "0             1265  2015\n",
      "1             1293  2016\n",
      "2             1319  2017\n",
      "3             1323  2018\n",
      "4             1356  2019\n",
      "5             1363  2020\n"
     ]
    }
   ],
   "source": [
    "# ch04_20: year列を追加しつつ，データフレームへと変換\n",
    "\n",
    "print(pd.DataFrame({'N_firms_by_year': N_firms_by_year, 'year': year_set}))"
   ]
  },
  {
   "cell_type": "code",
   "execution_count": 17,
   "metadata": {
    "colab": {
     "base_uri": "https://localhost:8080/"
    },
    "executionInfo": {
     "elapsed": 9,
     "status": "ok",
     "timestamp": 1686038061037,
     "user": {
      "displayName": "Katsuhiko Muramiya",
      "userId": "14255974330568111549"
     },
     "user_tz": -540
    },
    "id": "ANsQS8fqryYk",
    "outputId": "38c49d25-89e0-4a2c-82b1-0540390899bc"
   },
   "outputs": [
    {
     "name": "stdout",
     "output_type": "stream",
     "text": [
      "   year  N_firms\n",
      "0  2015     1265\n",
      "1  2016     1293\n",
      "2  2017     1319\n",
      "3  2018     1323\n",
      "4  2019     1356\n",
      "5  2020     1363\n"
     ]
    }
   ],
   "source": [
    "# ch04_21: 各年度の上場企業数のカウント (2) - pandasベース\n",
    "\n",
    "# インデックスをリセットすると共に，size()メソッドを適用して得られた各年の企業数を表す列をN_firmsと命名\n",
    "N_firms_by_year = financial_data.groupby('year').size().reset_index(name='N_firms')\n",
    "\n",
    "print(N_firms_by_year)"
   ]
  },
  {
   "cell_type": "markdown",
   "metadata": {},
   "source": [
    "**コードch04_22とch04_23は，R言語特有のものであるため割愛**"
   ]
  },
  {
   "cell_type": "code",
   "execution_count": 18,
   "metadata": {
    "id": "ZqYToLjuryYk"
   },
   "outputs": [],
   "source": [
    "# ch04_24: Pythonでの平均値の計算例\n",
    "\n",
    "mean_sales = financial_data['sales'].mean()\n",
    "\n",
    "## 166027.30017300165"
   ]
  },
  {
   "cell_type": "markdown",
   "metadata": {
    "id": "Qo2tSEtOryYl"
   },
   "source": [
    "#### 4.5.4 折れ線グラフによる上場企業数の可視化"
   ]
  },
  {
   "cell_type": "code",
   "execution_count": 19,
   "metadata": {
    "colab": {
     "base_uri": "https://localhost:8080/",
     "height": 472
    },
    "executionInfo": {
     "elapsed": 8,
     "status": "ok",
     "timestamp": 1686038061037,
     "user": {
      "displayName": "Katsuhiko Muramiya",
      "userId": "14255974330568111549"
     },
     "user_tz": -540
    },
    "id": "ey9XLpJQryYl",
    "outputId": "ad9e2af3-5145-4a95-fcd0-9fc2e173f4f8"
   },
   "outputs": [
    {
     "data": {
      "image/png": "[encoded data removed]",
      "text/plain": [
       "<Figure size 640x480 with 1 Axes>"
      ]
     },
     "metadata": {},
     "output_type": "display_data"
    }
   ],
   "source": [
    "# ch04_25: 上場企業数の推移を折れ線グラフで可視化\n",
    "\n",
    "plt.plot(\n",
    "    N_firms_by_year['year'],\n",
    "    N_firms_by_year['N_firms']\n",
    ")\n",
    "plt.xlabel('Year')\n",
    "plt.ylabel('Number of Firms')\n",
    "plt.title('Number of Firms by Year')\n",
    "plt.show()"
   ]
  },
  {
   "cell_type": "markdown",
   "metadata": {
    "id": "y__xC13_ryYl"
   },
   "source": [
    "### 4.6 変数の作成とヒストグラムによる可視化\n",
    "\n",
    "#### 4.6.1 新しい系列の追加"
   ]
  },
  {
   "cell_type": "code",
   "execution_count": 20,
   "metadata": {
    "id": "wM9SiwtQryYl"
   },
   "outputs": [],
   "source": [
    "# ch04_26: 株主資本の計算 (1)\n",
    "\n",
    "# 新しくBE列を定義\n",
    "financial_data['BE'] = (\n",
    "    (financial_data['OA'] - financial_data['OL']) -\n",
    "    (financial_data['FO'] - financial_data['FA'])\n",
    ")"
   ]
  },
  {
   "cell_type": "markdown",
   "metadata": {},
   "source": [
    "**コードch04_27は，R言語特有のものであるため割愛**"
   ]
  },
  {
   "cell_type": "markdown",
   "metadata": {
    "id": "5XBWEneuryYl"
   },
   "source": [
    "#### 4.6.2 ラグの取り方"
   ]
  },
  {
   "cell_type": "code",
   "execution_count": 21,
   "metadata": {
    "colab": {
     "base_uri": "https://localhost:8080/"
    },
    "executionInfo": {
     "elapsed": 7,
     "status": "ok",
     "timestamp": 1686038061037,
     "user": {
      "displayName": "Katsuhiko Muramiya",
      "userId": "14255974330568111549"
     },
     "user_tz": -540
    },
    "id": "-Df21wqDryYl",
    "outputId": "e7ea6a0e-e8f7-4cea-8d06-f4461bc568d7"
   },
   "outputs": [
    {
     "data": {
      "text/plain": [
       "1         NaN\n",
       "2    10013.82\n",
       "3    10426.33\n",
       "4    10842.01\n",
       "5    11074.95\n",
       "6    11593.58\n",
       "Name: lagged_BE, dtype: float64"
      ]
     },
     "execution_count": 21,
     "metadata": {},
     "output_type": "execute_result"
    }
   ],
   "source": [
    "# ch04_28: shift()関数を用いて前期の株主資本を取得 (1)\n",
    "\n",
    "financial_data['lagged_BE'] = financial_data['BE'].shift(1)\n",
    "financial_data['lagged_BE'].head(6)  # head()関数で冒頭6行の結果のみ表示\n",
    "\n",
    "## 1         NaN\n",
    "## 2    10013.82\n",
    "## 3    10426.33\n",
    "## 4    10842.01\n",
    "## 5    11074.95\n",
    "## 6    11593.58\n",
    "## Name: BE, dtype: float64"
   ]
  },
  {
   "cell_type": "code",
   "execution_count": 22,
   "metadata": {
    "colab": {
     "base_uri": "https://localhost:8080/"
    },
    "executionInfo": {
     "elapsed": 6,
     "status": "ok",
     "timestamp": 1686038061037,
     "user": {
      "displayName": "Katsuhiko Muramiya",
      "userId": "14255974330568111549"
     },
     "user_tz": -540
    },
    "id": "d4KKpQtlryYm",
    "outputId": "43f6594d-ee50-456f-a307-ef866f8f4ded"
   },
   "outputs": [
    {
     "data": {
      "text/plain": [
       "1         NaN\n",
       "2    10013.82\n",
       "3    10426.33\n",
       "4    10842.01\n",
       "5    11074.95\n",
       "6         NaN\n",
       "Name: lagged_BE, dtype: float64"
      ]
     },
     "execution_count": 22,
     "metadata": {},
     "output_type": "execute_result"
    }
   ],
   "source": [
    "# ch04_29: shift()関数を用いて前期の株主資本を取得 (2)\n",
    "\n",
    "financial_data['lagged_BE'] = financial_data.groupby('firm_ID')['BE'].shift(1)  # shift()関数をfirm_IDごとに適用\n",
    "# カテゴリ型の変数でgroupby()関数を適用すると，現行のデフォルトでは観測されていないカテゴリも含めてグループ化するが，\n",
    "# 将来的には観測されているカテゴリのみでグループ化するようデフォルトの変更が検討されているため，\n",
    "# pandasのバージョンによってはFutureWarningが表示される\n",
    "\n",
    "financial_data['lagged_BE'].head(6)  # head()関数で冒頭6行の結果のみ表示"
   ]
  },
  {
   "cell_type": "markdown",
   "metadata": {
    "id": "5d5jZW5aryYn"
   },
   "source": [
    "#### 4.6.3 ROEの計算とヒストグラムによる可視化"
   ]
  },
  {
   "cell_type": "code",
   "execution_count": 23,
   "metadata": {
    "colab": {
     "base_uri": "https://localhost:8080/",
     "height": 467
    },
    "executionInfo": {
     "elapsed": 598,
     "status": "ok",
     "timestamp": 1686038061630,
     "user": {
      "displayName": "Katsuhiko Muramiya",
      "userId": "14255974330568111549"
     },
     "user_tz": -540
    },
    "id": "DUuasryPryYn",
    "outputId": "372ac4d0-d7f4-4662-b2a1-231baab82e10"
   },
   "outputs": [
    {
     "data": {
      "image/png": "[encoded data removed]",
      "text/plain": [
       "<Figure size 640x480 with 1 Axes>"
      ]
     },
     "metadata": {},
     "output_type": "display_data"
    }
   ],
   "source": [
    "# ch04_30: ROEの計算とヒストグラムによる可視化\n",
    "\n",
    "financial_data['ROE'] = financial_data['X'] / financial_data['lagged_BE']\n",
    "\n",
    "plt.hist(financial_data['ROE'], range=(-0.1, 0.5), bins='auto')  # 表示するx軸の範囲を(-0.1, 0.5)に限定\n",
    "plt.xlabel('ROE')\n",
    "plt.ylabel('count')\n",
    "plt.show()"
   ]
  },
  {
   "cell_type": "markdown",
   "metadata": {
    "id": "Vykbya8LryYn"
   },
   "source": [
    "### 4.7 グループごとの集計とランク付け\n",
    "\n",
    "#### 4.7.1 産業ごとのROE平均値と棒グラフによる可視化"
   ]
  },
  {
   "cell_type": "code",
   "execution_count": 24,
   "metadata": {
    "colab": {
     "base_uri": "https://localhost:8080/"
    },
    "executionInfo": {
     "elapsed": 5,
     "status": "ok",
     "timestamp": 1686038065508,
     "user": {
      "displayName": "Katsuhiko Muramiya",
      "userId": "14255974330568111549"
     },
     "user_tz": -540
    },
    "id": "OBx8BfiJryYn",
    "outputId": "c0033f02-1bb8-4f64-b517-267098ef6560"
   },
   "outputs": [
    {
     "name": "stdout",
     "output_type": "stream",
     "text": [
      "  industry_ID  mean_ROE\n",
      "0           1  0.077311\n",
      "1           2  0.107616\n",
      "2           3  0.075489\n",
      "3           4  0.073719\n",
      "4           5  0.085703\n",
      "5           6  0.095142\n",
      "6           7  0.067555\n",
      "7           8  0.093711\n",
      "8           9  0.083403\n",
      "9          10  0.075273\n"
     ]
    }
   ],
   "source": [
    "# ch04_31: 産業別のROE平均値を計算\n",
    "\n",
    "mean_ROE_by_industry = financial_data.groupby('industry_ID')['ROE'].mean().reset_index()\n",
    "# reset_index()メソッドを適用しなければindustry_IDがインデックスになってしまう\n",
    "\n",
    "# columns属性に変数名を代入し，列名を指定\n",
    "mean_ROE_by_industry.columns = ['industry_ID', 'mean_ROE']  \n",
    "print(mean_ROE_by_industry)\n",
    "\n",
    "##   industry_ID  mean_ROE\n",
    "## 0           1  0.077311\n",
    "## 1           2  0.107616\n",
    "## 2           3  0.075489\n",
    "## 3           4  0.073719\n",
    "## 4           5  0.085703\n",
    "## 5           6  0.095142\n",
    "## 6           7  0.067555\n",
    "## 7           8  0.093711\n",
    "## 8           9  0.083403\n",
    "## 9          10  0.075273"
   ]
  },
  {
   "cell_type": "code",
   "execution_count": 25,
   "metadata": {
    "colab": {
     "base_uri": "https://localhost:8080/",
     "height": 472
    },
    "executionInfo": {
     "elapsed": 445,
     "status": "ok",
     "timestamp": 1685606250723,
     "user": {
      "displayName": "Katsuhiko Muramiya",
      "userId": "14255974330568111549"
     },
     "user_tz": -540
    },
    "id": "luIRVwgTryYo",
    "outputId": "4e1fb542-f20b-4488-9db0-8562badc175d"
   },
   "outputs": [
    {
     "data": {
      "image/png": "[encoded data removed]",
      "text/plain": [
       "<Figure size 640x480 with 1 Axes>"
      ]
     },
     "metadata": {},
     "output_type": "display_data"
    }
   ],
   "source": [
    "# ch04_32: 産業別のROE平均値を棒グラフで可視化\n",
    "\n",
    "plt.bar(\n",
    "    mean_ROE_by_industry['industry_ID'],\n",
    "    mean_ROE_by_industry['mean_ROE']\n",
    ")\n",
    "plt.xticks(mean_ROE_by_industry['industry_ID'])  # x軸に全てのindustry_IDが表示されるようにする\n",
    "plt.xlabel('Industry ID')\n",
    "plt.ylabel('Industry Average ROE')\n",
    "plt.title('Mean ROE by Industry')\n",
    "plt.show()"
   ]
  },
  {
   "cell_type": "markdown",
   "metadata": {
    "id": "z8MnUit_X64u"
   },
   "source": [
    "#### 4.7.2 産業内でのROEのランク付け"
   ]
  },
  {
   "cell_type": "code",
   "execution_count": 26,
   "metadata": {
    "id": "LwsD9uX1X8D_"
   },
   "outputs": [],
   "source": [
    "# ch04_33: 最終年度のデータのみを抽出\n",
    "\n",
    "# 最終年度のみを抽出し，financial_data_2020として定義\n",
    "financial_data_2020 = financial_data[financial_data['year'] == 2020].copy()"
   ]
  },
  {
   "cell_type": "code",
   "execution_count": 27,
   "metadata": {
    "colab": {
     "base_uri": "https://localhost:8080/",
     "height": 424
    },
    "executionInfo": {
     "elapsed": 9,
     "status": "ok",
     "timestamp": 1686038137751,
     "user": {
      "displayName": "Katsuhiko Muramiya",
      "userId": "14255974330568111549"
     },
     "user_tz": -540
    },
    "id": "PhmnaycuYPiq",
    "outputId": "09bffe67-a896-48c4-c233-cc007c51fff5"
   },
   "outputs": [],
   "source": [
    "# ch04_34: 最終年度に関してfirm_ID・industry_ID・ROEの各列を抽出\n",
    "\n",
    "financial_data_2020 = financial_data[financial_data['year'] == 2020][['firm_ID', 'industry_ID', 'ROE']]"
   ]
  },
  {
   "cell_type": "code",
   "execution_count": 28,
   "metadata": {
    "id": "NbMG2fErYbF7"
   },
   "outputs": [],
   "source": [
    "# ch04_35: 産業別に各企業をROEで順序付け (1)\n",
    "\n",
    "financial_data_2020['ROE_rank'] = financial_data_2020.groupby('industry_ID')['ROE'].rank()  # rank()メソッドで順序付けが可能"
   ]
  },
  {
   "cell_type": "code",
   "execution_count": 29,
   "metadata": {
    "id": "qXQmlOjQZp9h"
   },
   "outputs": [],
   "source": [
    "# ch04_36: 産業別に各企業をROEで順序付け (2)\n",
    "\n",
    "# 降順で順序付けするにはascending引数でFalseを指定\n",
    "financial_data_2020['ROE_rank'] = financial_data_2020.groupby('industry_ID')['ROE'].rank(ascending=False)  "
   ]
  },
  {
   "cell_type": "code",
   "execution_count": 30,
   "metadata": {
    "colab": {
     "base_uri": "https://localhost:8080/",
     "height": 424
    },
    "executionInfo": {
     "elapsed": 539,
     "status": "ok",
     "timestamp": 1685606278345,
     "user": {
      "displayName": "Katsuhiko Muramiya",
      "userId": "14255974330568111549"
     },
     "user_tz": -540
    },
    "id": "jbZow29Qawr5",
    "outputId": "2791681e-561e-4e0d-c723-4be8126a5dfb"
   },
   "outputs": [
    {
     "data": {
      "text/html": [
       "<div>\n",
       "<style scoped>\n",
       "    .dataframe tbody tr th:only-of-type {\n",
       "        vertical-align: middle;\n",
       "    }\n",
       "\n",
       "    .dataframe tbody tr th {\n",
       "        vertical-align: top;\n",
       "    }\n",
       "\n",
       "    .dataframe thead th {\n",
       "        text-align: right;\n",
       "    }\n",
       "</style>\n",
       "<table border=\"1\" class=\"dataframe\">\n",
       "  <thead>\n",
       "    <tr style=\"text-align: right;\">\n",
       "      <th></th>\n",
       "      <th>firm_ID</th>\n",
       "      <th>industry_ID</th>\n",
       "      <th>ROE</th>\n",
       "      <th>ROE_rank</th>\n",
       "    </tr>\n",
       "  </thead>\n",
       "  <tbody>\n",
       "    <tr>\n",
       "      <th>44</th>\n",
       "      <td>8</td>\n",
       "      <td>1</td>\n",
       "      <td>0.388255</td>\n",
       "      <td>1.0</td>\n",
       "    </tr>\n",
       "    <tr>\n",
       "      <th>451</th>\n",
       "      <td>90</td>\n",
       "      <td>1</td>\n",
       "      <td>0.333948</td>\n",
       "      <td>2.0</td>\n",
       "    </tr>\n",
       "    <tr>\n",
       "      <th>1142</th>\n",
       "      <td>225</td>\n",
       "      <td>1</td>\n",
       "      <td>0.300611</td>\n",
       "      <td>3.0</td>\n",
       "    </tr>\n",
       "    <tr>\n",
       "      <th>408</th>\n",
       "      <td>81</td>\n",
       "      <td>1</td>\n",
       "      <td>0.231127</td>\n",
       "      <td>4.0</td>\n",
       "    </tr>\n",
       "    <tr>\n",
       "      <th>870</th>\n",
       "      <td>171</td>\n",
       "      <td>1</td>\n",
       "      <td>0.218474</td>\n",
       "      <td>5.0</td>\n",
       "    </tr>\n",
       "    <tr>\n",
       "      <th>...</th>\n",
       "      <td>...</td>\n",
       "      <td>...</td>\n",
       "      <td>...</td>\n",
       "      <td>...</td>\n",
       "    </tr>\n",
       "    <tr>\n",
       "      <th>6438</th>\n",
       "      <td>1243</td>\n",
       "      <td>10</td>\n",
       "      <td>NaN</td>\n",
       "      <td>NaN</td>\n",
       "    </tr>\n",
       "    <tr>\n",
       "      <th>6616</th>\n",
       "      <td>1275</td>\n",
       "      <td>10</td>\n",
       "      <td>NaN</td>\n",
       "      <td>NaN</td>\n",
       "    </tr>\n",
       "    <tr>\n",
       "      <th>7103</th>\n",
       "      <td>1364</td>\n",
       "      <td>10</td>\n",
       "      <td>NaN</td>\n",
       "      <td>NaN</td>\n",
       "    </tr>\n",
       "    <tr>\n",
       "      <th>7568</th>\n",
       "      <td>1450</td>\n",
       "      <td>10</td>\n",
       "      <td>NaN</td>\n",
       "      <td>NaN</td>\n",
       "    </tr>\n",
       "    <tr>\n",
       "      <th>7815</th>\n",
       "      <td>1496</td>\n",
       "      <td>10</td>\n",
       "      <td>NaN</td>\n",
       "      <td>NaN</td>\n",
       "    </tr>\n",
       "  </tbody>\n",
       "</table>\n",
       "<p>1363 rows × 4 columns</p>\n",
       "</div>"
      ],
      "text/plain": [
       "     firm_ID industry_ID       ROE  ROE_rank\n",
       "44         8           1  0.388255       1.0\n",
       "451       90           1  0.333948       2.0\n",
       "1142     225           1  0.300611       3.0\n",
       "408       81           1  0.231127       4.0\n",
       "870      171           1  0.218474       5.0\n",
       "...      ...         ...       ...       ...\n",
       "6438    1243          10       NaN       NaN\n",
       "6616    1275          10       NaN       NaN\n",
       "7103    1364          10       NaN       NaN\n",
       "7568    1450          10       NaN       NaN\n",
       "7815    1496          10       NaN       NaN\n",
       "\n",
       "[1363 rows x 4 columns]"
      ]
     },
     "execution_count": 30,
     "metadata": {},
     "output_type": "execute_result"
    }
   ],
   "source": [
    "# ch04_37: 産業別に各企業をROEで順序付け (3)\n",
    "\n",
    "financial_data_2020.sort_values(by=['industry_ID', 'ROE_rank'])"
   ]
  },
  {
   "cell_type": "code",
   "execution_count": 31,
   "metadata": {
    "colab": {
     "base_uri": "https://localhost:8080/",
     "height": 363
    },
    "executionInfo": {
     "elapsed": 412,
     "status": "ok",
     "timestamp": 1685606285918,
     "user": {
      "displayName": "Katsuhiko Muramiya",
      "userId": "14255974330568111549"
     },
     "user_tz": -540
    },
    "id": "o6lJ6OBlcRDF",
    "outputId": "ff5e130a-f578-4c13-f4dc-138192ddde7e"
   },
   "outputs": [
    {
     "data": {
      "text/html": [
       "<div>\n",
       "<style scoped>\n",
       "    .dataframe tbody tr th:only-of-type {\n",
       "        vertical-align: middle;\n",
       "    }\n",
       "\n",
       "    .dataframe tbody tr th {\n",
       "        vertical-align: top;\n",
       "    }\n",
       "\n",
       "    .dataframe thead th {\n",
       "        text-align: right;\n",
       "    }\n",
       "</style>\n",
       "<table border=\"1\" class=\"dataframe\">\n",
       "  <thead>\n",
       "    <tr style=\"text-align: right;\">\n",
       "      <th></th>\n",
       "      <th>firm_ID</th>\n",
       "      <th>industry_ID</th>\n",
       "      <th>ROE</th>\n",
       "      <th>ROE_rank</th>\n",
       "    </tr>\n",
       "  </thead>\n",
       "  <tbody>\n",
       "    <tr>\n",
       "      <th>44</th>\n",
       "      <td>8</td>\n",
       "      <td>1</td>\n",
       "      <td>0.388255</td>\n",
       "      <td>1.0</td>\n",
       "    </tr>\n",
       "    <tr>\n",
       "      <th>1241</th>\n",
       "      <td>242</td>\n",
       "      <td>2</td>\n",
       "      <td>0.374999</td>\n",
       "      <td>1.0</td>\n",
       "    </tr>\n",
       "    <tr>\n",
       "      <th>2485</th>\n",
       "      <td>475</td>\n",
       "      <td>3</td>\n",
       "      <td>0.497536</td>\n",
       "      <td>1.0</td>\n",
       "    </tr>\n",
       "    <tr>\n",
       "      <th>3261</th>\n",
       "      <td>619</td>\n",
       "      <td>4</td>\n",
       "      <td>0.149131</td>\n",
       "      <td>1.0</td>\n",
       "    </tr>\n",
       "    <tr>\n",
       "      <th>3482</th>\n",
       "      <td>661</td>\n",
       "      <td>5</td>\n",
       "      <td>0.267314</td>\n",
       "      <td>1.0</td>\n",
       "    </tr>\n",
       "    <tr>\n",
       "      <th>3749</th>\n",
       "      <td>719</td>\n",
       "      <td>6</td>\n",
       "      <td>0.142203</td>\n",
       "      <td>1.0</td>\n",
       "    </tr>\n",
       "    <tr>\n",
       "      <th>4822</th>\n",
       "      <td>929</td>\n",
       "      <td>7</td>\n",
       "      <td>0.564181</td>\n",
       "      <td>1.0</td>\n",
       "    </tr>\n",
       "    <tr>\n",
       "      <th>5433</th>\n",
       "      <td>1042</td>\n",
       "      <td>8</td>\n",
       "      <td>0.255996</td>\n",
       "      <td>1.0</td>\n",
       "    </tr>\n",
       "    <tr>\n",
       "      <th>6039</th>\n",
       "      <td>1167</td>\n",
       "      <td>9</td>\n",
       "      <td>0.234623</td>\n",
       "      <td>1.0</td>\n",
       "    </tr>\n",
       "    <tr>\n",
       "      <th>7179</th>\n",
       "      <td>1380</td>\n",
       "      <td>10</td>\n",
       "      <td>0.249793</td>\n",
       "      <td>1.0</td>\n",
       "    </tr>\n",
       "  </tbody>\n",
       "</table>\n",
       "</div>"
      ],
      "text/plain": [
       "     firm_ID industry_ID       ROE  ROE_rank\n",
       "44         8           1  0.388255       1.0\n",
       "1241     242           2  0.374999       1.0\n",
       "2485     475           3  0.497536       1.0\n",
       "3261     619           4  0.149131       1.0\n",
       "3482     661           5  0.267314       1.0\n",
       "3749     719           6  0.142203       1.0\n",
       "4822     929           7  0.564181       1.0\n",
       "5433    1042           8  0.255996       1.0\n",
       "6039    1167           9  0.234623       1.0\n",
       "7179    1380          10  0.249793       1.0"
      ]
     },
     "execution_count": 31,
     "metadata": {},
     "output_type": "execute_result"
    }
   ],
   "source": [
    "# ch04_38: 各産業でROEが最も高い企業のみを抽出 (1)\n",
    "\n",
    "financial_data_2020[financial_data_2020['ROE_rank'] == 1]"
   ]
  },
  {
   "cell_type": "markdown",
   "metadata": {},
   "source": [
    "**コードch04_39は，上記のコードch04_33-ch04_38までの流れとほとんど同じため割愛**\n"
   ]
  },
  {
   "cell_type": "markdown",
   "metadata": {
    "id": "O-6nJOjUebsG"
   },
   "source": [
    "### 4.8 上級デュポン・モデルによるROEの分析とその可視化\n",
    "\n",
    "#### 4.8.1 分析用のデータセットの作成"
   ]
  },
  {
   "cell_type": "code",
   "execution_count": 32,
   "metadata": {
    "colab": {
     "base_uri": "https://localhost:8080/",
     "height": 236
    },
    "executionInfo": {
     "elapsed": 404,
     "status": "ok",
     "timestamp": 1685599059109,
     "user": {
      "displayName": "Katsuhiko Muramiya",
      "userId": "14255974330568111549"
     },
     "user_tz": -540
    },
    "id": "2p-g_HpSefBR",
    "outputId": "a43d7856-f8ec-4d6d-e6ab-7507b5574821"
   },
   "outputs": [
    {
     "data": {
      "text/html": [
       "<div>\n",
       "<style scoped>\n",
       "    .dataframe tbody tr th:only-of-type {\n",
       "        vertical-align: middle;\n",
       "    }\n",
       "\n",
       "    .dataframe tbody tr th {\n",
       "        vertical-align: top;\n",
       "    }\n",
       "\n",
       "    .dataframe thead th {\n",
       "        text-align: right;\n",
       "    }\n",
       "</style>\n",
       "<table border=\"1\" class=\"dataframe\">\n",
       "  <thead>\n",
       "    <tr style=\"text-align: right;\">\n",
       "      <th></th>\n",
       "      <th>year</th>\n",
       "      <th>firm_ID</th>\n",
       "      <th>industry_ID</th>\n",
       "      <th>sales</th>\n",
       "      <th>OX</th>\n",
       "      <th>NFE</th>\n",
       "      <th>X</th>\n",
       "      <th>OA</th>\n",
       "      <th>FA</th>\n",
       "      <th>OL</th>\n",
       "      <th>...</th>\n",
       "      <th>lagged_BE</th>\n",
       "      <th>ROE</th>\n",
       "      <th>NOA</th>\n",
       "      <th>RNOA</th>\n",
       "      <th>PM</th>\n",
       "      <th>ATO</th>\n",
       "      <th>NFO</th>\n",
       "      <th>lagged_FLEV</th>\n",
       "      <th>NBC</th>\n",
       "      <th>ROE_DuPont</th>\n",
       "    </tr>\n",
       "  </thead>\n",
       "  <tbody>\n",
       "    <tr>\n",
       "      <th>1</th>\n",
       "      <td>2016</td>\n",
       "      <td>1</td>\n",
       "      <td>1</td>\n",
       "      <td>5948.96</td>\n",
       "      <td>564.14</td>\n",
       "      <td>50.667498</td>\n",
       "      <td>513.48</td>\n",
       "      <td>13865.58</td>\n",
       "      <td>4642.16</td>\n",
       "      <td>4534.22</td>\n",
       "      <td>...</td>\n",
       "      <td>NaN</td>\n",
       "      <td>NaN</td>\n",
       "      <td>9331.36</td>\n",
       "      <td>NaN</td>\n",
       "      <td>0.094830</td>\n",
       "      <td>NaN</td>\n",
       "      <td>-682.46</td>\n",
       "      <td>NaN</td>\n",
       "      <td>NaN</td>\n",
       "      <td>NaN</td>\n",
       "    </tr>\n",
       "    <tr>\n",
       "      <th>2</th>\n",
       "      <td>2017</td>\n",
       "      <td>1</td>\n",
       "      <td>1</td>\n",
       "      <td>6505.06</td>\n",
       "      <td>691.18</td>\n",
       "      <td>29.543157</td>\n",
       "      <td>661.64</td>\n",
       "      <td>13952.58</td>\n",
       "      <td>7743.99</td>\n",
       "      <td>5111.22</td>\n",
       "      <td>...</td>\n",
       "      <td>10013.82</td>\n",
       "      <td>0.066073</td>\n",
       "      <td>8841.36</td>\n",
       "      <td>0.074071</td>\n",
       "      <td>0.106253</td>\n",
       "      <td>0.697118</td>\n",
       "      <td>-1584.97</td>\n",
       "      <td>-0.068152</td>\n",
       "      <td>-0.043289</td>\n",
       "      <td>0.066072</td>\n",
       "    </tr>\n",
       "    <tr>\n",
       "      <th>3</th>\n",
       "      <td>2018</td>\n",
       "      <td>1</td>\n",
       "      <td>1</td>\n",
       "      <td>6846.38</td>\n",
       "      <td>751.29</td>\n",
       "      <td>86.486500</td>\n",
       "      <td>664.80</td>\n",
       "      <td>18818.48</td>\n",
       "      <td>7284.72</td>\n",
       "      <td>5137.28</td>\n",
       "      <td>...</td>\n",
       "      <td>10426.33</td>\n",
       "      <td>0.063762</td>\n",
       "      <td>13681.20</td>\n",
       "      <td>0.084974</td>\n",
       "      <td>0.109735</td>\n",
       "      <td>0.774358</td>\n",
       "      <td>2839.19</td>\n",
       "      <td>-0.152016</td>\n",
       "      <td>-0.054567</td>\n",
       "      <td>0.063762</td>\n",
       "    </tr>\n",
       "    <tr>\n",
       "      <th>4</th>\n",
       "      <td>2019</td>\n",
       "      <td>1</td>\n",
       "      <td>1</td>\n",
       "      <td>7572.24</td>\n",
       "      <td>958.53</td>\n",
       "      <td>298.049774</td>\n",
       "      <td>660.48</td>\n",
       "      <td>18190.00</td>\n",
       "      <td>9735.13</td>\n",
       "      <td>5487.96</td>\n",
       "      <td>...</td>\n",
       "      <td>10842.01</td>\n",
       "      <td>0.060919</td>\n",
       "      <td>12702.04</td>\n",
       "      <td>0.070062</td>\n",
       "      <td>0.126585</td>\n",
       "      <td>0.553478</td>\n",
       "      <td>1627.09</td>\n",
       "      <td>0.261869</td>\n",
       "      <td>0.104977</td>\n",
       "      <td>0.060919</td>\n",
       "    </tr>\n",
       "    <tr>\n",
       "      <th>5</th>\n",
       "      <td>2020</td>\n",
       "      <td>1</td>\n",
       "      <td>1</td>\n",
       "      <td>7537.63</td>\n",
       "      <td>778.37</td>\n",
       "      <td>-65.458772</td>\n",
       "      <td>843.83</td>\n",
       "      <td>20462.86</td>\n",
       "      <td>10274.25</td>\n",
       "      <td>5371.38</td>\n",
       "      <td>...</td>\n",
       "      <td>11074.95</td>\n",
       "      <td>0.076193</td>\n",
       "      <td>15091.48</td>\n",
       "      <td>0.061279</td>\n",
       "      <td>0.103265</td>\n",
       "      <td>0.593419</td>\n",
       "      <td>3497.90</td>\n",
       "      <td>0.146916</td>\n",
       "      <td>-0.040231</td>\n",
       "      <td>0.076193</td>\n",
       "    </tr>\n",
       "  </tbody>\n",
       "</table>\n",
       "<p>5 rows × 22 columns</p>\n",
       "</div>"
      ],
      "text/plain": [
       "   year firm_ID industry_ID    sales      OX         NFE       X        OA  \\\n",
       "1  2016       1           1  5948.96  564.14   50.667498  513.48  13865.58   \n",
       "2  2017       1           1  6505.06  691.18   29.543157  661.64  13952.58   \n",
       "3  2018       1           1  6846.38  751.29   86.486500  664.80  18818.48   \n",
       "4  2019       1           1  7572.24  958.53  298.049774  660.48  18190.00   \n",
       "5  2020       1           1  7537.63  778.37  -65.458772  843.83  20462.86   \n",
       "\n",
       "         FA       OL  ...  lagged_BE       ROE       NOA      RNOA        PM  \\\n",
       "1   4642.16  4534.22  ...        NaN       NaN   9331.36       NaN  0.094830   \n",
       "2   7743.99  5111.22  ...   10013.82  0.066073   8841.36  0.074071  0.106253   \n",
       "3   7284.72  5137.28  ...   10426.33  0.063762  13681.20  0.084974  0.109735   \n",
       "4   9735.13  5487.96  ...   10842.01  0.060919  12702.04  0.070062  0.126585   \n",
       "5  10274.25  5371.38  ...   11074.95  0.076193  15091.48  0.061279  0.103265   \n",
       "\n",
       "        ATO      NFO  lagged_FLEV       NBC  ROE_DuPont  \n",
       "1       NaN  -682.46          NaN       NaN         NaN  \n",
       "2  0.697118 -1584.97    -0.068152 -0.043289    0.066072  \n",
       "3  0.774358  2839.19    -0.152016 -0.054567    0.063762  \n",
       "4  0.553478  1627.09     0.261869  0.104977    0.060919  \n",
       "5  0.593419  3497.90     0.146916 -0.040231    0.076193  \n",
       "\n",
       "[5 rows x 22 columns]"
      ]
     },
     "execution_count": 32,
     "metadata": {},
     "output_type": "execute_result"
    }
   ],
   "source": [
    "# ch04_40: 上級デュポン・モデルによるROEの分析\n",
    "\n",
    "financial_data_DuPont = financial_data.copy()\n",
    "financial_data_DuPont['NOA'] = financial_data_DuPont['OA'] - financial_data_DuPont['OL']\n",
    "financial_data_DuPont['RNOA'] = financial_data_DuPont['OX'] / financial_data_DuPont.groupby('firm_ID')['NOA'].shift()\n",
    "financial_data_DuPont['PM'] = financial_data_DuPont['OX'] / financial_data_DuPont['sales']\n",
    "financial_data_DuPont['ATO'] = financial_data_DuPont['sales'] / financial_data_DuPont.groupby('firm_ID')['NOA'].shift()\n",
    "financial_data_DuPont['NFO'] = financial_data_DuPont['FO'] - financial_data_DuPont['FA']\n",
    "financial_data_DuPont['lagged_FLEV'] = financial_data_DuPont.groupby('firm_ID')['NFO'].shift() / financial_data_DuPont['lagged_BE']\n",
    "financial_data_DuPont['NBC'] = financial_data_DuPont['NFE'] / financial_data_DuPont.groupby('firm_ID')['NFO'].shift()\n",
    "financial_data_DuPont['ROE_DuPont'] = (\n",
    "    financial_data_DuPont['RNOA'] +\n",
    "    financial_data_DuPont['lagged_FLEV'] * \n",
    "    (financial_data_DuPont['RNOA'] - financial_data_DuPont['NBC'])\n",
    ")\n",
    "\n",
    "financial_data_DuPont.head()"
   ]
  },
  {
   "cell_type": "markdown",
   "metadata": {},
   "source": [
    "**コードch04_41は，R言語特有のものであるため割愛**"
   ]
  },
  {
   "cell_type": "code",
   "execution_count": 33,
   "metadata": {
    "colab": {
     "base_uri": "https://localhost:8080/",
     "height": 449
    },
    "executionInfo": {
     "elapsed": 1006,
     "status": "ok",
     "timestamp": 1685606416717,
     "user": {
      "displayName": "Katsuhiko Muramiya",
      "userId": "14255974330568111549"
     },
     "user_tz": -540
    },
    "id": "aTzPvT17fYzl",
    "outputId": "6a86f546-ebb8-4ecc-f4c4-ecea1cd66371"
   },
   "outputs": [
    {
     "data": {
      "image/png": "[encoded data removed]",
      "text/plain": [
       "<Figure size 640x480 with 1 Axes>"
      ]
     },
     "metadata": {},
     "output_type": "display_data"
    }
   ],
   "source": [
    "# ch04_42: 箱ひげ図を用いたPMの可視化\n",
    "\n",
    "# seabornライブラリの読み込み\n",
    "import seaborn as sns  \n",
    "\n",
    "# 条件に合致する企業を抽出し，filtered_dataとして定義\n",
    "filtered_data = financial_data_DuPont[\n",
    "    (financial_data_DuPont['year'] == 2020) &\n",
    "    (financial_data_DuPont['industry_ID'].isin(range(2, 7)))\n",
    "].copy()\n",
    "\n",
    "# 箱ひげ図により描画\n",
    "sns.boxplot(\n",
    "    x='industry_ID', \n",
    "    y='PM', \n",
    "    data=filtered_data, \n",
    "    order=sorted(filtered_data['industry_ID'].unique())\n",
    ")\n",
    "plt.xlabel('Industry ID')\n",
    "plt.ylabel('PM')\n",
    "plt.show()"
   ]
  },
  {
   "cell_type": "code",
   "execution_count": 34,
   "metadata": {
    "colab": {
     "base_uri": "https://localhost:8080/",
     "height": 449
    },
    "executionInfo": {
     "elapsed": 359,
     "status": "ok",
     "timestamp": 1685606534079,
     "user": {
      "displayName": "Katsuhiko Muramiya",
      "userId": "14255974330568111549"
     },
     "user_tz": -540
    },
    "id": "K-NYf7U2hO30",
    "outputId": "951be3c3-1c9b-474c-b956-6867c4d0a201"
   },
   "outputs": [
    {
     "data": {
      "image/png": "[encoded data removed]",
      "text/plain": [
       "<Figure size 640x480 with 1 Axes>"
      ]
     },
     "metadata": {},
     "output_type": "display_data"
    }
   ],
   "source": [
    "# ch04_43: ATOとPMのトレードオフの可視化\n",
    "\n",
    "# 産業ごとにPMとATOの中央値を算出し，データフレームindustry_dataとして保存\n",
    "industry_data = financial_data_DuPont.groupby('industry_ID')[['PM', 'ATO']].median().reset_index()\n",
    "industry_data.columns = ['industry_ID', 'industry_median_PM', 'industry_median_ATO']\n",
    "\n",
    "# x軸をATO，y軸をPMとする散布図を描画\n",
    "plt.scatter(\n",
    "    industry_data['industry_median_ATO'], \n",
    "    industry_data['industry_median_PM']\n",
    ")\n",
    "plt.xlabel('Industry Median ATO')\n",
    "plt.ylabel('Industry Median PM')\n",
    "plt.show()"
   ]
  },
  {
   "cell_type": "code",
   "execution_count": 35,
   "metadata": {
    "colab": {
     "base_uri": "https://localhost:8080/",
     "height": 449
    },
    "executionInfo": {
     "elapsed": 705,
     "status": "ok",
     "timestamp": 1685606542569,
     "user": {
      "displayName": "Katsuhiko Muramiya",
      "userId": "14255974330568111549"
     },
     "user_tz": -540
    },
    "id": "GM2g5QGBif53",
    "outputId": "5afbf0e0-f9e1-4e28-ff19-d3074e4f5083"
   },
   "outputs": [
    {
     "data": {
      "image/png": "[encoded data removed]",
      "text/plain": [
       "<Figure size 640x480 with 1 Axes>"
      ]
     },
     "metadata": {},
     "output_type": "display_data"
    }
   ],
   "source": [
    "# ch04_44: ATOとPMが反比例するグラフを追加\n",
    "\n",
    "# 産業ごとにPMとATOの中央値を算出し，データフレームindustry_dataとして保存\n",
    "industry_data = financial_data_DuPont.groupby('industry_ID')[['PM', 'ATO']].median().reset_index()\n",
    "industry_data.columns = ['industry_ID', 'industry_median_PM', 'industry_median_ATO']\n",
    "\n",
    "# x軸をATO，y軸をPMとする散布図を描画\n",
    "plt.scatter(\n",
    "    industry_data['industry_median_ATO'], \n",
    "    industry_data['industry_median_PM']\n",
    ")\n",
    "plt.xlabel('Industry Median ATO')\n",
    "plt.ylabel('Industry Median PM')\n",
    "\n",
    "# 欠損値を除く全データに関してRNOAの中央値を計算\n",
    "median_RNOA = np.median(financial_data_DuPont['RNOA'].dropna())\n",
    "\n",
    "# ATOとPMが反比例するグラフを追加するため，industry_median_ATOの最小値から最大値まで100等分した等差数列を作成\n",
    "x_values = np.linspace(\n",
    "    industry_data['industry_median_ATO'].min(), \n",
    "    industry_data['industry_median_ATO'].max(), \n",
    "    100\n",
    ")  \n",
    "y_values = median_RNOA / x_values\n",
    "\n",
    "# ATOとPMが反比例するグラフを追加\n",
    "plt.plot(x_values, y_values, linestyle='dashed')\n",
    "\n",
    "plt.show()"
   ]
  },
  {
   "cell_type": "code",
   "execution_count": 36,
   "metadata": {
    "id": "gXYDOh5bi4-K"
   },
   "outputs": [],
   "source": [
    "# ch04_45: データの保存\n",
    "\n",
    "# pandasのto_csv()メソッドを使用してCSVに保存\n",
    "financial_data.to_csv('ch04_output.csv', index=False)  "
   ]
  },
  {
   "cell_type": "code",
   "execution_count": 37,
   "metadata": {},
   "outputs": [
    {
     "data": {
      "text/html": [
       "<details>\n",
       "<summary>Click to view session information</summary>\n",
       "<pre>\n",
       "-----\n",
       "matplotlib          3.8.0\n",
       "numpy               1.26.3\n",
       "pandas              2.2.0\n",
       "seaborn             0.13.2\n",
       "session_info        1.0.0\n",
       "-----\n",
       "IPython             8.20.0\n",
       "jupyter_client      8.6.0\n",
       "jupyter_core        5.5.0\n",
       "jupyterlab          4.0.11\n",
       "notebook            7.0.6\n",
       "-----\n",
       "Python 3.11.7 | packaged by conda-forge | (main, Dec 23 2023, 14:38:07) [Clang 16.0.6 ]\n",
       "macOS-14.3-arm64-arm-64bit\n",
       "-----\n",
       "Session information updated at 2024-02-04 08:19\n",
       "</pre>\n",
       "</details>"
      ],
      "text/plain": [
       "<IPython.core.display.HTML object>"
      ]
     },
     "execution_count": 37,
     "metadata": {},
     "output_type": "execute_result"
    }
   ],
   "source": [
    "# 以上のコードについて，動作確認をした実行環境の表示\n",
    "# 本セルは，実行環境の確認のためであり，無視してもらっても構わない\n",
    "import session_info\n",
    "session_info.show(dependencies=False)"
   ]
  }
 ],
 "metadata": {
  "colab": {
   "provenance": []
  },
  "kernelspec": {
   "display_name": "Python 3 (ipykernel)",
   "language": "python",
   "name": "python3"
  },
  "language_info": {
   "codemirror_mode": {
    "name": "ipython",
    "version": 3
   },
   "file_extension": ".py",
   "mimetype": "text/x-python",
   "name": "python",
   "nbconvert_exporter": "python",
   "pygments_lexer": "ipython3",
   "version": "3.11.7"
  }
 },
 "nbformat": 4,
 "nbformat_minor": 4
}
