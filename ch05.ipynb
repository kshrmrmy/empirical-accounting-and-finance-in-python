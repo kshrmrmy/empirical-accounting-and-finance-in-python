{
 "cells": [
  {
   "cell_type": "markdown",
   "metadata": {
    "id": "u70l37ptsUp-"
   },
   "source": [
    "## 第5章 株式データの取得と可視化\n",
    "\n",
    "### 5.1 Rを利用した株式データ分析入門\n",
    "\n",
    "#### 5.1.2 株価データのダウンロードと読み込み"
   ]
  },
  {
   "cell_type": "code",
   "execution_count": 1,
   "metadata": {
    "executionInfo": {
     "elapsed": 292,
     "status": "ok",
     "timestamp": 1686201141323,
     "user": {
      "displayName": "Katsuhiko Muramiya",
      "userId": "14255974330568111549"
     },
     "user_tz": -540
    },
    "id": "PO_udyiAsUqA"
   },
   "outputs": [],
   "source": [
    "# 本章で利用する以下のライブラリ・モジュールを読み込む\n",
    "import pandas as pd\n",
    "import numpy as np\n",
    "import matplotlib.pyplot as plt\n",
    "import matplotlib.ticker as mticker\n",
    "import seaborn as sns\n",
    "\n",
    "# ch05_32とch05_37で標本サイズの関係でUserWarningカテゴリの警告メッセージが出るので，それが表示されないように制御\n",
    "import warnings\n",
    "warnings.filterwarnings(\"ignore\")"
   ]
  },
  {
   "cell_type": "code",
   "execution_count": 2,
   "metadata": {
    "executionInfo": {
     "elapsed": 16,
     "status": "ok",
     "timestamp": 1686201144470,
     "user": {
      "displayName": "Katsuhiko Muramiya",
      "userId": "14255974330568111549"
     },
     "user_tz": -540
    },
    "id": "fCEZsdv6sUqB"
   },
   "outputs": [],
   "source": [
    "# ch05_01: 株式データの読み込み\n",
    "\n",
    "stock_data = pd.read_csv(\"ch05_stock_data.csv\")"
   ]
  },
  {
   "cell_type": "code",
   "execution_count": 3,
   "metadata": {
    "colab": {
     "base_uri": "https://localhost:8080/",
     "height": 424
    },
    "executionInfo": {
     "elapsed": 15,
     "status": "ok",
     "timestamp": 1686201144470,
     "user": {
      "displayName": "Katsuhiko Muramiya",
      "userId": "14255974330568111549"
     },
     "user_tz": -540
    },
    "id": "qzVqCaFjsUqB",
    "outputId": "62a7c507-5cf3-41a4-ae48-0ee9f91cbb6a"
   },
   "outputs": [
    {
     "data": {
      "text/html": [
       "<div>\n",
       "<style scoped>\n",
       "    .dataframe tbody tr th:only-of-type {\n",
       "        vertical-align: middle;\n",
       "    }\n",
       "\n",
       "    .dataframe tbody tr th {\n",
       "        vertical-align: top;\n",
       "    }\n",
       "\n",
       "    .dataframe thead th {\n",
       "        text-align: right;\n",
       "    }\n",
       "</style>\n",
       "<table border=\"1\" class=\"dataframe\">\n",
       "  <thead>\n",
       "    <tr style=\"text-align: right;\">\n",
       "      <th></th>\n",
       "      <th>year</th>\n",
       "      <th>month</th>\n",
       "      <th>month_ID</th>\n",
       "      <th>firm_ID</th>\n",
       "      <th>stock_price</th>\n",
       "      <th>DPS</th>\n",
       "      <th>shares_outstanding</th>\n",
       "      <th>adjustment_coefficient</th>\n",
       "      <th>R_F</th>\n",
       "    </tr>\n",
       "  </thead>\n",
       "  <tbody>\n",
       "    <tr>\n",
       "      <th>0</th>\n",
       "      <td>2015</td>\n",
       "      <td>1</td>\n",
       "      <td>1</td>\n",
       "      <td>1</td>\n",
       "      <td>954</td>\n",
       "      <td>0</td>\n",
       "      <td>2422000</td>\n",
       "      <td>1.0</td>\n",
       "      <td>0.000651</td>\n",
       "    </tr>\n",
       "    <tr>\n",
       "      <th>1</th>\n",
       "      <td>2015</td>\n",
       "      <td>2</td>\n",
       "      <td>2</td>\n",
       "      <td>1</td>\n",
       "      <td>960</td>\n",
       "      <td>0</td>\n",
       "      <td>2422000</td>\n",
       "      <td>1.0</td>\n",
       "      <td>0.000583</td>\n",
       "    </tr>\n",
       "    <tr>\n",
       "      <th>2</th>\n",
       "      <td>2015</td>\n",
       "      <td>3</td>\n",
       "      <td>3</td>\n",
       "      <td>1</td>\n",
       "      <td>1113</td>\n",
       "      <td>0</td>\n",
       "      <td>2422000</td>\n",
       "      <td>1.0</td>\n",
       "      <td>0.000611</td>\n",
       "    </tr>\n",
       "    <tr>\n",
       "      <th>3</th>\n",
       "      <td>2015</td>\n",
       "      <td>4</td>\n",
       "      <td>4</td>\n",
       "      <td>1</td>\n",
       "      <td>1081</td>\n",
       "      <td>0</td>\n",
       "      <td>2422000</td>\n",
       "      <td>1.0</td>\n",
       "      <td>0.000685</td>\n",
       "    </tr>\n",
       "    <tr>\n",
       "      <th>4</th>\n",
       "      <td>2015</td>\n",
       "      <td>5</td>\n",
       "      <td>5</td>\n",
       "      <td>1</td>\n",
       "      <td>1317</td>\n",
       "      <td>0</td>\n",
       "      <td>2422000</td>\n",
       "      <td>1.0</td>\n",
       "      <td>0.000737</td>\n",
       "    </tr>\n",
       "    <tr>\n",
       "      <th>...</th>\n",
       "      <td>...</td>\n",
       "      <td>...</td>\n",
       "      <td>...</td>\n",
       "      <td>...</td>\n",
       "      <td>...</td>\n",
       "      <td>...</td>\n",
       "      <td>...</td>\n",
       "      <td>...</td>\n",
       "      <td>...</td>\n",
       "    </tr>\n",
       "    <tr>\n",
       "      <th>95035</th>\n",
       "      <td>2020</td>\n",
       "      <td>8</td>\n",
       "      <td>68</td>\n",
       "      <td>1515</td>\n",
       "      <td>4580</td>\n",
       "      <td>0</td>\n",
       "      <td>8979000</td>\n",
       "      <td>1.0</td>\n",
       "      <td>0.000436</td>\n",
       "    </tr>\n",
       "    <tr>\n",
       "      <th>95036</th>\n",
       "      <td>2020</td>\n",
       "      <td>9</td>\n",
       "      <td>69</td>\n",
       "      <td>1515</td>\n",
       "      <td>5014</td>\n",
       "      <td>0</td>\n",
       "      <td>8979000</td>\n",
       "      <td>1.0</td>\n",
       "      <td>0.000463</td>\n",
       "    </tr>\n",
       "    <tr>\n",
       "      <th>95037</th>\n",
       "      <td>2020</td>\n",
       "      <td>10</td>\n",
       "      <td>70</td>\n",
       "      <td>1515</td>\n",
       "      <td>5090</td>\n",
       "      <td>0</td>\n",
       "      <td>8979000</td>\n",
       "      <td>1.0</td>\n",
       "      <td>0.000471</td>\n",
       "    </tr>\n",
       "    <tr>\n",
       "      <th>95038</th>\n",
       "      <td>2020</td>\n",
       "      <td>11</td>\n",
       "      <td>71</td>\n",
       "      <td>1515</td>\n",
       "      <td>5277</td>\n",
       "      <td>0</td>\n",
       "      <td>8979000</td>\n",
       "      <td>1.0</td>\n",
       "      <td>0.000494</td>\n",
       "    </tr>\n",
       "    <tr>\n",
       "      <th>95039</th>\n",
       "      <td>2020</td>\n",
       "      <td>12</td>\n",
       "      <td>72</td>\n",
       "      <td>1515</td>\n",
       "      <td>4559</td>\n",
       "      <td>68</td>\n",
       "      <td>8979000</td>\n",
       "      <td>1.0</td>\n",
       "      <td>0.000519</td>\n",
       "    </tr>\n",
       "  </tbody>\n",
       "</table>\n",
       "<p>95040 rows × 9 columns</p>\n",
       "</div>"
      ],
      "text/plain": [
       "       year  month  month_ID  firm_ID  stock_price  DPS  shares_outstanding  \\\n",
       "0      2015      1         1        1          954    0             2422000   \n",
       "1      2015      2         2        1          960    0             2422000   \n",
       "2      2015      3         3        1         1113    0             2422000   \n",
       "3      2015      4         4        1         1081    0             2422000   \n",
       "4      2015      5         5        1         1317    0             2422000   \n",
       "...     ...    ...       ...      ...          ...  ...                 ...   \n",
       "95035  2020      8        68     1515         4580    0             8979000   \n",
       "95036  2020      9        69     1515         5014    0             8979000   \n",
       "95037  2020     10        70     1515         5090    0             8979000   \n",
       "95038  2020     11        71     1515         5277    0             8979000   \n",
       "95039  2020     12        72     1515         4559   68             8979000   \n",
       "\n",
       "       adjustment_coefficient       R_F  \n",
       "0                         1.0  0.000651  \n",
       "1                         1.0  0.000583  \n",
       "2                         1.0  0.000611  \n",
       "3                         1.0  0.000685  \n",
       "4                         1.0  0.000737  \n",
       "...                       ...       ...  \n",
       "95035                     1.0  0.000436  \n",
       "95036                     1.0  0.000463  \n",
       "95037                     1.0  0.000471  \n",
       "95038                     1.0  0.000494  \n",
       "95039                     1.0  0.000519  \n",
       "\n",
       "[95040 rows x 9 columns]"
      ]
     },
     "metadata": {},
     "output_type": "display_data"
    }
   ],
   "source": [
    "# ch05_02: 株式データの目視\n",
    "\n",
    "# テキスト形式で表示したければprint(stock_data)とし，HTMLに整形して表示したければdisplay(stock_data)とする\n",
    "display(stock_data)  "
   ]
  },
  {
   "cell_type": "code",
   "execution_count": 4,
   "metadata": {
    "colab": {
     "base_uri": "https://localhost:8080/",
     "height": 175
    },
    "executionInfo": {
     "elapsed": 13,
     "status": "ok",
     "timestamp": 1686201144470,
     "user": {
      "displayName": "Katsuhiko Muramiya",
      "userId": "14255974330568111549"
     },
     "user_tz": -540
    },
    "id": "jYprBaOisUqC",
    "outputId": "de0e019d-a8d3-4714-d1e7-32cfef3cac50"
   },
   "outputs": [
    {
     "data": {
      "text/html": [
       "<div>\n",
       "<style scoped>\n",
       "    .dataframe tbody tr th:only-of-type {\n",
       "        vertical-align: middle;\n",
       "    }\n",
       "\n",
       "    .dataframe tbody tr th {\n",
       "        vertical-align: top;\n",
       "    }\n",
       "\n",
       "    .dataframe thead th {\n",
       "        text-align: right;\n",
       "    }\n",
       "</style>\n",
       "<table border=\"1\" class=\"dataframe\">\n",
       "  <thead>\n",
       "    <tr style=\"text-align: right;\">\n",
       "      <th></th>\n",
       "      <th>year</th>\n",
       "      <th>month</th>\n",
       "      <th>month_ID</th>\n",
       "      <th>firm_ID</th>\n",
       "      <th>stock_price</th>\n",
       "      <th>DPS</th>\n",
       "      <th>shares_outstanding</th>\n",
       "      <th>adjustment_coefficient</th>\n",
       "      <th>R_F</th>\n",
       "    </tr>\n",
       "  </thead>\n",
       "  <tbody>\n",
       "    <tr>\n",
       "      <th>26</th>\n",
       "      <td>2017</td>\n",
       "      <td>3</td>\n",
       "      <td>27</td>\n",
       "      <td>1</td>\n",
       "      <td>4371</td>\n",
       "      <td>0</td>\n",
       "      <td>2422000</td>\n",
       "      <td>1.0</td>\n",
       "      <td>-0.000070</td>\n",
       "    </tr>\n",
       "    <tr>\n",
       "      <th>27</th>\n",
       "      <td>2017</td>\n",
       "      <td>4</td>\n",
       "      <td>28</td>\n",
       "      <td>1</td>\n",
       "      <td>4082</td>\n",
       "      <td>0</td>\n",
       "      <td>2906000</td>\n",
       "      <td>1.2</td>\n",
       "      <td>-0.000060</td>\n",
       "    </tr>\n",
       "    <tr>\n",
       "      <th>28</th>\n",
       "      <td>2017</td>\n",
       "      <td>5</td>\n",
       "      <td>29</td>\n",
       "      <td>1</td>\n",
       "      <td>3478</td>\n",
       "      <td>0</td>\n",
       "      <td>2906000</td>\n",
       "      <td>1.0</td>\n",
       "      <td>-0.000155</td>\n",
       "    </tr>\n",
       "    <tr>\n",
       "      <th>29</th>\n",
       "      <td>2017</td>\n",
       "      <td>6</td>\n",
       "      <td>30</td>\n",
       "      <td>1</td>\n",
       "      <td>4317</td>\n",
       "      <td>43</td>\n",
       "      <td>2906000</td>\n",
       "      <td>1.0</td>\n",
       "      <td>-0.000202</td>\n",
       "    </tr>\n",
       "  </tbody>\n",
       "</table>\n",
       "</div>"
      ],
      "text/plain": [
       "    year  month  month_ID  firm_ID  stock_price  DPS  shares_outstanding  \\\n",
       "26  2017      3        27        1         4371    0             2422000   \n",
       "27  2017      4        28        1         4082    0             2906000   \n",
       "28  2017      5        29        1         3478    0             2906000   \n",
       "29  2017      6        30        1         4317   43             2906000   \n",
       "\n",
       "    adjustment_coefficient       R_F  \n",
       "26                     1.0 -0.000070  \n",
       "27                     1.2 -0.000060  \n",
       "28                     1.0 -0.000155  \n",
       "29                     1.0 -0.000202  "
      ]
     },
     "execution_count": 4,
     "metadata": {},
     "output_type": "execute_result"
    }
   ],
   "source": [
    "# ch05_03: 配当支払いや発行済株式数変化の例\n",
    "\n",
    "stock_data[(stock_data['firm_ID'] == 1) & \n",
    "           (stock_data['month_ID'].between(27, 30))]\n",
    "\n",
    "# 以下のコードでも同じ結果が得られる\n",
    "stock_data.loc[(stock_data['firm_ID'] == 1) & \n",
    "               (stock_data['month_ID'].between(27, 30))]\n",
    "stock_data.query('firm_ID == 1 & 27 <= month_ID <= 30')"
   ]
  },
  {
   "cell_type": "code",
   "execution_count": 5,
   "metadata": {
    "colab": {
     "base_uri": "https://localhost:8080/",
     "height": 175
    },
    "executionInfo": {
     "elapsed": 11,
     "status": "ok",
     "timestamp": 1686201144470,
     "user": {
      "displayName": "Katsuhiko Muramiya",
      "userId": "14255974330568111549"
     },
     "user_tz": -540
    },
    "id": "OI9P5YVRv-2_",
    "outputId": "7e3e33fe-79bd-4ce7-eb10-e37ded32707c"
   },
   "outputs": [
    {
     "data": {
      "text/html": [
       "<div>\n",
       "<style scoped>\n",
       "    .dataframe tbody tr th:only-of-type {\n",
       "        vertical-align: middle;\n",
       "    }\n",
       "\n",
       "    .dataframe tbody tr th {\n",
       "        vertical-align: top;\n",
       "    }\n",
       "\n",
       "    .dataframe thead th {\n",
       "        text-align: right;\n",
       "    }\n",
       "</style>\n",
       "<table border=\"1\" class=\"dataframe\">\n",
       "  <thead>\n",
       "    <tr style=\"text-align: right;\">\n",
       "      <th></th>\n",
       "      <th>year</th>\n",
       "      <th>month</th>\n",
       "      <th>month_ID</th>\n",
       "      <th>firm_ID</th>\n",
       "      <th>stock_price</th>\n",
       "      <th>DPS</th>\n",
       "      <th>shares_outstanding</th>\n",
       "      <th>adjustment_coefficient</th>\n",
       "      <th>R_F</th>\n",
       "    </tr>\n",
       "  </thead>\n",
       "  <tbody>\n",
       "    <tr>\n",
       "      <th>4492</th>\n",
       "      <td>2017</td>\n",
       "      <td>5</td>\n",
       "      <td>29</td>\n",
       "      <td>74</td>\n",
       "      <td>2816</td>\n",
       "      <td>0</td>\n",
       "      <td>4960000</td>\n",
       "      <td>1.0</td>\n",
       "      <td>0.000737</td>\n",
       "    </tr>\n",
       "    <tr>\n",
       "      <th>4493</th>\n",
       "      <td>2017</td>\n",
       "      <td>6</td>\n",
       "      <td>30</td>\n",
       "      <td>74</td>\n",
       "      <td>1402</td>\n",
       "      <td>11</td>\n",
       "      <td>9920000</td>\n",
       "      <td>2.0</td>\n",
       "      <td>0.000695</td>\n",
       "    </tr>\n",
       "    <tr>\n",
       "      <th>4494</th>\n",
       "      <td>2017</td>\n",
       "      <td>7</td>\n",
       "      <td>31</td>\n",
       "      <td>74</td>\n",
       "      <td>1420</td>\n",
       "      <td>0</td>\n",
       "      <td>9920000</td>\n",
       "      <td>1.0</td>\n",
       "      <td>0.000494</td>\n",
       "    </tr>\n",
       "    <tr>\n",
       "      <th>4495</th>\n",
       "      <td>2017</td>\n",
       "      <td>8</td>\n",
       "      <td>32</td>\n",
       "      <td>74</td>\n",
       "      <td>1502</td>\n",
       "      <td>0</td>\n",
       "      <td>9920000</td>\n",
       "      <td>1.0</td>\n",
       "      <td>0.000471</td>\n",
       "    </tr>\n",
       "  </tbody>\n",
       "</table>\n",
       "</div>"
      ],
      "text/plain": [
       "      year  month  month_ID  firm_ID  stock_price  DPS  shares_outstanding  \\\n",
       "4492  2017      5        29       74         2816    0             4960000   \n",
       "4493  2017      6        30       74         1402   11             9920000   \n",
       "4494  2017      7        31       74         1420    0             9920000   \n",
       "4495  2017      8        32       74         1502    0             9920000   \n",
       "\n",
       "      adjustment_coefficient       R_F  \n",
       "4492                     1.0  0.000737  \n",
       "4493                     2.0  0.000695  \n",
       "4494                     1.0  0.000494  \n",
       "4495                     1.0  0.000471  "
      ]
     },
     "execution_count": 5,
     "metadata": {},
     "output_type": "execute_result"
    }
   ],
   "source": [
    "# ch05_04: 調整係数が1以外の値を取る例\n",
    "\n",
    "stock_data[(stock_data['firm_ID'] == 74) & \n",
    "           (stock_data['month_ID'].between(29, 32))]"
   ]
  },
  {
   "cell_type": "markdown",
   "metadata": {
    "id": "VIypZdMIsUqC"
   },
   "source": [
    "### 5.2 時価総額とリターンの計算\n",
    "\n",
    "#### 5.2.1 時価総額の計算とヒストグラムによる可視化"
   ]
  },
  {
   "cell_type": "code",
   "execution_count": 6,
   "metadata": {
    "executionInfo": {
     "elapsed": 10,
     "status": "ok",
     "timestamp": 1686201144471,
     "user": {
      "displayName": "Katsuhiko Muramiya",
      "userId": "14255974330568111549"
     },
     "user_tz": -540
    },
    "id": "-Nt-NcpIsUqD"
   },
   "outputs": [],
   "source": [
    "# ch05_05: 時価総額の追加\n",
    "\n",
    "stock_data['ME'] = stock_data['stock_price'] * stock_data['shares_outstanding']"
   ]
  },
  {
   "cell_type": "code",
   "execution_count": 7,
   "metadata": {
    "executionInfo": {
     "elapsed": 9,
     "status": "ok",
     "timestamp": 1686201144471,
     "user": {
      "displayName": "Katsuhiko Muramiya",
      "userId": "14255974330568111549"
     },
     "user_tz": -540
    },
    "id": "N9nrhfE0sUqD"
   },
   "outputs": [
    {
     "data": {
      "image/png": "[encoded data removed]",
      "text/plain": [
       "<Figure size 640x480 with 1 Axes>"
      ]
     },
     "metadata": {},
     "output_type": "display_data"
    }
   ],
   "source": [
    "# ch05_06: 時価総額の分布をヒストグラムで可視化\n",
    "\n",
    "plt.hist(stock_data['ME'], bins='auto')  # ビン数は自動に設定\n",
    "plt.xlabel('Market Equity')\n",
    "plt.ylabel('Count')\n",
    "plt.xlim(0, np.quantile(stock_data['ME'], 0.95))  # x軸の上限を95%点に設定\n",
    "\n",
    "# 単位を100万円にした上で桁区切りのカンマを追加\n",
    "plt.gca().xaxis.set_major_formatter(mticker.FuncFormatter(lambda x, _: f'{x/1e6:,.0f}'))\n",
    "\n",
    "plt.show()"
   ]
  },
  {
   "cell_type": "markdown",
   "metadata": {
    "id": "pYkxpXdRsUqE"
   },
   "source": [
    "#### 5.2.2 トータル・リターンと超過リターンの計算"
   ]
  },
  {
   "cell_type": "code",
   "execution_count": 8,
   "metadata": {
    "executionInfo": {
     "elapsed": 9,
     "status": "ok",
     "timestamp": 1686201144471,
     "user": {
      "displayName": "Katsuhiko Muramiya",
      "userId": "14255974330568111549"
     },
     "user_tz": -540
    },
    "id": "QnQC-IJ_sUqF"
   },
   "outputs": [],
   "source": [
    "# ch05_07: 前月の株価を追加\n",
    "\n",
    "# firm_IDに関してグループ化し，前月の株価を新たな列lagged_stock_priceとして追加\n",
    "stock_data['lagged_stock_price'] = stock_data.groupby('firm_ID')['stock_price'].shift(1)"
   ]
  },
  {
   "cell_type": "code",
   "execution_count": 9,
   "metadata": {
    "executionInfo": {
     "elapsed": 435,
     "status": "ok",
     "timestamp": 1686201144898,
     "user": {
      "displayName": "Katsuhiko Muramiya",
      "userId": "14255974330568111549"
     },
     "user_tz": -540
    },
    "id": "b-ktZqNksUqF"
   },
   "outputs": [],
   "source": [
    "# ch05_08: 月次リターンの追加\n",
    "\n",
    "# firm_IDに関してグループ化し，前月の株価lagged_stock_priceを新たな列として追加\n",
    "stock_data['lagged_stock_price'] = stock_data.groupby('firm_ID')['stock_price'].shift(1)\n",
    "\n",
    "# (5.1)式に従って月次リターンRを計算して新たな列として追加\n",
    "# (5.1)式に従って月次リターンRを計算して新たな列として追加\n",
    "stock_data['R'] = ((stock_data['stock_price'] + stock_data['DPS']) *\n",
    "                   stock_data['adjustment_coefficient'] - \n",
    "                   stock_data['lagged_stock_price']\n",
    "                  ) / stock_data['lagged_stock_price']"
   ]
  },
  {
   "cell_type": "code",
   "execution_count": 10,
   "metadata": {
    "executionInfo": {
     "elapsed": 14,
     "status": "ok",
     "timestamp": 1686201144899,
     "user": {
      "displayName": "Katsuhiko Muramiya",
      "userId": "14255974330568111549"
     },
     "user_tz": -540
    },
    "id": "L5T62x_ssUqG"
   },
   "outputs": [],
   "source": [
    "# ch05_09: 月次超過リターンの追加\n",
    "\n",
    "stock_data['Re'] = stock_data['R'] - stock_data['R_F']"
   ]
  },
  {
   "cell_type": "markdown",
   "metadata": {
    "id": "9Lg2mNpLsUqH"
   },
   "source": [
    "#### 5.2.3 株式データの探索的データ分析"
   ]
  },
  {
   "cell_type": "code",
   "execution_count": 11,
   "metadata": {
    "colab": {
     "base_uri": "https://localhost:8080/"
    },
    "executionInfo": {
     "elapsed": 14,
     "status": "ok",
     "timestamp": 1686201144899,
     "user": {
      "displayName": "Katsuhiko Muramiya",
      "userId": "14255974330568111549"
     },
     "user_tz": -540
    },
    "id": "-T4GzIPNsUqH",
    "outputId": "ce0bfe33-0603-448e-8616-87f39b82bfc7"
   },
   "outputs": [
    {
     "data": {
      "text/plain": [
       "count    93525.000000\n",
       "mean         0.015859\n",
       "std          0.091131\n",
       "min         -0.380282\n",
       "25%         -0.040573\n",
       "50%          0.010332\n",
       "75%          0.064808\n",
       "max          0.514984\n",
       "Name: R, dtype: float64"
      ]
     },
     "execution_count": 11,
     "metadata": {},
     "output_type": "execute_result"
    }
   ],
   "source": [
    "# ch05_10: 月次リターンの要約統計量を確認\n",
    "\n",
    "stock_data['R'].describe()\n",
    "\n",
    "## count    93525.000000\n",
    "## mean         0.015859\n",
    "## std          0.091131\n",
    "## min         -0.380282\n",
    "## 25%         -0.040573\n",
    "## 50%          0.010332\n",
    "## 75%          0.064808\n",
    "## max          0.514984\n",
    "## Name: R, dtype: float64"
   ]
  },
  {
   "cell_type": "code",
   "execution_count": 12,
   "metadata": {
    "colab": {
     "base_uri": "https://localhost:8080/"
    },
    "executionInfo": {
     "elapsed": 10,
     "status": "ok",
     "timestamp": 1686201144899,
     "user": {
      "displayName": "Katsuhiko Muramiya",
      "userId": "14255974330568111549"
     },
     "user_tz": -540
    },
    "id": "F6RdZf0osUqH",
    "outputId": "a6043fde-ad4f-41d1-820d-c39cb592e009"
   },
   "outputs": [
    {
     "name": "stdout",
     "output_type": "stream",
     "text": [
      "0.09113097915533305\n",
      "0.09113097915533305\n",
      "0.008304855361809747\n"
     ]
    }
   ],
   "source": [
    "# ch05_11: 月次リターンの標準偏差と分散を計算\n",
    "\n",
    "# std()メソッドを使って標準偏差を計算し，print()関数で出力．\n",
    "print(stock_data['R'].std())  \n",
    "\n",
    "## 0.09113097915533305\n",
    "\n",
    "# skipna引数をTrueに指定すると明示的に欠損値を無視するように指定できるが，\n",
    "# std()メソッドはデフォルトでそれがTrueに設定されているため，上のコードのように書けば良い．\n",
    "print(stock_data['R'].std(skipna=True))  \n",
    "\n",
    "## 0.09113097915533305\n",
    "\n",
    "# var()メソッドを使って分散を計算し，print()関数で出力\n",
    "print(stock_data['R'].var())  \n",
    "\n",
    "## 0.008304855361809747"
   ]
  },
  {
   "cell_type": "code",
   "execution_count": 13,
   "metadata": {
    "colab": {
     "base_uri": "https://localhost:8080/"
    },
    "executionInfo": {
     "elapsed": 8,
     "status": "ok",
     "timestamp": 1686201144899,
     "user": {
      "displayName": "Katsuhiko Muramiya",
      "userId": "14255974330568111549"
     },
     "user_tz": -540
    },
    "id": "GA3bgN8asUqI",
    "outputId": "5cf7fa60-d58f-486e-dc7e-b6e64867a777"
   },
   "outputs": [
    {
     "name": "stdout",
     "output_type": "stream",
     "text": [
      "0.5065672110667648\n",
      "0.5065834606208761\n"
     ]
    }
   ],
   "source": [
    "# ch05_12: 月次リターンの歪度を計算\n",
    "\n",
    "# xというSeriesを与えると歪度を計算するユーザ定義関数skewness()を定義\n",
    "def skewness(x): \n",
    "    n = len(x)\n",
    "    mean_x = x.mean()\n",
    "    sd_x = x.std()  \n",
    "    return (1 / n) * ((x - mean_x) / sd_x).pow(3).sum()  # pow()メソッドは冪乗を計算し，pow(3)で与えられた数値の三乗を返す\n",
    "\n",
    "# dropna()メソッドを使って欠損値を削除した上でskewness()関数にRを代入\n",
    "print(skewness(stock_data['R'].dropna()))  \n",
    "\n",
    "## 0.5065672110667648\n",
    "\n",
    "# ユーザ定義関数を作成せずとも，pandasには歪度を計算するskew()メソッドが用意されている\n",
    "print(stock_data['R'].dropna().skew())  # ただし，ユーザ定義関数skewness()とは自由度が異なるため，計算結果に微妙な差異が生じる\n",
    "\n",
    "## 0.5065834606208761"
   ]
  },
  {
   "cell_type": "code",
   "execution_count": 14,
   "metadata": {
    "colab": {
     "base_uri": "https://localhost:8080/"
    },
    "executionInfo": {
     "elapsed": 6,
     "status": "ok",
     "timestamp": 1686201144899,
     "user": {
      "displayName": "Katsuhiko Muramiya",
      "userId": "14255974330568111549"
     },
     "user_tz": -540
    },
    "id": "rJNykqHPsUqJ",
    "outputId": "8a9b2f15-dcea-4b76-9674-ce266658016c"
   },
   "outputs": [
    {
     "name": "stdout",
     "output_type": "stream",
     "text": [
      "4.26804501360834\n",
      "1.2682682417191176\n"
     ]
    }
   ],
   "source": [
    "# ch05_13: 月次リターンの歪度を計算\n",
    "\n",
    "# xというSeriesを与えると尖度を計算するユーザ定義関数kurtosis()を定義\n",
    "def kurtosis(x): \n",
    "    n = len(x)\n",
    "    mean_x = x.mean()\n",
    "    sd_x = x.std()  \n",
    "    return (1 / n) * ((x - mean_x) / sd_x).pow(4).sum()\n",
    "\n",
    "print(kurtosis(stock_data['R'].dropna()))\n",
    "\n",
    "## 4.26804501360828\n",
    "\n",
    "# 尖度の計算については，kurt()メソッドが用意されている\n",
    "print(stock_data['R'].dropna().kurt())  # ただし，ユーザ定義関数kurtosiss()とは自由度が異なり，また，3を引くexcess kurtosisを返す\n",
    "\n",
    "## 1.2682682417191176"
   ]
  },
  {
   "cell_type": "code",
   "execution_count": 15,
   "metadata": {
    "colab": {
     "base_uri": "https://localhost:8080/",
     "height": 449
    },
    "executionInfo": {
     "elapsed": 310,
     "status": "ok",
     "timestamp": 1686201145205,
     "user": {
      "displayName": "Katsuhiko Muramiya",
      "userId": "14255974330568111549"
     },
     "user_tz": -540
    },
    "id": "UBt0g0xhsUqJ",
    "outputId": "44db4f32-861e-4dc0-aa57-602f78089873"
   },
   "outputs": [
    {
     "data": {
      "image/png": "[encoded data removed]",
      "text/plain": [
       "<Figure size 640x480 with 1 Axes>"
      ]
     },
     "metadata": {},
     "output_type": "display_data"
    }
   ],
   "source": [
    "# ch05_14: 月次リターンの分布をヒストグラムで可視化\n",
    "\n",
    "plt.hist(stock_data['R'], bins='auto') \n",
    "plt.xlabel(\"Monthly Stock Return\")\n",
    "plt.ylabel(\"Count\")\n",
    "plt.show()"
   ]
  },
  {
   "cell_type": "markdown",
   "metadata": {
    "id": "xHxLjE9qsUqK"
   },
   "source": [
    "### 5.3 リターンの累積\n",
    "\n",
    "#### 5.3.2 年次リターンの計算"
   ]
  },
  {
   "cell_type": "code",
   "execution_count": 16,
   "metadata": {
    "executionInfo": {
     "elapsed": 10768,
     "status": "ok",
     "timestamp": 1686201155967,
     "user": {
      "displayName": "Katsuhiko Muramiya",
      "userId": "14255974330568111549"
     },
     "user_tz": -540
    },
    "id": "qxMCefQqsUqK"
   },
   "outputs": [],
   "source": [
    "# ch05_15: 月次リターンを累積して年次リターンを計算 (1)\n",
    "\n",
    "# ユーザ定義関数を用いる場合\n",
    "def calculate_BHR(x):  # バイ・アンド・ホールド・リターンを計算するcalculate_BHR()関数を定義\n",
    "    return (1 + x).prod(skipna=False) - 1  # 欠損値NaNを無視せずに累積リターンを計算するため，skipna引数をFalseに\n",
    "\n",
    "annual_stock_data = stock_data.groupby(['firm_ID', 'year']).agg(\n",
    "    # firm_IDとyearでグループ化し，aggメソッドを適用\n",
    "    R=pd.NamedAgg(column='R', aggfunc=calculate_BHR),  # R列に対してcalculate_BHR()関数を適用\n",
    "    R_F=pd.NamedAgg(column='R_F', aggfunc=calculate_BHR)  # R_F列に対してcalculate_BHR()関数を適用\n",
    ")\n",
    "\n",
    "annual_stock_data['Re'] = annual_stock_data['R'] - annual_stock_data['R_F']  # 月次超過リターンを計算\n",
    "annual_stock_data = annual_stock_data.reset_index()  # データフレームannual_stock_dataのインデックスをリセット\n",
    "\n",
    "# apply関数とラムダ関数（無名関数）を使っても同様の結果が得られる\n",
    "annual_stock_data = stock_data.groupby(['firm_ID', 'year']).apply(\n",
    "    # firm_IDとyearでグループ化し，apply()関数を適用\n",
    "    lambda stock_data: pd.Series({\n",
    "        'R': (1 + stock_data['R']).prod(skipna=False) - 1,\n",
    "        'R_F': (1 + stock_data['R_F']).prod(skipna=False) - 1\n",
    "    })\n",
    ")\n",
    "\n",
    "annual_stock_data['Re'] = annual_stock_data['R'] - annual_stock_data['R_F']\n",
    "annual_stock_data = annual_stock_data.reset_index()  # データフレームannual_stock_dataのインデックスをリセット"
   ]
  },
  {
   "cell_type": "code",
   "execution_count": 17,
   "metadata": {
    "colab": {
     "base_uri": "https://localhost:8080/",
     "height": 424
    },
    "executionInfo": {
     "elapsed": 627,
     "status": "ok",
     "timestamp": 1686201156588,
     "user": {
      "displayName": "Katsuhiko Muramiya",
      "userId": "14255974330568111549"
     },
     "user_tz": -540
    },
    "id": "voIdcfe7s0JS",
    "outputId": "4a5c10f9-0277-484d-b0e9-b669b77bf8b7"
   },
   "outputs": [
    {
     "data": {
      "text/html": [
       "<div>\n",
       "<style scoped>\n",
       "    .dataframe tbody tr th:only-of-type {\n",
       "        vertical-align: middle;\n",
       "    }\n",
       "\n",
       "    .dataframe tbody tr th {\n",
       "        vertical-align: top;\n",
       "    }\n",
       "\n",
       "    .dataframe thead th {\n",
       "        text-align: right;\n",
       "    }\n",
       "</style>\n",
       "<table border=\"1\" class=\"dataframe\">\n",
       "  <thead>\n",
       "    <tr style=\"text-align: right;\">\n",
       "      <th></th>\n",
       "      <th>firm_ID</th>\n",
       "      <th>year</th>\n",
       "      <th>simple_cumulative_R</th>\n",
       "    </tr>\n",
       "  </thead>\n",
       "  <tbody>\n",
       "    <tr>\n",
       "      <th>0</th>\n",
       "      <td>1</td>\n",
       "      <td>2015</td>\n",
       "      <td>NaN</td>\n",
       "    </tr>\n",
       "    <tr>\n",
       "      <th>1</th>\n",
       "      <td>1</td>\n",
       "      <td>2016</td>\n",
       "      <td>0.758762</td>\n",
       "    </tr>\n",
       "    <tr>\n",
       "      <th>2</th>\n",
       "      <td>1</td>\n",
       "      <td>2017</td>\n",
       "      <td>0.671160</td>\n",
       "    </tr>\n",
       "    <tr>\n",
       "      <th>3</th>\n",
       "      <td>1</td>\n",
       "      <td>2018</td>\n",
       "      <td>-0.185560</td>\n",
       "    </tr>\n",
       "    <tr>\n",
       "      <th>4</th>\n",
       "      <td>1</td>\n",
       "      <td>2019</td>\n",
       "      <td>0.529912</td>\n",
       "    </tr>\n",
       "    <tr>\n",
       "      <th>...</th>\n",
       "      <td>...</td>\n",
       "      <td>...</td>\n",
       "      <td>...</td>\n",
       "    </tr>\n",
       "    <tr>\n",
       "      <th>7915</th>\n",
       "      <td>1515</td>\n",
       "      <td>2016</td>\n",
       "      <td>0.367209</td>\n",
       "    </tr>\n",
       "    <tr>\n",
       "      <th>7916</th>\n",
       "      <td>1515</td>\n",
       "      <td>2017</td>\n",
       "      <td>0.428109</td>\n",
       "    </tr>\n",
       "    <tr>\n",
       "      <th>7917</th>\n",
       "      <td>1515</td>\n",
       "      <td>2018</td>\n",
       "      <td>-0.084435</td>\n",
       "    </tr>\n",
       "    <tr>\n",
       "      <th>7918</th>\n",
       "      <td>1515</td>\n",
       "      <td>2019</td>\n",
       "      <td>0.558736</td>\n",
       "    </tr>\n",
       "    <tr>\n",
       "      <th>7919</th>\n",
       "      <td>1515</td>\n",
       "      <td>2020</td>\n",
       "      <td>-0.172356</td>\n",
       "    </tr>\n",
       "  </tbody>\n",
       "</table>\n",
       "<p>7920 rows × 3 columns</p>\n",
       "</div>"
      ],
      "text/plain": [
       "      firm_ID  year  simple_cumulative_R\n",
       "0           1  2015                  NaN\n",
       "1           1  2016             0.758762\n",
       "2           1  2017             0.671160\n",
       "3           1  2018            -0.185560\n",
       "4           1  2019             0.529912\n",
       "...       ...   ...                  ...\n",
       "7915     1515  2016             0.367209\n",
       "7916     1515  2017             0.428109\n",
       "7917     1515  2018            -0.084435\n",
       "7918     1515  2019             0.558736\n",
       "7919     1515  2020            -0.172356\n",
       "\n",
       "[7920 rows x 3 columns]"
      ]
     },
     "execution_count": 17,
     "metadata": {},
     "output_type": "execute_result"
    }
   ],
   "source": [
    "# ch05_16: 月次リターンを累積して年次リターンを計算 (2)\n",
    "\n",
    "# 月次リターンRの欠損値を無視して累積リターンを計算するときは，以下のようにシンプルに書ける\n",
    "stock_data.groupby(['firm_ID', 'year']).agg(\n",
    "    simple_cumulative_R=('R', 'sum')\n",
    ").reset_index()\n",
    "\n",
    "# このケースでは欠損値を無視しないため，以下のように改良する必要がある\n",
    "stock_data.groupby(['firm_ID', 'year']).agg(\n",
    "    simple_cumulative_R=pd.NamedAgg(column='R', aggfunc=lambda x: x.sum(skipna=False))\n",
    ").reset_index()"
   ]
  },
  {
   "cell_type": "markdown",
   "metadata": {
    "id": "5e9_B75ssUqK"
   },
   "source": [
    "### 5.4 株式データと財務データを組み合わせた分析\n",
    "\n",
    "#### 5.4.1 二つのデータセットの結合"
   ]
  },
  {
   "cell_type": "code",
   "execution_count": 18,
   "metadata": {
    "colab": {
     "base_uri": "https://localhost:8080/"
    },
    "executionInfo": {
     "elapsed": 23,
     "status": "ok",
     "timestamp": 1686201156589,
     "user": {
      "displayName": "Katsuhiko Muramiya",
      "userId": "14255974330568111549"
     },
     "user_tz": -540
    },
    "id": "3HikwnP_sUqK",
    "outputId": "4ff443ac-2108-4036-f00c-71a1f8f5e59e"
   },
   "outputs": [
    {
     "data": {
      "text/plain": [
       "95040"
      ]
     },
     "execution_count": 18,
     "metadata": {},
     "output_type": "execute_result"
    }
   ],
   "source": [
    "# ch05_17: 財務データと株式データの行数を確認\n",
    "\n",
    "financial_data = pd.read_csv('ch04_output.csv')\n",
    "\n",
    "len(financial_data)  # 年次財務データの行数\n",
    "\n",
    "## 7919\n",
    "\n",
    "len(annual_stock_data)  # 年次リターン・データの行数\n",
    "\n",
    "## 7920\n",
    "\n",
    "len(stock_data)  # 月次リターン・データの行数\n",
    "\n",
    "## 95040"
   ]
  },
  {
   "cell_type": "code",
   "execution_count": 19,
   "metadata": {
    "colab": {
     "base_uri": "https://localhost:8080/",
     "height": 424
    },
    "executionInfo": {
     "elapsed": 19,
     "status": "ok",
     "timestamp": 1686201156589,
     "user": {
      "displayName": "Katsuhiko Muramiya",
      "userId": "14255974330568111549"
     },
     "user_tz": -540
    },
    "id": "8DEtFNy4sUqK",
    "outputId": "e1f934fe-f089-4f7d-c482-939603bb4de4"
   },
   "outputs": [],
   "source": [
    "# ch05_18: 年次リターン・データと財務データの結合 (1)\n",
    "\n",
    "annual_data = pd.merge(annual_stock_data, financial_data, on=['firm_ID', 'year'], how='outer')\n",
    "\n",
    "# 以下のように書いても一緒\n",
    "annual_data = annual_stock_data.merge(financial_data, on=['firm_ID', 'year'], how='outer')"
   ]
  },
  {
   "cell_type": "markdown",
   "metadata": {},
   "source": [
    "**コードch05_19は，R言語特有のものであるため割愛**"
   ]
  },
  {
   "cell_type": "code",
   "execution_count": 20,
   "metadata": {
    "colab": {
     "base_uri": "https://localhost:8080/",
     "height": 468
    },
    "executionInfo": {
     "elapsed": 18,
     "status": "ok",
     "timestamp": 1686201156590,
     "user": {
      "displayName": "Katsuhiko Muramiya",
      "userId": "14255974330568111549"
     },
     "user_tz": -540
    },
    "id": "8wPO8YnnsUqL",
    "outputId": "aeb46055-71e5-45e9-f1ff-299ea4eba26a"
   },
   "outputs": [],
   "source": [
    "# ch05_20: 月次リターン・データと財務データの結合\n",
    "\n",
    "monthly_data = stock_data.merge(financial_data, on=['firm_ID', 'year'], how='outer')"
   ]
  },
  {
   "cell_type": "code",
   "execution_count": 21,
   "metadata": {
    "colab": {
     "base_uri": "https://localhost:8080/",
     "height": 143
    },
    "executionInfo": {
     "elapsed": 16,
     "status": "ok",
     "timestamp": 1686201156590,
     "user": {
      "displayName": "Katsuhiko Muramiya",
      "userId": "14255974330568111549"
     },
     "user_tz": -540
    },
    "id": "zRwuXtZ3sUqL",
    "outputId": "40b59934-4ecd-4d77-ee80-1eee9c3969f8"
   },
   "outputs": [
    {
     "data": {
      "text/html": [
       "<div>\n",
       "<style scoped>\n",
       "    .dataframe tbody tr th:only-of-type {\n",
       "        vertical-align: middle;\n",
       "    }\n",
       "\n",
       "    .dataframe tbody tr th {\n",
       "        vertical-align: top;\n",
       "    }\n",
       "\n",
       "    .dataframe thead th {\n",
       "        text-align: right;\n",
       "    }\n",
       "</style>\n",
       "<table border=\"1\" class=\"dataframe\">\n",
       "  <thead>\n",
       "    <tr style=\"text-align: right;\">\n",
       "      <th></th>\n",
       "      <th>firm_ID</th>\n",
       "      <th>stock_price</th>\n",
       "      <th>DPS</th>\n",
       "    </tr>\n",
       "  </thead>\n",
       "  <tbody>\n",
       "    <tr>\n",
       "      <th>0</th>\n",
       "      <td>1</td>\n",
       "      <td>120.0</td>\n",
       "      <td>5.0</td>\n",
       "    </tr>\n",
       "    <tr>\n",
       "      <th>1</th>\n",
       "      <td>2</td>\n",
       "      <td>500.0</td>\n",
       "      <td>NaN</td>\n",
       "    </tr>\n",
       "    <tr>\n",
       "      <th>2</th>\n",
       "      <td>3</td>\n",
       "      <td>NaN</td>\n",
       "      <td>10.0</td>\n",
       "    </tr>\n",
       "  </tbody>\n",
       "</table>\n",
       "</div>"
      ],
      "text/plain": [
       "   firm_ID  stock_price   DPS\n",
       "0        1        120.0   5.0\n",
       "1        2        500.0   NaN\n",
       "2        3          NaN  10.0"
      ]
     },
     "execution_count": 21,
     "metadata": {},
     "output_type": "execute_result"
    }
   ],
   "source": [
    "# ch05_21: full_join()関数による欠損値の処理\n",
    "\n",
    "A = pd.DataFrame({'firm_ID': [1, 2], 'stock_price': [120, 500]})\n",
    "B = pd.DataFrame({'firm_ID': [1, 3], 'DPS': [5, 10]})\n",
    "\n",
    "A.merge(B, how='outer', on='firm_ID')"
   ]
  },
  {
   "cell_type": "code",
   "execution_count": 22,
   "metadata": {
    "colab": {
     "base_uri": "https://localhost:8080/",
     "height": 81
    },
    "executionInfo": {
     "elapsed": 15,
     "status": "ok",
     "timestamp": 1686201156590,
     "user": {
      "displayName": "Katsuhiko Muramiya",
      "userId": "14255974330568111549"
     },
     "user_tz": -540
    },
    "id": "x-ZjJCossUqL",
    "outputId": "e8abfe9a-cec2-4fe9-b027-4caa889fff44"
   },
   "outputs": [
    {
     "data": {
      "text/html": [
       "<div>\n",
       "<style scoped>\n",
       "    .dataframe tbody tr th:only-of-type {\n",
       "        vertical-align: middle;\n",
       "    }\n",
       "\n",
       "    .dataframe tbody tr th {\n",
       "        vertical-align: top;\n",
       "    }\n",
       "\n",
       "    .dataframe thead th {\n",
       "        text-align: right;\n",
       "    }\n",
       "</style>\n",
       "<table border=\"1\" class=\"dataframe\">\n",
       "  <thead>\n",
       "    <tr style=\"text-align: right;\">\n",
       "      <th></th>\n",
       "      <th>firm_ID</th>\n",
       "      <th>stock_price</th>\n",
       "      <th>DPS</th>\n",
       "    </tr>\n",
       "  </thead>\n",
       "  <tbody>\n",
       "    <tr>\n",
       "      <th>0</th>\n",
       "      <td>1</td>\n",
       "      <td>120</td>\n",
       "      <td>5</td>\n",
       "    </tr>\n",
       "  </tbody>\n",
       "</table>\n",
       "</div>"
      ],
      "text/plain": [
       "   firm_ID  stock_price  DPS\n",
       "0        1          120    5"
      ]
     },
     "execution_count": 22,
     "metadata": {},
     "output_type": "execute_result"
    }
   ],
   "source": [
    "# ch05_22: inner_join()関数による欠損値の処理\n",
    "\n",
    "A.merge(B, how='inner', on='firm_ID')"
   ]
  },
  {
   "cell_type": "code",
   "execution_count": 23,
   "metadata": {
    "colab": {
     "base_uri": "https://localhost:8080/",
     "height": 112
    },
    "executionInfo": {
     "elapsed": 15,
     "status": "ok",
     "timestamp": 1686201156591,
     "user": {
      "displayName": "Katsuhiko Muramiya",
      "userId": "14255974330568111549"
     },
     "user_tz": -540
    },
    "id": "v0wR0eY6sUqL",
    "outputId": "6628fbde-365f-444a-b528-9a9a1424b35d"
   },
   "outputs": [
    {
     "data": {
      "text/html": [
       "<div>\n",
       "<style scoped>\n",
       "    .dataframe tbody tr th:only-of-type {\n",
       "        vertical-align: middle;\n",
       "    }\n",
       "\n",
       "    .dataframe tbody tr th {\n",
       "        vertical-align: top;\n",
       "    }\n",
       "\n",
       "    .dataframe thead th {\n",
       "        text-align: right;\n",
       "    }\n",
       "</style>\n",
       "<table border=\"1\" class=\"dataframe\">\n",
       "  <thead>\n",
       "    <tr style=\"text-align: right;\">\n",
       "      <th></th>\n",
       "      <th>firm_ID</th>\n",
       "      <th>stock_price</th>\n",
       "      <th>DPS</th>\n",
       "    </tr>\n",
       "  </thead>\n",
       "  <tbody>\n",
       "    <tr>\n",
       "      <th>0</th>\n",
       "      <td>1</td>\n",
       "      <td>120.0</td>\n",
       "      <td>5</td>\n",
       "    </tr>\n",
       "    <tr>\n",
       "      <th>1</th>\n",
       "      <td>3</td>\n",
       "      <td>NaN</td>\n",
       "      <td>10</td>\n",
       "    </tr>\n",
       "  </tbody>\n",
       "</table>\n",
       "</div>"
      ],
      "text/plain": [
       "   firm_ID  stock_price  DPS\n",
       "0        1        120.0    5\n",
       "1        3          NaN   10"
      ]
     },
     "execution_count": 23,
     "metadata": {},
     "output_type": "execute_result"
    }
   ],
   "source": [
    "# ch05_23: left_join()関数，及びright_join()関数による欠損値の処理\n",
    "\n",
    "A.merge(B, how='left', on='firm_ID')\n",
    "A.merge(B, how='right', on='firm_ID')"
   ]
  },
  {
   "cell_type": "markdown",
   "metadata": {
    "id": "72R1RWGZ2kAT"
   },
   "source": [
    "#### 5.4.2 結合後データの探索的データ分析とバブルチャートによる可視化"
   ]
  },
  {
   "cell_type": "code",
   "execution_count": 24,
   "metadata": {
    "executionInfo": {
     "elapsed": 14,
     "status": "ok",
     "timestamp": 1686201156591,
     "user": {
      "displayName": "Katsuhiko Muramiya",
      "userId": "14255974330568111549"
     },
     "user_tz": -540
    },
    "id": "NBMGpUIYsUqL"
   },
   "outputs": [],
   "source": [
    "# ch05_24: 年度末の時価総額を年次データに追加\n",
    "\n",
    "# 各年度末の時価総額を抽出し，year_end_MEとして定義\n",
    "year_end_ME = stock_data[stock_data['month'] == 12][['year', 'firm_ID', 'ME']].copy()\n",
    "\n",
    "# 年次データと結合\n",
    "annual_data = annual_data.merge(year_end_ME, how='outer', on=['year', 'firm_ID'])\n",
    "\n",
    "# 時価総額の単位を百万円に\n",
    "annual_data['ME'] = annual_data['ME'] / 1e6"
   ]
  },
  {
   "cell_type": "code",
   "execution_count": 25,
   "metadata": {
    "colab": {
     "base_uri": "https://localhost:8080/",
     "height": 455
    },
    "executionInfo": {
     "elapsed": 335,
     "status": "ok",
     "timestamp": 1686201156913,
     "user": {
      "displayName": "Katsuhiko Muramiya",
      "userId": "14255974330568111549"
     },
     "user_tz": -540
    },
    "id": "arsSd80CsUqL",
    "outputId": "6316426a-2bd9-4182-e711-853c2b382222"
   },
   "outputs": [
    {
     "data": {
      "image/png": "[encoded data removed]",
      "text/plain": [
       "<Figure size 640x480 with 2 Axes>"
      ]
     },
     "metadata": {},
     "output_type": "display_data"
    }
   ],
   "source": [
    "# ch05_25: 売上高・当期純利益・時価総額をバブルチャートで可視化\n",
    "\n",
    "# 描画したいデータを抽出し，filtered_dataとして定義\n",
    "filtered_data = annual_data[\n",
    "    (annual_data['year'] == 2015) & \n",
    "    (annual_data['firm_ID'].between(2, 20)) & \n",
    "    (annual_data['X'] > 0)\n",
    "].copy()\n",
    "\n",
    "# 描画する図をscatterとして定義\n",
    "scatter = plt.scatter(\n",
    "    np.log(filtered_data['sales']), \n",
    "    np.log(filtered_data['X']), \n",
    "    s=filtered_data['ME'] / 100,  # sはバブルの大きさを指定（100で除して適切な大きさに）\n",
    "    c=filtered_data['ME'],  # cはバブルの色を指定\n",
    "    alpha=0.4  # alphaはバブルの透明度を指定\n",
    ")\n",
    "\n",
    "# その他の設定\n",
    "plt.xlabel('log(Sales)')\n",
    "plt.ylabel('log(Net Income)')\n",
    "plt.colorbar(scatter, label='Market Equity')\n",
    "\n",
    "# x軸の範囲をlog(sales)の最小値から1を引いた値と，最大値に1を足した値とする\n",
    "plt.xlim([\n",
    "    np.log(filtered_data['sales']).min() - 1,\n",
    "    np.log(filtered_data['sales']).max() + 1\n",
    "])\n",
    "\n",
    "# y軸の範囲をlog(X)の最小値から1を引いた値と，最大値に1を足した値とする\n",
    "plt.ylim([\n",
    "    np.log(filtered_data['X']).min() - 1, \n",
    "    np.log(filtered_data['X']).max() + 1\n",
    "])\n",
    "\n",
    "plt.show()"
   ]
  },
  {
   "cell_type": "markdown",
   "metadata": {
    "id": "MXMh23CfsUqL"
   },
   "source": [
    "### 5.5 統計的推論入門\n",
    "\n",
    "#### 5.5.1 リターン・データに関する仮定"
   ]
  },
  {
   "cell_type": "code",
   "execution_count": 26,
   "metadata": {
    "colab": {
     "base_uri": "https://localhost:8080/",
     "height": 449
    },
    "executionInfo": {
     "elapsed": 527,
     "status": "ok",
     "timestamp": 1686201157438,
     "user": {
      "displayName": "Katsuhiko Muramiya",
      "userId": "14255974330568111549"
     },
     "user_tz": -540
    },
    "id": "7w8S01LPsUqM",
    "outputId": "405b13b6-1336-49ec-f101-c5d8364ee9c6"
   },
   "outputs": [
    {
     "data": {
      "image/png": "[encoded data removed]",
      "text/plain": [
       "<Figure size 640x480 with 1 Axes>"
      ]
     },
     "metadata": {},
     "output_type": "display_data"
    }
   ],
   "source": [
    "# ch05_26: firm_IDが1の企業の月次超過リターンを折れ線グラフで可視化\n",
    "\n",
    "firm_1 = stock_data[stock_data['firm_ID'] == 1]  # firm_IDが1の企業のデータのみ抽出\n",
    "\n",
    "plt.plot(firm_1['month_ID'], firm_1['Re'])  # x軸にmonth_ID, y軸に月次超過リターンを表示\n",
    "plt.xlabel('Month ID')\n",
    "plt.ylabel(\"Firm 1's Monthly Excess Return\")\n",
    "plt.show()"
   ]
  },
  {
   "cell_type": "code",
   "execution_count": 27,
   "metadata": {
    "colab": {
     "base_uri": "https://localhost:8080/",
     "height": 449
    },
    "executionInfo": {
     "elapsed": 792,
     "status": "ok",
     "timestamp": 1686201158223,
     "user": {
      "displayName": "Katsuhiko Muramiya",
      "userId": "14255974330568111549"
     },
     "user_tz": -540
    },
    "id": "LB6_OvXXsUqM",
    "outputId": "c316c086-6904-493d-c9e5-1ec466462d8c"
   },
   "outputs": [
    {
     "data": {
      "image/png": "[encoded data removed]",
      "text/plain": [
       "<Figure size 640x480 with 1 Axes>"
      ]
     },
     "metadata": {},
     "output_type": "display_data"
    }
   ],
   "source": [
    "# ch05_27: firm_IDが1の企業の月次超過リターンをヒストグラムで可視化\n",
    "\n",
    "plt.hist(firm_1['Re'], bins=35)  # Rでのアウトプットに近付けるため，bins引数はautoとせず，35に設定\n",
    "plt.xlabel(\"Firm 1's Monthly Excess Return\")\n",
    "plt.ylabel('Count')\n",
    "plt.show()"
   ]
  },
  {
   "cell_type": "markdown",
   "metadata": {
    "id": "GIGRcKpPsUqM"
   },
   "source": [
    "#### 5.5.2 推定量と推定値の違い"
   ]
  },
  {
   "cell_type": "code",
   "execution_count": 28,
   "metadata": {
    "colab": {
     "base_uri": "https://localhost:8080/"
    },
    "executionInfo": {
     "elapsed": 17,
     "status": "ok",
     "timestamp": 1686201158224,
     "user": {
      "displayName": "Katsuhiko Muramiya",
      "userId": "14255974330568111549"
     },
     "user_tz": -540
    },
    "id": "FnM4xOo8sUqM",
    "outputId": "ee30242f-9139-40a9-944a-483a2213071f"
   },
   "outputs": [
    {
     "data": {
      "text/plain": [
       "0.029060575062250803"
      ]
     },
     "execution_count": 28,
     "metadata": {},
     "output_type": "execute_result"
    }
   ],
   "source": [
    "# ch05_28: firm_IDが1の企業の平均月次超過リターンを計算\n",
    "\n",
    "firm_1['Re'].mean()\n",
    "\n",
    "## 0.029060575062250803"
   ]
  },
  {
   "cell_type": "markdown",
   "metadata": {
    "id": "GNN_56gksUqN"
   },
   "source": [
    "#### 5.5.3 $t$値の計算"
   ]
  },
  {
   "cell_type": "code",
   "execution_count": 29,
   "metadata": {
    "executionInfo": {
     "elapsed": 14,
     "status": "ok",
     "timestamp": 1686201158224,
     "user": {
      "displayName": "Katsuhiko Muramiya",
      "userId": "14255974330568111549"
     },
     "user_tz": -540
    },
    "id": "2QNOTReCsUqN"
   },
   "outputs": [],
   "source": [
    "# ch05_29: 月次超過リターンの期待値に関するt検定 (1)\n",
    "\n",
    "Re_firm_ID_1 = firm_1['Re'].dropna().to_numpy()  # 欠損値を削除した上で，NumPy配列に変換\n",
    "\n",
    "mu0 = 0  # 帰無仮説を期待値0と設定\n",
    "n = len(Re_firm_ID_1)  # 標本サイズ\n",
    "\n",
    "t_value = (np.mean(Re_firm_ID_1) - mu0) / np.sqrt(np.var(Re_firm_ID_1) / n)  # 定義に従ってt値を計算\n",
    "\n",
    "## 2.136394204246432"
   ]
  },
  {
   "cell_type": "markdown",
   "metadata": {
    "id": "uoQJasnhsUqN"
   },
   "source": [
    "#### 5.5.4 統計的検定の考え方"
   ]
  },
  {
   "cell_type": "code",
   "execution_count": 30,
   "metadata": {
    "colab": {
     "base_uri": "https://localhost:8080/"
    },
    "executionInfo": {
     "elapsed": 13,
     "status": "ok",
     "timestamp": 1686201158224,
     "user": {
      "displayName": "Katsuhiko Muramiya",
      "userId": "14255974330568111549"
     },
     "user_tz": -540
    },
    "id": "JsxOW3U2sUqN",
    "outputId": "db8fb596-c986-4628-8175-c1568965ab95"
   },
   "outputs": [
    {
     "data": {
      "text/plain": [
       "(2.121295822799344, 0.03743972152173369)"
      ]
     },
     "execution_count": 30,
     "metadata": {},
     "output_type": "execute_result"
    }
   ],
   "source": [
    "# ch05_30: 月次超過リターンの期待値に関するt検定 (2)\n",
    "\n",
    "import scipy.stats as stats  # SciPyの統計関数を使用するためのモジュールを読み込み\n",
    "\n",
    "t_stat, p_value = stats.ttest_1samp(Re_firm_ID_1, popmean=0)\n",
    "t_stat, p_value\n",
    "\n",
    "## (2.121295822799344, 0.03743972152173369)"
   ]
  },
  {
   "cell_type": "markdown",
   "metadata": {
    "id": "5eQfmj1vsUqN"
   },
   "source": [
    "### 5.6 線形回帰入門\n",
    "\n",
    "#### 5.6.1 線形回帰の概要"
   ]
  },
  {
   "cell_type": "code",
   "execution_count": 31,
   "metadata": {
    "colab": {
     "base_uri": "https://localhost:8080/",
     "height": 449
    },
    "executionInfo": {
     "elapsed": 11,
     "status": "ok",
     "timestamp": 1686201158224,
     "user": {
      "displayName": "Katsuhiko Muramiya",
      "userId": "14255974330568111549"
     },
     "user_tz": -540
    },
    "id": "S2OBMVRMsUqN",
    "outputId": "7cc87506-b7f9-49c1-8f0c-1ce5c5e2033c"
   },
   "outputs": [
    {
     "data": {
      "image/png": "[encoded data removed]",
      "text/plain": [
       "<Figure size 640x480 with 1 Axes>"
      ]
     },
     "metadata": {},
     "output_type": "display_data"
    }
   ],
   "source": [
    "# ch05_31: 簿価時価比率と株式リターンの関係を可視化\n",
    "\n",
    "annual_data['lagged_ME'] = annual_data.groupby('firm_ID')['ME'].shift(1)  # 前年度の時価総額をlagged_MEとして定義\n",
    "annual_data['lagged_BEME'] = annual_data['lagged_BE'] / annual_data['lagged_ME']  # 企業ごとに前年度の簿価時価比率を計算\n",
    "\n",
    "# firm_IDが1から10までの企業の2016年のデータを抽出して，lm_sample_dataとして定義\n",
    "lm_sample_data = annual_data[\n",
    "    (annual_data['year'] == 2016) & \n",
    "    (annual_data['firm_ID'] <= 10)\n",
    "].copy()  \n",
    "\n",
    "lm_sample_data = lm_sample_data[['firm_ID', 'year', 'Re', 'lagged_BEME']].dropna()  # 欠損データを削除し，必要な列のみ抽出\n",
    "\n",
    "# x軸に簿価時価比率，y軸に超過リターンを配置した散布図を描画\n",
    "plt.scatter(\n",
    "    lm_sample_data['lagged_BEME'], \n",
    "    lm_sample_data['Re']\n",
    ")\n",
    "plt.xlabel(\"BE/ME at the End of Year t\")\n",
    "plt.ylabel(\"Excess Return for Year t + 1\")\n",
    "plt.show()"
   ]
  },
  {
   "cell_type": "code",
   "execution_count": 32,
   "metadata": {
    "colab": {
     "base_uri": "https://localhost:8080/",
     "height": 938
    },
    "executionInfo": {
     "elapsed": 10,
     "status": "ok",
     "timestamp": 1686201158224,
     "user": {
      "displayName": "Katsuhiko Muramiya",
      "userId": "14255974330568111549"
     },
     "user_tz": -540
    },
    "id": "tl9BDVKssUqO",
    "outputId": "de54e036-695d-49fc-8290-1f4878cb5845"
   },
   "outputs": [
    {
     "name": "stdout",
     "output_type": "stream",
     "text": [
      "                            OLS Regression Results                            \n",
      "==============================================================================\n",
      "Dep. Variable:                     Re   R-squared:                       0.118\n",
      "Model:                            OLS   Adj. R-squared:                 -0.029\n",
      "Method:                 Least Squares   F-statistic:                    0.8002\n",
      "Date:                Sun, 04 Feb 2024   Prob (F-statistic):              0.405\n",
      "Time:                        08:24:09   Log-Likelihood:                 1.8149\n",
      "No. Observations:                   8   AIC:                            0.3702\n",
      "Df Residuals:                       6   BIC:                            0.5291\n",
      "Df Model:                           1                                         \n",
      "Covariance Type:            nonrobust                                         \n",
      "===============================================================================\n",
      "                  coef    std err          t      P>|t|      [0.025      0.975]\n",
      "-------------------------------------------------------------------------------\n",
      "Intercept       0.0551      0.156      0.354      0.736      -0.326       0.436\n",
      "lagged_BEME     0.0755      0.084      0.895      0.405      -0.131       0.282\n",
      "==============================================================================\n",
      "Omnibus:                        0.328   Durbin-Watson:                   1.808\n",
      "Prob(Omnibus):                  0.849   Jarque-Bera (JB):                0.414\n",
      "Skew:                           0.079   Prob(JB):                        0.813\n",
      "Kurtosis:                       1.897   Cond. No.                         4.50\n",
      "==============================================================================\n",
      "\n",
      "Notes:\n",
      "[1] Standard Errors assume that the covariance matrix of the errors is correctly specified.\n"
     ]
    },
    {
     "data": {
      "image/png": "[encoded data removed]",
      "text/plain": [
       "<Figure size 640x480 with 1 Axes>"
      ]
     },
     "metadata": {},
     "output_type": "display_data"
    }
   ],
   "source": [
    "# ch05_32: 簿価時価比率と株式リターンの散布図に回帰直線を追加\n",
    "\n",
    "import statsmodels.formula.api as smf  # 統計モデルを構築・分析するためのモジュールをインポート\n",
    "\n",
    "# 回帰結果をlm_resultsに表示し，推定結果の概要を確認\n",
    "lm_results = smf.ols('Re ~ lagged_BEME', data=lm_sample_data).fit()\n",
    "print(lm_results.summary())  # summary()メソッドを用いて，回帰結果の概要を表示\n",
    "\n",
    "# 回帰直線を追加した散布図を描画\n",
    "plt.scatter(\n",
    "    lm_sample_data['lagged_BEME'],\n",
    "    lm_sample_data['Re']\n",
    ")\n",
    "plt.plot(\n",
    "    lm_sample_data['lagged_BEME'],\n",
    "    lm_results.predict()\n",
    ")  # predict()メソッドを使って回帰直線を追加\n",
    "plt.xlabel(\"BE/ME at the End of Year t\")\n",
    "plt.ylabel(\"Excess Return for Year t + 1\")\n",
    "plt.show()"
   ]
  },
  {
   "cell_type": "markdown",
   "metadata": {},
   "source": [
    "**コードch05_33からコードch05_36は，R言語特有のものであるため割愛**"
   ]
  },
  {
   "cell_type": "markdown",
   "metadata": {
    "id": "brYIKQXVsUqO"
   },
   "source": [
    "#### 5.6.2 最小二乗推定量"
   ]
  },
  {
   "cell_type": "markdown",
   "metadata": {
    "id": "kLrGPtOxsUqO"
   },
   "source": [
    "#### 5.6.3 線形回帰モデルの解釈"
   ]
  },
  {
   "cell_type": "markdown",
   "metadata": {
    "id": "P3eYSX7QsUqP"
   },
   "source": [
    "#### 5.6.4 対数回帰モデル"
   ]
  },
  {
   "cell_type": "code",
   "execution_count": 33,
   "metadata": {
    "colab": {
     "base_uri": "https://localhost:8080/"
    },
    "executionInfo": {
     "elapsed": 435,
     "status": "ok",
     "timestamp": 1686201304986,
     "user": {
      "displayName": "Katsuhiko Muramiya",
      "userId": "14255974330568111549"
     },
     "user_tz": -540
    },
    "id": "vuh9OBd9sUqP",
    "outputId": "cfc2e501-5dcc-448d-b216-dd99da6d0d6e"
   },
   "outputs": [
    {
     "data": {
      "text/html": [
       "<div>\n",
       "<style scoped>\n",
       "    .dataframe tbody tr th:only-of-type {\n",
       "        vertical-align: middle;\n",
       "    }\n",
       "\n",
       "    .dataframe tbody tr th {\n",
       "        vertical-align: top;\n",
       "    }\n",
       "\n",
       "    .dataframe thead th {\n",
       "        text-align: right;\n",
       "    }\n",
       "</style>\n",
       "<table border=\"1\" class=\"dataframe\">\n",
       "  <thead>\n",
       "    <tr style=\"text-align: right;\">\n",
       "      <th></th>\n",
       "      <th>Coef.</th>\n",
       "      <th>Std.Err.</th>\n",
       "      <th>t</th>\n",
       "      <th>P&gt;|t|</th>\n",
       "      <th>[0.025</th>\n",
       "      <th>0.975]</th>\n",
       "    </tr>\n",
       "  </thead>\n",
       "  <tbody>\n",
       "    <tr>\n",
       "      <th>Intercept</th>\n",
       "      <td>0.167208</td>\n",
       "      <td>0.086827</td>\n",
       "      <td>1.925758</td>\n",
       "      <td>0.102445</td>\n",
       "      <td>-0.045250</td>\n",
       "      <td>0.379667</td>\n",
       "    </tr>\n",
       "    <tr>\n",
       "      <th>np.log(lagged_BEME)</th>\n",
       "      <td>0.035517</td>\n",
       "      <td>0.109113</td>\n",
       "      <td>0.325502</td>\n",
       "      <td>0.755853</td>\n",
       "      <td>-0.231474</td>\n",
       "      <td>0.302507</td>\n",
       "    </tr>\n",
       "  </tbody>\n",
       "</table>\n",
       "</div>"
      ],
      "text/plain": [
       "                        Coef.  Std.Err.         t     P>|t|    [0.025  \\\n",
       "Intercept            0.167208  0.086827  1.925758  0.102445 -0.045250   \n",
       "np.log(lagged_BEME)  0.035517  0.109113  0.325502  0.755853 -0.231474   \n",
       "\n",
       "                       0.975]  \n",
       "Intercept            0.379667  \n",
       "np.log(lagged_BEME)  0.302507  "
      ]
     },
     "metadata": {},
     "output_type": "display_data"
    }
   ],
   "source": [
    "# ch05_37: 線形・対数モデルによる推定\n",
    "\n",
    "lm_results = smf.ols('Re ~ np.log(lagged_BEME)', data=lm_sample_data).fit()\n",
    "\n",
    "# 係数推定値やt値などを一つのデータフレームdfに集約\n",
    "df = lm_results.summary2().tables[1]\n",
    "\n",
    "display(df)"
   ]
  },
  {
   "cell_type": "code",
   "execution_count": 34,
   "metadata": {},
   "outputs": [],
   "source": [
    "# ch05_38: データの保存\n",
    "\n",
    "monthly_data.to_csv(\"ch05_output1.csv\", index=False)\n",
    "annual_data.to_csv(\"ch05_output2.csv\", index=False)"
   ]
  },
  {
   "cell_type": "code",
   "execution_count": 35,
   "metadata": {},
   "outputs": [
    {
     "data": {
      "text/html": [
       "<details>\n",
       "<summary>Click to view session information</summary>\n",
       "<pre>\n",
       "-----\n",
       "matplotlib          3.8.0\n",
       "numpy               1.26.3\n",
       "pandas              2.2.0\n",
       "scipy               1.11.4\n",
       "seaborn             0.13.2\n",
       "session_info        1.0.0\n",
       "statsmodels         0.14.0\n",
       "-----\n",
       "IPython             8.20.0\n",
       "jupyter_client      8.6.0\n",
       "jupyter_core        5.5.0\n",
       "jupyterlab          4.0.11\n",
       "notebook            7.0.6\n",
       "-----\n",
       "Python 3.11.7 | packaged by conda-forge | (main, Dec 23 2023, 14:38:07) [Clang 16.0.6 ]\n",
       "macOS-14.3-arm64-arm-64bit\n",
       "-----\n",
       "Session information updated at 2024-02-04 08:24\n",
       "</pre>\n",
       "</details>"
      ],
      "text/plain": [
       "<IPython.core.display.HTML object>"
      ]
     },
     "execution_count": 35,
     "metadata": {},
     "output_type": "execute_result"
    }
   ],
   "source": [
    "# 以上のコードについて，動作確認をした実行環境の表示\n",
    "# 本セルは，実行環境の確認のためであり，無視してもらっても構わない\n",
    "import session_info\n",
    "session_info.show(dependencies=False)"
   ]
  }
 ],
 "metadata": {
  "colab": {
   "provenance": []
  },
  "kernelspec": {
   "display_name": "Python 3 (ipykernel)",
   "language": "python",
   "name": "python3"
  },
  "language_info": {
   "codemirror_mode": {
    "name": "ipython",
    "version": 3
   },
   "file_extension": ".py",
   "mimetype": "text/x-python",
   "name": "python",
   "nbconvert_exporter": "python",
   "pygments_lexer": "ipython3",
   "version": "3.11.7"
  }
 },
 "nbformat": 4,
 "nbformat_minor": 4
}
